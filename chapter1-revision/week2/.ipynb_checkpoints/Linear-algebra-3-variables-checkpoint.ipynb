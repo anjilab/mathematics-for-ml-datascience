{
 "cells": [
  {
   "cell_type": "markdown",
   "id": "ec9cd3b1-ad3c-4826-9bf2-d2fc14db0d8c",
   "metadata": {},
   "source": [
    "To solve the linear equation of 3 variables, we need 2 equation. When 3 equation are provided, we can solve via using matrices."
   ]
  },
  {
   "cell_type": "code",
   "execution_count": 2,
   "id": "f7f47fdb-8a6c-4250-818e-cca3378cd631",
   "metadata": {},
   "outputs": [],
   "source": [
    "import numpy as np"
   ]
  },
  {
   "cell_type": "code",
   "execution_count": 27,
   "id": "3445ad70-74db-4ccd-b70e-12a6200dc0c6",
   "metadata": {},
   "outputs": [
    {
     "name": "stdout",
     "output_type": "stream",
     "text": [
      "The shape of A: [[ 4 -3  1]\n",
      " [ 2  1  3]\n",
      " [-1  2 -5]] (3, 3) (3, 3)\n",
      "The shape of B: [-10   0  17] (3,) (3,)\n",
      "The solution for x: [ 1.  4. -2.]\n"
     ]
    }
   ],
   "source": [
    "A = np.array([[4,-3,1],[2,1,3],[-1,2,-5]])\n",
    "B = np.array([-10,0,17])\n",
    "x = np.linalg.solve(A,B)\n",
    "print(\"The shape of A:\", A, A.shape, np.shape(A))\n",
    "print(\"The shape of B:\",B,  B.shape, np.shape(B))\n",
    "print(\"The solution for x:\", x)"
   ]
  },
  {
   "cell_type": "code",
   "execution_count": null,
   "id": "abd5e362-f85c-44c3-ab67-772707e74f70",
   "metadata": {},
   "outputs": [],
   "source": [
    "# To calculate determinant, we need square matrix: Since A is square matrix: no of rows =  no of cols"
   ]
  },
  {
   "cell_type": "code",
   "execution_count": 15,
   "id": "e582fc89-765c-47bb-b895-c60527dbd7ae",
   "metadata": {},
   "outputs": [
    {
     "name": "stdout",
     "output_type": "stream",
     "text": [
      "-60.000000000000036\n"
     ]
    }
   ],
   "source": [
    "det_A  = np.linalg.det(A)\n",
    "print(det_A)\n",
    "# print(np.linalg.det(B)) # Throws error."
   ]
  },
  {
   "cell_type": "code",
   "execution_count": 18,
   "id": "74e1000b-2ee1-44b0-b57b-3da4070c3789",
   "metadata": {},
   "outputs": [],
   "source": [
    "# To find the value of unknowns variable, we can use row reduction process. For row reduction, stack the B matrix with A matrix"
   ]
  },
  {
   "cell_type": "code",
   "execution_count": 24,
   "id": "1315e1be-75ec-40d0-9459-91020945e02d",
   "metadata": {},
   "outputs": [
    {
     "name": "stdout",
     "output_type": "stream",
     "text": [
      "[[  4  -3   1 -10]\n",
      " [  2   1   3   0]\n",
      " [ -1   2  -5  17]]\n"
     ]
    }
   ],
   "source": [
    "A_system = np.hstack((A, B.reshape(3,1)))\n",
    "print(A_system)"
   ]
  },
  {
   "cell_type": "markdown",
   "id": "043f49b4-d561-4c2f-8582-c5893f81dbfd",
   "metadata": {},
   "source": [
    "During row reduction process, we can perform:\n",
    "1. Multiplying any rows with non-zero number\n",
    "2. Adding two rows and exchaning one of the rows with the result of addition\n",
    "3. Swapping rows\n",
    "This method is also used to find rank of the matrix. In case of 3*3 matrix, making last rows with two zeros, finds the value of third variable, using that 3rd variable, if we make second row with 2 variable equation we can find next variable utilising third variable. After finding 3rd and 2nd we can get 1st variable. This is the way we use row-echelon method to find rank: number of non-zero rows after row reduction."
   ]
  },
  {
   "cell_type": "code",
   "execution_count": 38,
   "id": "6c1c5253-5166-4409-93c0-34297e4a89c4",
   "metadata": {},
   "outputs": [
    {
     "name": "stdout",
     "output_type": "stream",
     "text": [
      "[[  4  -3   1 -10]\n",
      " [  4   2   6   0]\n",
      " [ -1   2  -5  17]]\n"
     ]
    }
   ],
   "source": [
    "def multiply_rows(matrix_to_be_multiplied, multiplier, row_number):\n",
    "    matrix_to_be_multiplied_copy = matrix_to_be_multiplied.copy()\n",
    "    matrix_to_be_multiplied_copy[row_number] = matrix_to_be_multiplied[row_number] * multiplier\n",
    "    return matrix_to_be_multiplied_copy\n",
    "\n",
    "print(multiply_rows(A_system, 2, 1))\n",
    "    "
   ]
  },
  {
   "cell_type": "code",
   "execution_count": 64,
   "id": "6b028c4f-dfb4-4855-90a9-2a5e86018d59",
   "metadata": {},
   "outputs": [
    {
     "name": "stdout",
     "output_type": "stream",
     "text": [
      "[[  4  -3   1 -10]\n",
      " [ 10  -5   5 -20]\n",
      " [ -1   2  -5  17]]\n"
     ]
    }
   ],
   "source": [
    "def add_rows(matrix_to_be_added, row_numbers, row_number_to_replace, row_number_multiple):\n",
    "    matrix_to_be_added_copy = matrix_to_be_added.copy()\n",
    "    matrix_to_be_added_copy[row_number_to_replace] = row_number_multiple * matrix_to_be_added_copy[row_numbers[0]] + matrix_to_be_added_copy[row_numbers[1]]\n",
    "    return matrix_to_be_added_copy\n",
    "\n",
    "print(add_rows(A_system, (0,1), 1, 2))"
   ]
  },
  {
   "cell_type": "code",
   "execution_count": 55,
   "id": "b62f1aff-923e-4077-a862-a2e370be6970",
   "metadata": {},
   "outputs": [
    {
     "name": "stdout",
     "output_type": "stream",
     "text": [
      "[[  4  -3   1 -10]\n",
      " [ -1   2  -5  17]\n",
      " [  2   1   3   0]]\n"
     ]
    }
   ],
   "source": [
    "def swap_rows(matrix_to_be_swapped, row_numbers):\n",
    "    matrix_to_be_swapped_copy = matrix_to_be_swapped.copy()\n",
    "    matrix_to_be_swapped_copy[row_numbers[0]] = matrix_to_be_swapped[row_numbers[1]]\n",
    "    matrix_to_be_swapped_copy[row_numbers[1]] = matrix_to_be_swapped[row_numbers[0]]\n",
    "    return matrix_to_be_swapped_copy\n",
    "\n",
    "print(swap_rows(A_system, (1,2)))\n",
    "    "
   ]
  },
  {
   "cell_type": "code",
   "execution_count": 69,
   "id": "230079a8-0c95-4c9c-8400-2f5782fb0ce4",
   "metadata": {},
   "outputs": [
    {
     "name": "stdout",
     "output_type": "stream",
     "text": [
      "[[  4  -3   1 -10]\n",
      " [  2   1   3   0]\n",
      " [ -1   2  -5  17]] :Original system\n",
      "[[ -1   2  -5  17]\n",
      " [  2   1   3   0]\n",
      " [  4  -3   1 -10]] : swapping first and last rows\n",
      "[[ -1   2  -5  17]\n",
      " [  0   5  -7  34]\n",
      " [  4  -3   1 -10]] :add two rows 0,1 and multiply with 2 after adding and replace in last index\n",
      "[[ -1   2  -5  17]\n",
      " [  0   5  -7  34]\n",
      " [  0   5 -19  58]] :add two rows 0,2 and multiply with 4 after adding and replace in last index\n",
      "[[ -1   2  -5  17]\n",
      " [  0   5  -7  34]\n",
      " [  0   0 -12  24]] :add two rows 1,2 and multiply with -1 after adding and replace in last index\n",
      "[[-1  2 -5 17]\n",
      " [ 0  5 -7 34]\n",
      " [ 0  0  1 -2]] :multiply rows with -1/2\n"
     ]
    }
   ],
   "source": [
    "print(A_system,\":Original system\")\n",
    "A_ref = swap_rows(A_system,(0,2))\n",
    "print(A_ref, \": swapping first and last rows\")\n",
    "A_ref = add_rows(A_ref,(0,1),1,2)\n",
    "print(A_ref,\":add two rows 0,1 and multiply with 2 after adding and replace in last index\" )\n",
    "A_ref = add_rows(A_ref,(0,2),2,4)\n",
    "print(A_ref,\":add two rows 0,2 and multiply with 4 after adding and replace in last index\")\n",
    "A_ref = add_rows(A_ref,(1,2),2,-1)\n",
    "print(A_ref, \":add two rows 1,2 and multiply with -1 after adding and replace in last index\")\n",
    "A_ref = multiply_rows(A_ref,-1/12,2)\n",
    "print(A_ref, \":multiply rows with -1/2\")"
   ]
  },
  {
   "cell_type": "code",
   "execution_count": 73,
   "id": "cf380d6d-34b2-4ad8-8137-89ef38d5cdfa",
   "metadata": {},
   "outputs": [
    {
     "name": "stdout",
     "output_type": "stream",
     "text": [
      "4.0\n",
      "1.0 4.0 -2\n"
     ]
    }
   ],
   "source": [
    "#After row reduction, we reduced, last row with single variable, second last row with two variables where one variable is known, shown below.\n",
    "x_3 = -2\n",
    "x_2 = (A_ref[1][3] + 7*x_3) / 5\n",
    "print(x_2)\n",
    "x_1 = (A_ref[0][3] -2 * x_2 + 5 * x_3) *(-1)\n",
    "print(x_1,x_2,x_3)\n",
    "# Check the values of np.linalg.solve(A,B) with this values."
   ]
  },
  {
   "cell_type": "code",
   "execution_count": 103,
   "id": "6a64ba64-a8ea-4e0b-9419-a296f8df0ff6",
   "metadata": {},
   "outputs": [
    {
     "name": "stdout",
     "output_type": "stream",
     "text": [
      "0.0\n"
     ]
    }
   ],
   "source": [
    "# Linear equations with no solutions\n",
    "\n",
    "A_2 = np.array([[1,1,1],[0,1,-3],[2,1,5]])\n",
    "B_2 = np.array([2,1,0])\n",
    "det_no_sol_A = np.linalg.det(A_2)\n",
    "print(det_no_sol_A) \n",
    "# print(np.linalg.solve(no_sol_A,no_sol_B)) # Throws error of Singular matrix \n"
   ]
  },
  {
   "cell_type": "markdown",
   "id": "90bc9dfd-9b0f-47b6-b289-5add8b418172",
   "metadata": {},
   "source": [
    "When det = 0, equation don't have one unique solution. i.e either none or infinitely many solutions\n",
    "\n",
    "While using above row reduction process, we wont get last rows with 2 zeros instead last row will have all elements 0 in no_sol_A matrix,  \n",
    "By finding these non-zero rows, we can find rank. if rank = no of rows then equation is consistent & has unique solution but here rank of no_sol_A_matrix i.e 2 (No of non-zero rows)will be < no of rows in no_sol_A_matrix i.e 3"
   ]
  },
  {
   "cell_type": "code",
   "execution_count": 104,
   "id": "9f8ea691-a69f-454e-90d8-5090600819ab",
   "metadata": {},
   "outputs": [
    {
     "name": "stdout",
     "output_type": "stream",
     "text": [
      "[[ 1  1  1  2]\n",
      " [ 0  1 -3  1]\n",
      " [ 2  1  5  0]]\n"
     ]
    }
   ],
   "source": [
    "A_2_system = np.hstack((A_2, B_2.reshape((3,1))))\n",
    "print(A_2_system)\n"
   ]
  },
  {
   "cell_type": "code",
   "execution_count": 105,
   "id": "9e60fbf1-859d-4f01-bbd5-855523834c8b",
   "metadata": {},
   "outputs": [
    {
     "name": "stdout",
     "output_type": "stream",
     "text": [
      "[[ 1  1  1  2]\n",
      " [ 0  1 -3  1]\n",
      " [ 0 -1  3 -4]]\n",
      "[[ 1  1  1  2]\n",
      " [ 0  1 -3  1]\n",
      " [ 0  0  0 -3]]\n"
     ]
    }
   ],
   "source": [
    "A_2_ref = add_rows(A_2_system, (0,2), 2, -2)\n",
    "print(A_2_ref)\n",
    "A_2_ref = add_rows(A_2_ref, (1,2), 2, 1)\n",
    "print(A_2_ref)\n",
    "# The last row 0 = -3 this is false, so no solution."
   ]
  },
  {
   "cell_type": "code",
   "execution_count": 116,
   "id": "1a2b50f2-f335-4d7a-b4ea-e23a0d588549",
   "metadata": {},
   "outputs": [
    {
     "name": "stdout",
     "output_type": "stream",
     "text": [
      "[[ 1  1  1  2]\n",
      " [ 0  1 -3  1]\n",
      " [ 2  1  5  3]]\n"
     ]
    }
   ],
   "source": [
    "# Infinite Number of solution\n",
    "B_3 = np.array([2, 1, 3])\n",
    "A_3_system = np.hstack((A_2, B_3.reshape((3,1))))\n",
    "print(A_3_system)"
   ]
  },
  {
   "cell_type": "code",
   "execution_count": 117,
   "id": "a697813f-ad84-4368-b1d1-bb094cfa570a",
   "metadata": {},
   "outputs": [
    {
     "name": "stdout",
     "output_type": "stream",
     "text": [
      "[[ 1  1  1  2]\n",
      " [ 0  1 -3  1]\n",
      " [ 0 -1  3 -1]]\n",
      "[[ 1  1  1  2]\n",
      " [ 0  1 -3  1]\n",
      " [ 0  0  0  0]]\n"
     ]
    }
   ],
   "source": [
    "#using row-reduction form to know whether it has infinite or no solution\n",
    "A_3_ref = add_rows(A_3_system, (0,2),2, -2)\n",
    "print(A_3_ref)\n",
    "A_3_ref = add_rows(A_3_ref, (1,2), 2, 1)\n",
    "print(A_3_ref)"
   ]
  },
  {
   "cell_type": "markdown",
   "id": "9c2b1707-2b73-4eb0-9414-fe71fe59c762",
   "metadata": {},
   "source": [
    "See, the last row 0 = 0 which means x_2 -3x_3 = 1, x_1 + x_2 + x_3 = 1, here x_2 = 1 + 3x_3 we will get x_1 and x_2 in the form of x_3, so whatever value you substitute in x_3, you are going to get the values of x_1 & x_2. Therefore, infinite possible solutions."
   ]
  }
 ],
 "metadata": {
  "kernelspec": {
   "display_name": "Python 3 (ipykernel)",
   "language": "python",
   "name": "python3"
  },
  "language_info": {
   "codemirror_mode": {
    "name": "ipython",
    "version": 3
   },
   "file_extension": ".py",
   "mimetype": "text/x-python",
   "name": "python",
   "nbconvert_exporter": "python",
   "pygments_lexer": "ipython3",
   "version": "3.9.6"
  }
 },
 "nbformat": 4,
 "nbformat_minor": 5
}

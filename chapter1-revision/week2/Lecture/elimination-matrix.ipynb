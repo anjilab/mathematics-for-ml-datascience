{
 "cells": [
  {
   "cell_type": "code",
   "execution_count": 1,
   "id": "56320a61-2526-43a0-9fb0-23cef0a79966",
   "metadata": {},
   "outputs": [],
   "source": [
    "import numpy as np\n"
   ]
  },
  {
   "cell_type": "code",
   "execution_count": 2,
   "id": "8b3b5def-bc78-43f6-9d95-2d707dbf2a95",
   "metadata": {},
   "outputs": [],
   "source": [
    "A = np.array([[5,1],[4, -3]])"
   ]
  },
  {
   "cell_type": "code",
   "execution_count": 4,
   "id": "fa5feef9-5777-40ea-9220-9918c10313ab",
   "metadata": {},
   "outputs": [
    {
     "name": "stdout",
     "output_type": "stream",
     "text": [
      "-18.999999999999996\n"
     ]
    }
   ],
   "source": [
    "determinant_of_A = np.linalg.det(A)\n",
    "print(determinant_of_A)\n",
    "# Since determinant is != 0, So it is singular matrix."
   ]
  },
  {
   "cell_type": "code",
   "execution_count": 10,
   "id": "dd9d2c94-6ba4-43be-8236-c244367117e1",
   "metadata": {
    "jp-MarkdownHeadingCollapsed": true
   },
   "outputs": [
    {
     "name": "stdout",
     "output_type": "stream",
     "text": [
      "Determinant of A_row_swap 18.999999999999996\n"
     ]
    }
   ],
   "source": [
    "# Switch rows. \n",
    "A_row_swap =  np.array([[4, -3],[5,1]])\n",
    "print(\"Determinant of A_row_swap\", np.linalg.det(A_row_swap)) "
   ]
  },
  {
   "cell_type": "code",
   "execution_count": 25,
   "id": "7cd80741-5693-4b54-8a0f-a5da9363e673",
   "metadata": {},
   "outputs": [
    {
     "name": "stdout",
     "output_type": "stream",
     "text": [
      "[[25  5]\n",
      " [ 4 -3]]\n",
      "Determinant -95.0 -94.99999999999999\n"
     ]
    }
   ],
   "source": [
    "# Multiply rows with constant\n",
    "A_multiply =  5 * np.array([5,1])\n",
    "\n",
    "A_multiplied = np.array([A_multiply,[4,-3]])\n",
    "print(A_multiplied)\n",
    "\n",
    "print(\"Determinant\", np.linalg.det(A_multiplied), 5*determinant_of_A)\n",
    "#Singularity didn't change.\n"
   ]
  },
  {
   "cell_type": "code",
   "execution_count": 50,
   "id": "0108c436-b50a-49d0-bbde-7ddedc402782",
   "metadata": {},
   "outputs": [
    {
     "name": "stdout",
     "output_type": "stream",
     "text": [
      "[[ 1.    0.2 ]\n",
      " [ 1.   -0.75]]\n",
      "-0.95\n",
      "[[ 1.   0.2]\n",
      " [-0.   1. ]]\n",
      "Reduced row echelon form [[ 1.  0.]\n",
      " [-0.  1.]]\n"
     ]
    }
   ],
   "source": [
    "# Conversion of A into reduced row echelon form \n",
    "\n",
    "A_divide_by_first_row_coeff_both_rows = np.array([[5/5,1/5],[4/4, -3/4]])\n",
    "print(A_divide_by_first_row_coeff_both_rows)\n",
    "\n",
    "A_subtract_secondrow_by_first_row = np.array([A_divide_by_first_row_coeff_both_rows[0], A_divide_by_first_row_coeff_both_rows[1] - A_divide_by_first_row_coeff_both_rows[0]])\n",
    "print(A_subtract_secondrow_by_first_row[1][1])\n",
    "\n",
    "A_divide_second_row_by_second_column_coeff = np.array([A_subtract_secondrow_by_first_row[0], A_subtract_secondrow_by_first_row[1]/A_subtract_secondrow_by_first_row[1][1]])\n",
    "print(A_divide_second_row_by_second_column_coeff)\n",
    "# this is in the echelon form. i.e main diagonal should have 0's or 1's here 1's and the left of 1's are all zeros and right side contains any number\n",
    "\n",
    "A_replace_first_row_by_multiply_first_row_second_col_coeff = np.array([A_divide_second_row_by_second_column_coeff[0] - A_divide_second_row_by_second_column_coeff[1]*0.2, A_divide_second_row_by_second_column_coeff[1]])\n",
    "\n",
    "\n",
    "\n",
    "print(\"Reduced row echelon form\", A_replace_first_row_by_multiply_first_row_second_col_coeff) # soultion of solved system = reduced row echelon\n"
   ]
  },
  {
   "cell_type": "code",
   "execution_count": 51,
   "id": "ec7c64be-b551-49f8-937c-36d382d51605",
   "metadata": {},
   "outputs": [
    {
     "name": "stdout",
     "output_type": "stream",
     "text": [
      "Determinant -5.551115123125802e-16\n",
      "[[ 5 10]\n",
      " [ 5 10]]\n",
      "Row echelon form [[ 5 10]\n",
      " [ 0  0]]\n"
     ]
    }
   ],
   "source": [
    "B = np.array([[5,10],[1,2]])\n",
    "# this matrix is singular\n",
    "print(\"Determinant\", np.linalg.det(B))\n",
    "# Conversion into row echelon form\n",
    "\n",
    "B_multiply_second_row_by_5 = np.array([B[0], 5*B[1]])\n",
    "print(B_multiply_second_row_by_5)\n",
    "\n",
    "B_divide_second_row_by_first_row = np.array([B_multiply_second_row_by_5[0], B_multiply_second_row_by_5[1] -B_multiply_second_row_by_5[0]  ])\n",
    "print(\"Row echelon form\",B_divide_second_row_by_first_row)\n",
    "\n"
   ]
  },
  {
   "cell_type": "code",
   "execution_count": 23,
   "id": "70a689ef-bff0-47b7-84cb-982861869cdf",
   "metadata": {},
   "outputs": [],
   "source": [
    "# Mu"
   ]
  }
 ],
 "metadata": {
  "kernelspec": {
   "display_name": "Python 3 (ipykernel)",
   "language": "python",
   "name": "python3"
  },
  "language_info": {
   "codemirror_mode": {
    "name": "ipython",
    "version": 3
   },
   "file_extension": ".py",
   "mimetype": "text/x-python",
   "name": "python",
   "nbconvert_exporter": "python",
   "pygments_lexer": "ipython3",
   "version": "3.9.6"
  }
 },
 "nbformat": 4,
 "nbformat_minor": 5
}

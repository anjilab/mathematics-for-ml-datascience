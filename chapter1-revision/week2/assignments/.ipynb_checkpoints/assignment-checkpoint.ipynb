{
 "cells": [
  {
   "cell_type": "code",
   "execution_count": 1,
   "id": "b960dba7-3af1-411a-a3bb-dc39aacbadc9",
   "metadata": {},
   "outputs": [],
   "source": [
    "import numpy as np\n",
    "import test"
   ]
  },
  {
   "cell_type": "code",
   "execution_count": 5,
   "id": "31e9e41e-3522-45d1-b94c-4f3a51c7a528",
   "metadata": {},
   "outputs": [],
   "source": [
    "# Exercise 1: Representing linear equation in matrix and vector form\n",
    "A = np.array([[2,-1,1,1],[1,2,-1,-1],[-1,2,2,2], [1,-1,2,1]], dtype=np.dtype(float))\n",
    "b = np.array([6,3,14,8],dtype=np.dtype(float))"
   ]
  },
  {
   "cell_type": "code",
   "execution_count": 7,
   "id": "2d3e1701-81df-408b-89f8-fcd901af7881",
   "metadata": {},
   "outputs": [
    {
     "name": "stdout",
     "output_type": "stream",
     "text": [
      "\u001b[92m All tests passed\n"
     ]
    }
   ],
   "source": [
    "test.test_matrix(A,b)"
   ]
  },
  {
   "cell_type": "code",
   "execution_count": 11,
   "id": "255dedef-d0d9-4b8e-aa7d-c35183fb3dc2",
   "metadata": {},
   "outputs": [
    {
     "name": "stdout",
     "output_type": "stream",
     "text": [
      "-17.0\n",
      "x is: solution: [2. 3. 4. 1.]\n"
     ]
    }
   ],
   "source": [
    "# Exercise 2: determinant and solution of x\n",
    "determinant_A = np.linalg.det(A)\n",
    "print(determinant_A)\n",
    "x = np.linalg.solve(A,b)\n",
    "print(\"x is: solution:\", x)"
   ]
  },
  {
   "cell_type": "code",
   "execution_count": 13,
   "id": "c865cb07-bc1f-45e0-abd5-cfb435b2f473",
   "metadata": {},
   "outputs": [
    {
     "name": "stdout",
     "output_type": "stream",
     "text": [
      "\u001b[92m All tests passed\n"
     ]
    }
   ],
   "source": [
    "test.test_det_and_solution_scipy(determinant_A,x)"
   ]
  },
  {
   "cell_type": "code",
   "execution_count": 18,
   "id": "865d9cce-b289-4524-8ac1-10bf7c377fad",
   "metadata": {},
   "outputs": [],
   "source": [
    "# Exercise 3: elementary operations:\n",
    "def MultiplyRow(Mat, row_num, row_num_multiple):\n",
    "    # .copy() function is required here to keep the original matrix without any changes\n",
    "    Mat_new = Mat.copy()     \n",
    "    # exchange row_num of the matrix M_new with its multiple by row_num_multiple\n",
    "    # Note: for simplicity, you can drop check if  row_num_multiple has non-zero value, which makes the operation valid\n",
    "    Mat_new[row_num] = Mat_new[row_num] * row_num_multiple\n",
    "    return Mat_new\n",
    "    \n",
    "def AddRows(Mat, row_num_1, row_num_2, row_num_1_multiple):\n",
    "    Mat_new = Mat.copy()     \n",
    "    # multiply row_num_1 by row_num_1_multiple and add it to the row_num_2, \n",
    "    # exchanging row_num_2 of the matrix M_new with the result\n",
    "    Mat_new[row_num_2] += Mat_new[row_num_1] * row_num_1_multiple\n",
    "    return Mat_new\n",
    "\n",
    "def SwapRows(Mat, row_num_1, row_num_2):\n",
    "    Mat_new = Mat.copy()     \n",
    "    # exchange row_num_1 and row_num_2 of the matrix M_new\n",
    "    Mat_new[row_num_1] = Mat_new[row_num_1] + Mat_new[row_num_2]\n",
    "    Mat_new[row_num_2] = Mat_new[row_num_1] - Mat_new[row_num_2]\n",
    "    Mat_new[row_num_1] = Mat_new[row_num_1] - Mat_new[row_num_2]\n",
    "    return Mat_new"
   ]
  },
  {
   "cell_type": "code",
   "execution_count": 20,
   "id": "03accd09-46e7-4191-8c24-807404881171",
   "metadata": {},
   "outputs": [
    {
     "name": "stdout",
     "output_type": "stream",
     "text": [
      "Original matrix:\n",
      "[[ 1. -2.  3. -4.]\n",
      " [-5.  6. -7.  8.]\n",
      " [-4.  3. -2.  1.]\n",
      " [ 8. -7.  6. -5.]]\n",
      "\n",
      "Original matrix after its third row is multiplied by -2:\n",
      "[[ 1. -2.  3. -4.]\n",
      " [-5.  6. -7.  8.]\n",
      " [ 8. -6.  4. -2.]\n",
      " [ 8. -7.  6. -5.]]\n",
      "\n",
      "Original matrix after exchange of the third row with the sum of itself and first row multiplied by 4:\n",
      "[[  1.  -2.   3.  -4.]\n",
      " [ -5.   6.  -7.   8.]\n",
      " [  0.  -5.  10. -15.]\n",
      " [  8.  -7.   6.  -5.]]\n",
      "\n",
      "Original matrix after exchange of its first and third rows:\n",
      "[[-4.  3. -2.  1.]\n",
      " [-5.  6. -7.  8.]\n",
      " [ 1. -2.  3. -4.]\n",
      " [ 8. -7.  6. -5.]]\n"
     ]
    }
   ],
   "source": [
    "A_test = np.array([\n",
    "        [1, -2, 3, -4],\n",
    "        [-5, 6, -7, 8],\n",
    "        [-4, 3, -2, 1], \n",
    "        [8, -7, 6, -5]\n",
    "    ], dtype=np.dtype(float))\n",
    "print(\"Original matrix:\")\n",
    "print(A_test)\n",
    "\n",
    "print(\"\\nOriginal matrix after its third row is multiplied by -2:\")\n",
    "print(MultiplyRow(A_test,2,-2))\n",
    "\n",
    "print(\"\\nOriginal matrix after exchange of the third row with the sum of itself and first row multiplied by 4:\")\n",
    "print(AddRows(A_test,0,2,4))\n",
    "\n",
    "print(\"\\nOriginal matrix after exchange of its first and third rows:\")\n",
    "print(SwapRows(A_test,0,2))"
   ]
  },
  {
   "cell_type": "code",
   "execution_count": 22,
   "id": "be28d6eb-d9da-4a70-aafb-186b4dd99fde",
   "metadata": {},
   "outputs": [
    {
     "name": "stdout",
     "output_type": "stream",
     "text": [
      "\u001b[92m All tests passed\n"
     ]
    }
   ],
   "source": [
    "test.test_elementary_operations(MultiplyRow, AddRows, SwapRows)"
   ]
  },
  {
   "cell_type": "code",
   "execution_count": 24,
   "id": "6bad788c-62fd-49cf-8988-f1c24eaa83b0",
   "metadata": {},
   "outputs": [
    {
     "name": "stdout",
     "output_type": "stream",
     "text": [
      "[[ 1.  2. -1. -1.  3.]\n",
      " [ 0.  1.  4.  3. 22.]\n",
      " [ 0.  0.  1.  3.  7.]\n",
      " [-0. -0. -0.  1.  1.]]\n"
     ]
    }
   ],
   "source": [
    "def augmented_to_ref(A, b):    \n",
    "    ### START CODE HERE ###\n",
    "    # stack horizontally matrix A and vector b, which needs to be reshaped as a vector (4, 1)\n",
    "    A_system = np.hstack((A, b.reshape(4, 1)))\n",
    "    \n",
    "    # swap row 0 and row 1 of matrix A_system (remember that indexing in NumPy array starts from 0)\n",
    "    A_ref = SwapRows(A_system, 0, 1)\n",
    "    \n",
    "    # multiply row 0 of the new matrix A_ref by -2 and add it to the row 1\n",
    "    A_ref = AddRows(A_ref, 0, 1, -2)\n",
    "\n",
    "    # add row 0 of the new matrix A_ref to the row 2, replacing row 2\n",
    "    A_ref[2] += A_ref[0]\n",
    "    \n",
    "    # multiply row 0 of the new matrix A_ref by -1 and add it to the row 3\n",
    "    A_ref = AddRows(A_ref, 0, 3, -1)\n",
    "    \n",
    "    # add row 2 of the new matrix A_ref to the row 3, replacing row 3\n",
    "    A_ref[3] += A_ref[2] \n",
    "    \n",
    "    # swap row 1 and 3 of the new matrix A_ref\n",
    "    A_ref = SwapRows(A_ref, 1, 3)\n",
    "    \n",
    "    # add row 2 of the new matrix A_ref to the row 3, replacing row 3\n",
    "    A_ref[3] += A_ref[2]\n",
    "    \n",
    "    # multiply row 1 of the new matrix A_ref by -4 and add it to the row 2\n",
    "    A_ref = AddRows(A_ref, 1, 2, -4)\n",
    "    \n",
    "    # add row 1 of the new matrix A_ref to the row 3, replacing row 3\n",
    "    A_ref[3] += A_ref[1]\n",
    "    \n",
    "    # multiply row 3 of the new matrix A_ref by 2 and add it to the row 2\n",
    "    A_ref = AddRows(A_ref, 3, 2, 2)\n",
    "    \n",
    "    # multiply row 2 of the new matrix A_ref by -8 and add it to the row 3\n",
    "    A_ref = AddRows(A_ref, 2, 3, -8)\n",
    "    \n",
    "    # multiply row 3 of the new matrix A_ref by -1/17\n",
    "    A_ref[3] = A_ref[3] * -1/17\n",
    "    ### END CODE HERE ###\n",
    "    \n",
    "    return A_ref\n",
    "\n",
    "A_ref = augmented_to_ref(A, b)\n",
    "\n",
    "print(A_ref)"
   ]
  },
  {
   "cell_type": "code",
   "execution_count": 26,
   "id": "bcb2faf2-9f50-47f2-a730-e3342f21e1cb",
   "metadata": {},
   "outputs": [
    {
     "name": "stdout",
     "output_type": "stream",
     "text": [
      "\u001b[92m All tests passed\n"
     ]
    }
   ],
   "source": [
    "test.test_augmented_to_ref(augmented_to_ref)"
   ]
  },
  {
   "cell_type": "code",
   "execution_count": 27,
   "id": "ba3678bd-44bc-419f-9fa7-c40ffd9d1451",
   "metadata": {},
   "outputs": [
    {
     "name": "stdout",
     "output_type": "stream",
     "text": [
      "2.0 3.0 4.0 1.0\n"
     ]
    }
   ],
   "source": [
    "x_4 = A_ref[3, 3]\n",
    "\n",
    "# find the value of x_3 from the previous row of the matrix. Use value of x_4.\n",
    "x_3 = A_ref[2, 4] -  A_ref[2, 3]* x_4\n",
    "\n",
    "# find the value of x_2 from the second row of the matrix. Use values of x_3 and x_4\n",
    "x_2 = A_ref[1, 4] - A_ref[1, 2]*x_3 - A_ref[2, 3]*x_4\n",
    "\n",
    "# find the value of x_1 from the first row of the matrix. Use values of x_2, x_3 and x_4\n",
    "x_1 = A_ref[0, 4] - A_ref[0, 1]*x_2 + x_3 + x_4\n",
    "### END CODE HERE ###\n",
    "\n",
    "print(x_1, x_2, x_3, x_4)"
   ]
  },
  {
   "cell_type": "code",
   "execution_count": 29,
   "id": "21de5f96-0bf0-44de-8492-b99b21ea7b80",
   "metadata": {},
   "outputs": [
    {
     "name": "stdout",
     "output_type": "stream",
     "text": [
      "\u001b[92m All tests passed\n"
     ]
    }
   ],
   "source": [
    "test.test_solution_elimination(x_1, x_2, x_3, x_4)"
   ]
  },
  {
   "cell_type": "code",
   "execution_count": 30,
   "id": "8c7d0318-b503-4d09-a02a-38b4527597e0",
   "metadata": {},
   "outputs": [
    {
     "name": "stdout",
     "output_type": "stream",
     "text": [
      "[[ 1.  0.  0.  0.  2.]\n",
      " [ 0.  1.  0.  0.  3.]\n",
      " [ 0.  0.  1.  0.  4.]\n",
      " [-0. -0. -0.  1.  1.]]\n"
     ]
    }
   ],
   "source": [
    "def ref_to_diagonal(A_ref):    \n",
    "    ### START CODE HERE ###\n",
    "    # multiply row 3 of the matrix A_ref by -3 and add it to the row 2\n",
    "    A_diag = AddRows(A_ref, 3, 2, -3)\n",
    "    \n",
    "    # multiply row 3 of the new matrix A_diag by -3 and add it to the row 1\n",
    "    A_diag = AddRows(A_diag, 3, 1, -3)\n",
    "    \n",
    "    # add row 3 of the new matrix A_diag to the row 0, replacing row 0\n",
    "    A_diag[0] += A_diag[3]\n",
    "    \n",
    "    # multiply row 2 of the new matrix A_diag by -4 and add it to the row 1\n",
    "    A_diag = AddRows(A_diag, 2, 1, -4)\n",
    "    \n",
    "    # add row 2 of the new matrix A_diag to the row 0, replacing row 0\n",
    "    A_diag[0] += A_diag[2]\n",
    "    \n",
    "    # multiply row 1 of the new matrix A_diag by -2 and add it to the row 0\n",
    "    A_diag = AddRows(A_diag, 1, 0, -2)\n",
    "    ### END CODE HERE ###\n",
    "    \n",
    "    return A_diag\n",
    "    \n",
    "A_diag = ref_to_diagonal(A_ref)\n",
    "\n",
    "print(A_diag)\n"
   ]
  },
  {
   "cell_type": "code",
   "execution_count": 31,
   "id": "4f8ed313-3b9c-4555-8b22-73478dac50a5",
   "metadata": {},
   "outputs": [
    {
     "name": "stdout",
     "output_type": "stream",
     "text": [
      "\u001b[92m All tests passed\n"
     ]
    }
   ],
   "source": [
    "test.test_ref_to_diagonal(ref_to_diagonal)"
   ]
  }
 ],
 "metadata": {
  "kernelspec": {
   "display_name": "Python 3 (ipykernel)",
   "language": "python",
   "name": "python3"
  },
  "language_info": {
   "codemirror_mode": {
    "name": "ipython",
    "version": 3
   },
   "file_extension": ".py",
   "mimetype": "text/x-python",
   "name": "python",
   "nbconvert_exporter": "python",
   "pygments_lexer": "ipython3",
   "version": "3.9.6"
  }
 },
 "nbformat": 4,
 "nbformat_minor": 5
}

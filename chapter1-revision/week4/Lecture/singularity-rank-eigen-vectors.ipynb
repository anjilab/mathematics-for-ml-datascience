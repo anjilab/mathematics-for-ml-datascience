{
 "cells": [
  {
   "cell_type": "code",
   "execution_count": 2,
   "id": "4cc7ca94-4bc3-433c-993f-4231e134f722",
   "metadata": {},
   "outputs": [],
   "source": [
    "import numpy as np\n",
    "import matplotlib.pyplot as plt"
   ]
  },
  {
   "cell_type": "code",
   "execution_count": 53,
   "id": "8fd27403-da76-4c57-bd03-e459307490c2",
   "metadata": {},
   "outputs": [
    {
     "name": "stdout",
     "output_type": "stream",
     "text": [
      "[0 0] [1 2] [3 1] [4 3]\n"
     ]
    }
   ],
   "source": [
    "A = np.array([[3,1], [1,2]])\n",
    "# print(A)\n",
    "\n",
    "square_basis_vectors = np.array([[0,0], [0,1]])\n",
    "# print(square_basis_vectors)\n",
    "\n",
    "# Basis vectors point forming square, gets transformed to \n",
    "\n",
    "origin = np.array([0,0])\n",
    "unit_x_axis = np.array([0,1])\n",
    "unit_y_axis = np.array([1,0])\n",
    "unit_x_axis_y_axis =  np.array([1,1])\n",
    "\n",
    "# After using linear transformation in above basis vectors point.\n",
    "\n",
    "transformed_origin = A @ origin\n",
    "transformed_unit_x_axis = A @ unit_x_axis \n",
    "transformed_unit_y_axis = A @ unit_y_axis \n",
    "transformed_unit_x_axis_y_axis = A @  unit_x_axis_y_axis\n",
    "\n",
    "print(transformed_origin, transformed_unit_x_axis, transformed_unit_y_axis, transformed_unit_x_axis_y_axis)\n",
    "\n",
    "# This transformed value covers entire plane of parallelogram in grid, hence singular transformation\n",
    "\n",
    "\n"
   ]
  },
  {
   "cell_type": "code",
   "execution_count": 58,
   "id": "e8416bf5-3652-4911-b014-4591a7427bcf",
   "metadata": {},
   "outputs": [
    {
     "name": "stdout",
     "output_type": "stream",
     "text": [
      "[[0 0]\n",
      " [1 2]\n",
      " [3 1]\n",
      " [4 3]] [1 2]\n"
     ]
    },
    {
     "data": {
      "image/png": "[encoded data removed]",
      "text/plain": [
       "<Figure size 700x350 with 1 Axes>"
      ]
     },
     "metadata": {},
     "output_type": "display_data"
    }
   ],
   "source": [
    "\n",
    "# plt.rcParams[\"figure.figsize\"] = [7.00, 3.50]\n",
    "# plt.rcParams[\"figure.autolayout\"] = True\n",
    "x = [4]\n",
    "y = [3]\n",
    "plt.xlim(0, 5)\n",
    "plt.ylim(0, 5)\n",
    "plt.grid()\n",
    "# plt.plot(x, y, marker=\"o\", markersize=20, markeredgecolor=\"red\", markerfacecolor=\"green\")\n",
    "\n",
    "\n",
    "plotting_points = np.array([transformed_origin,transformed_unit_x_axis,transformed_unit_y_axis,transformed_unit_x_axis_y_axis])\n",
    "print(plotting_points, plotting_points[1])\n",
    "for i in range(4):\n",
    "    plt.plot(plotting_points[i][0], plotting_points[i][1], marker=\"o\", markersize=20, markeredgecolor=\"red\", markerfacecolor=\"green\")\n",
    "    \n",
    "plt.show()"
   ]
  },
  {
   "cell_type": "code",
   "execution_count": 56,
   "id": "d438a5e1-888d-48b9-9b6c-f1febd2c7bbb",
   "metadata": {},
   "outputs": [],
   "source": [
    "B = np.array([[1,1], [2,2]])\n",
    "# print(A)\n",
    "\n",
    "square_basis_vectors = np.array([[0,0], [0,1]])\n",
    "# print(square_basis_vectors)\n",
    "\n",
    "# Basis vectors point forming square, gets transformed to \n",
    "\n",
    "origin = np.array([0,0])\n",
    "unit_x_axis = np.array([0,1])\n",
    "unit_y_axis = np.array([1,0])\n",
    "unit_x_axis_y_axis =  np.array([1,1])\n",
    "\n",
    "# After using linear transformation in above basis vectors point.\n",
    "\n",
    "transformed_origin_second = B @ origin\n",
    "transformed_unit_x_axis_second = B @ unit_x_axis \n",
    "transformed_unit_y_axis_second = B @ unit_y_axis \n",
    "transformed_unit_x_axis_y_axis_second = B @  unit_x_axis_y_axis\n",
    "\n"
   ]
  },
  {
   "cell_type": "code",
   "execution_count": 60,
   "id": "aba339ab-a550-4996-b874-d3200a43c31a",
   "metadata": {},
   "outputs": [
    {
     "name": "stdout",
     "output_type": "stream",
     "text": [
      "[[0 0]\n",
      " [1 2]\n",
      " [1 2]\n",
      " [2 4]] [1 2]\n"
     ]
    },
    {
     "data": {
      "image/png": "[encoded data removed]",
      "text/plain": [
       "<Figure size 700x350 with 1 Axes>"
      ]
     },
     "metadata": {},
     "output_type": "display_data"
    }
   ],
   "source": [
    "\n",
    "plt.xlim(0, 5)\n",
    "plt.ylim(0, 5)\n",
    "plt.grid()\n",
    "# plt.plot(x, y, marker=\"o\", markersize=20, markeredgecolor=\"red\", markerfacecolor=\"green\")\n",
    "\n",
    "\n",
    "plotting_points = np.array([transformed_origin_second,transformed_unit_x_axis_second,transformed_unit_y_axis_second,transformed_unit_x_axis_y_axis_second])\n",
    "print(plotting_points, plotting_points[1])\n",
    "for i in range(4):\n",
    "    plt.plot(plotting_points[i][0], plotting_points[i][1], marker=\"o\", markersize=20, markeredgecolor=\"red\", markerfacecolor=\"green\")\n",
    "    \n",
    "plt.show()\n",
    "\n",
    "# Here we see after transforming using that matrix, st line is formed. \n",
    "# It will only contain the point in the straight line, rather than covering entire plane.\n",
    "# Therefore, singular transformation.\n"
   ]
  },
  {
   "cell_type": "code",
   "execution_count": 68,
   "id": "83871136-5c91-4921-85b5-0e558727ae1b",
   "metadata": {},
   "outputs": [
    {
     "name": "stdout",
     "output_type": "stream",
     "text": [
      "[[ 1  4]\n",
      " [-3  3]] 15.0\n"
     ]
    }
   ],
   "source": [
    "C = np.array([[3,1], [1,2]])\n",
    "D = np.array([[1,1], [-2,1]])\n",
    "Det_c = np.linalg.det(C)\n",
    "det_d = np.linalg.det(D)\n",
    "\n",
    "combined_transformation = C @ D\n",
    "det_combined_transformation = np.linalg.det(combined_transformation)\n",
    "print(combined_transformation,det_combined_transformation )"
   ]
  },
  {
   "cell_type": "code",
   "execution_count": null,
   "id": "14ee5834-31ec-4708-a091-0550a6db4e4d",
   "metadata": {},
   "outputs": [],
   "source": []
  },
  {
   "cell_type": "code",
   "execution_count": null,
   "id": "f7d6d0e9-6c70-48f6-b89e-3789d6481e85",
   "metadata": {},
   "outputs": [],
   "source": []
  }
 ],
 "metadata": {
  "kernelspec": {
   "display_name": "Python 3 (ipykernel)",
   "language": "python",
   "name": "python3"
  },
  "language_info": {
   "codemirror_mode": {
    "name": "ipython",
    "version": 3
   },
   "file_extension": ".py",
   "mimetype": "text/x-python",
   "name": "python",
   "nbconvert_exporter": "python",
   "pygments_lexer": "ipython3",
   "version": "3.9.6"
  }
 },
 "nbformat": 4,
 "nbformat_minor": 5
}

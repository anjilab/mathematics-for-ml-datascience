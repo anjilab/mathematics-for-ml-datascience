{
 "cells": [
  {
   "cell_type": "markdown",
   "id": "cbc119f2-a5da-4b61-b63f-43613d3deacc",
   "metadata": {},
   "source": [
    "Linear equation is consistent if it has one or infinite number of solution.\n",
    "It is inconsistent, if it has no solution. To solve Ax= B where, A and B are given you have to find the value of x,we can use libraries.\n"
   ]
  },
  {
   "cell_type": "code",
   "execution_count": 2,
   "id": "9d94efd6-4ab7-469e-be1a-1676a8410863",
   "metadata": {},
   "outputs": [],
   "source": [
    "import numpy as np"
   ]
  },
  {
   "cell_type": "code",
   "execution_count": 10,
   "id": "2e5d969a-3436-4ce6-9837-63299ee7cc24",
   "metadata": {},
   "outputs": [
    {
     "name": "stdout",
     "output_type": "stream",
     "text": [
      "Matrix A: [[-1.  3.]\n",
      " [ 3.  2.]]\n",
      "Output B: [7. 1.]\n",
      "(2, 2) (2,)\n"
     ]
    }
   ],
   "source": [
    "A = np.array([[-1,3],[3,2]],dtype=np.dtype(float))\n",
    "B = np.array([7,1], dtype=np.dtype(float))\n",
    "print(\"Matrix A:\",A)\n",
    "print(\"Output B:\",B)\n",
    "print(A.shape, B.shape) # Shape  of x = (2,)"
   ]
  },
  {
   "cell_type": "code",
   "execution_count": 12,
   "id": "3dbf1b32-a97f-4cf4-9598-b6aa2d962404",
   "metadata": {},
   "outputs": [
    {
     "name": "stdout",
     "output_type": "stream",
     "text": [
      "[-1.  2.]\n"
     ]
    }
   ],
   "source": [
    "x = np.linalg.solve(A,B)\n",
    "print(x)"
   ]
  },
  {
   "cell_type": "code",
   "execution_count": 14,
   "id": "cb06ed75-40ec-4167-90b2-5c47e4559521",
   "metadata": {},
   "outputs": [
    {
     "name": "stdout",
     "output_type": "stream",
     "text": [
      "-11.000000000000002\n"
     ]
    }
   ],
   "source": [
    "det_A = np.linalg.det(A)\n",
    "print(det_A)"
   ]
  },
  {
   "cell_type": "markdown",
   "id": "32b4506f-fc10-407d-9910-badf67d7e674",
   "metadata": {},
   "source": [
    "SINGULAR MATRIX: when the determinant of matrix is 0.\n",
    "Linearly independent rows means if one of the rows cannot be obtained from another row by using row operation.\n",
    "Non singular matrix rows have linearly independent rows or cols."
   ]
  },
  {
   "cell_type": "code",
   "execution_count": 17,
   "id": "5a39a2d0-a4cd-403e-a8d1-06dc6ea53384",
   "metadata": {},
   "outputs": [
    {
     "name": "stdout",
     "output_type": "stream",
     "text": [
      "(3, 3)\n",
      "-6.0\n"
     ]
    }
   ],
   "source": [
    "C = np.array([[2,1,5],[1,2,1],[2,1,3]])\n",
    "print(C.shape)\n",
    "print(np.linalg.det(C))"
   ]
  }
 ],
 "metadata": {
  "kernelspec": {
   "display_name": "Python 3 (ipykernel)",
   "language": "python",
   "name": "python3"
  },
  "language_info": {
   "codemirror_mode": {
    "name": "ipython",
    "version": 3
   },
   "file_extension": ".py",
   "mimetype": "text/x-python",
   "name": "python",
   "nbconvert_exporter": "python",
   "pygments_lexer": "ipython3",
   "version": "3.9.6"
  }
 },
 "nbformat": 4,
 "nbformat_minor": 5
}

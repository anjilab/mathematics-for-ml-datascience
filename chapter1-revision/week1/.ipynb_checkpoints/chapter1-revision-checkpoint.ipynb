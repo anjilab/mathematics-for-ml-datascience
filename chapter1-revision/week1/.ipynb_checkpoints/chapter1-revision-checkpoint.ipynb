{
 "cells": [
  {
   "cell_type": "code",
   "execution_count": 1,
   "id": "42253bd1-ff15-4a05-be48-07c52dc83ae3",
   "metadata": {},
   "outputs": [
    {
     "name": "stdout",
     "output_type": "stream",
     "text": [
      "(2,)\n",
      "(2, 1)\n"
     ]
    }
   ],
   "source": [
    "# Creating 1-D array\n",
    "# Use shift+ tab for documentation\n",
    "import numpy as np\n",
    "\n",
    "a = np.array([12,14])\n",
    "print(a.shape) # 1D array \n",
    "reshape_a = np.reshape(a,(2,-1))\n",
    "print(reshape_a.shape)"
   ]
  },
  {
   "cell_type": "code",
   "execution_count": 2,
   "id": "a70e263b-4002-41a1-91fb-3fb79f61e826",
   "metadata": {},
   "outputs": [
    {
     "name": "stdout",
     "output_type": "stream",
     "text": [
      "[ 0  2  4  6  8 10 12 14 16 18]\n",
      "[ 0.  4.  8. 12. 16. 20.]\n"
     ]
    }
   ],
   "source": [
    "array_1 = np.arange(0,20,2) # Start = 0 , end = 20, space of 2, included 0\n",
    "print(array_1)\n",
    "array_2 = np.linspace(0,20,6) # Start from 0,include 20 end with 20 where output has 4 elements.Last value represent how many elements in an array you want.\n",
    "print(array_2)"
   ]
  },
  {
   "cell_type": "code",
   "execution_count": 3,
   "id": "fb00e32f-a9bd-40b0-bb33-99424e867dca",
   "metadata": {},
   "outputs": [
    {
     "name": "stdout",
     "output_type": "stream",
     "text": [
      "[[0. 0. 0.]\n",
      " [0. 0. 0.]] [[1. 1. 1.]] [3. 2. 1.] [-0.26619091 -1.06792966  0.60498914  0.14546578]\n"
     ]
    }
   ],
   "source": [
    "zeros_arr = np.zeros((2,3)) # 2 rows, 3 columns filled with 0's , defined, intialized every element to be 0\n",
    "ones_arr = np.ones((1,3))\n",
    "empty_arr = np.empty(3) # defined there's an empty array but uninitalized.\n",
    "random = np.random.randn(4)\n",
    "print(zeros_arr,ones_arr,empty_arr, random)"
   ]
  },
  {
   "cell_type": "raw",
   "id": "2b357c93-aa80-4d25-8403-0b61da87b713",
   "metadata": {},
   "source": [
    "To find shape, dimension, size of an array. "
   ]
  },
  {
   "cell_type": "code",
   "execution_count": 4,
   "id": "b9cc2461-f64f-4369-86e7-cb87bd493f6c",
   "metadata": {},
   "outputs": [
    {
     "name": "stdout",
     "output_type": "stream",
     "text": [
      "1 2\n",
      "3\n",
      "3 [10 12]\n"
     ]
    }
   ],
   "source": [
    "#DIMENSION: length, width, height of an array, returns integer value\n",
    "oneD_a = np.array([10,20,30])\n",
    "twoD_a = np.array([[10,23,56],[3,4,5]])\n",
    "reshaped_twoD_a = twoD_a.reshape((3,2,1))\n",
    "threeD_a = np.array([[[10,12],[12,14]],[[14,15],[16,20]]])\n",
    "print(oneD_a.ndim, twoD_a.ndim)\n",
    "print(reshaped_twoD_a.ndim)\n",
    "print(threeD_a.ndim,threeD_a[0][0])"
   ]
  },
  {
   "cell_type": "code",
   "execution_count": 5,
   "id": "ff40ee4b-006f-48cc-aab8-9fe5622314cb",
   "metadata": {},
   "outputs": [
    {
     "name": "stdout",
     "output_type": "stream",
     "text": [
      "('anjila', 25) anjila 25\n",
      "one d shape (3,) Two d shape (2, 3)\n",
      "(3, 2, 1)\n",
      "Shape of 3d array (2, 2, 2)\n"
     ]
    }
   ],
   "source": [
    "# SHAPE: length of each dimension,returns tuple: tuple in python is similar to list,but in tuple wrapped with (),and is immutable, ordered.\n",
    "tuple_a = ('anjila', 25)\n",
    "print(tuple_a, tuple_a[0], tuple_a[1])\n",
    "# Immutability\n",
    "# tuple_a[2] = 100\n",
    "oneD_a = np.array([10,20,30])\n",
    "twoD_a = np.array([[10,23,56],[3,4,5]])\n",
    "reshaped_twoD_a = twoD_a.reshape((3,2,1))\n",
    "threeD_a = np.array([[[10,12],[12,14]],[[14,15],[16,20]]])\n",
    "print('one d shape',oneD_a.shape, 'Two d shape',twoD_a.shape)\n",
    "print(reshaped_twoD_a.shape)\n",
    "print(\"Shape of 3d array\",threeD_a.shape)"
   ]
  },
  {
   "cell_type": "code",
   "execution_count": 6,
   "id": "404fe85d-46c0-44d2-bb08-91cbeec5d27c",
   "metadata": {},
   "outputs": [
    {
     "name": "stdout",
     "output_type": "stream",
     "text": [
      "3 Size\n",
      "6 Size\n",
      "8 Size\n"
     ]
    }
   ],
   "source": [
    "# SIZE: total number of elements in an array.\n",
    "oneD_a = np.array([10,20,30])\n",
    "twoD_a = np.array([[10,23,56],[3,4,5]])\n",
    "reshaped_twoD_a = twoD_a.reshape((3,2,1))\n",
    "threeD_a = np.array([[[10,12],[12,14]],[[14,15],[16,20]]])\n",
    "print(oneD_a.size,'Size')\n",
    "print(twoD_a.size,'Size')\n",
    "print(threeD_a.size,'Size')"
   ]
  },
  {
   "cell_type": "markdown",
   "id": "24a02b14-fbc6-4559-81cc-dd2665d825ae",
   "metadata": {},
   "source": [
    "BROADCASTING: Numpy can perform mathematical operations in an array of different shapes. For example: \n",
    "Below we observe that a.shape is (2,) is 1d ARRAY, and when scalar is multiplied, scalar is also converted into (2,) such that \n",
    "each element in array is multiplied by scalar."
   ]
  },
  {
   "cell_type": "code",
   "execution_count": 7,
   "id": "5e329579-195e-458b-ae79-59f63d4fe5fb",
   "metadata": {},
   "outputs": [
    {
     "name": "stdout",
     "output_type": "stream",
     "text": [
      "[20 40]\n"
     ]
    }
   ],
   "source": [
    "a_test = np.array([10,20])\n",
    "scalar_val = 2\n",
    "# Here you can multiply scalar to array\n",
    "print(a_test * scalar_val)"
   ]
  },
  {
   "cell_type": "code",
   "execution_count": null,
   "id": "59ac3cd9-f122-47c1-b115-0e4388ba5730",
   "metadata": {},
   "outputs": [],
   "source": [
    "# Just test"
   ]
  }
 ],
 "metadata": {
  "kernelspec": {
   "display_name": "Python 3 (ipykernel)",
   "language": "python",
   "name": "python3"
  },
  "language_info": {
   "codemirror_mode": {
    "name": "ipython",
    "version": 3
   },
   "file_extension": ".py",
   "mimetype": "text/x-python",
   "name": "python",
   "nbconvert_exporter": "python",
   "pygments_lexer": "ipython3",
   "version": "3.9.6"
  }
 },
 "nbformat": 4,
 "nbformat_minor": 5
}

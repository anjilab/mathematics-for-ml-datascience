{
 "cells": [
  {
   "cell_type": "code",
   "execution_count": 2,
   "id": "a49e14ec-7df1-46d8-84e7-6f21d00dbce2",
   "metadata": {},
   "outputs": [],
   "source": [
    "import numpy as np"
   ]
  },
  {
   "cell_type": "code",
   "execution_count": 8,
   "id": "fbd50831-248a-499e-be47-783f1433bb04",
   "metadata": {},
   "outputs": [
    {
     "name": "stdout",
     "output_type": "stream",
     "text": [
      "Matrix Multiplication: [[3 1]\n",
      " [1 3]\n",
      " [1 1]]\n",
      "Matrix multiplication using @: [[3 1]\n",
      " [1 3]\n",
      " [1 1]]\n",
      "matmul: Input operand 1 has a mismatch in its core dimension 0, with gufunc signature (n?,k),(k,m?)->(n?,m?) (size 3 is different from 2)\n"
     ]
    }
   ],
   "source": [
    "A = np.array([[1,0,0],[0,1,0],[0,0,1]])\n",
    "B = np.array([[3,1],[1,3],[1,1]])\n",
    "C = np.matmul(A,B)\n",
    "print(\"Matrix Multiplication:\",C)\n",
    "print(\"Matrix multiplication using @:\", A@B)\n",
    "# Check dimension for matrix multiplication\n",
    "try:\n",
    "    np.matmul(B, A)\n",
    "except ValueError as err:\n",
    "    print(err)"
   ]
  },
  {
   "cell_type": "code",
   "execution_count": 16,
   "id": "30d178fd-4d9c-4200-b2bf-180509f35169",
   "metadata": {},
   "outputs": [
    {
     "name": "stdout",
     "output_type": "stream",
     "text": [
      "Shape of x vector (3,) y vector (3,)\n",
      "Dimension of x vector 1\n",
      "Here x has 3*1, y has 3*1, shape mismatch: 3 3 3 [[3 1]\n",
      " [1 3]\n",
      " [1 1]]\n"
     ]
    }
   ],
   "source": [
    "# Vector multiplcation with matrix is possible by using reshape: method \n",
    "x = np.array([1,-2,-5])\n",
    "y = np.array([4,3,-1])\n",
    "print(\"Shape of x vector\", x.shape, \"y vector\", y.shape)\n",
    "print(\"Dimension of x vector\", x.ndim)\n",
    "# Though matmul and @ gives dot product when shape mismatch, be careful while using this property. Using broadcasting.\n",
    "print(\"Here x has 3*1, y has 3*1, shape mismatch:\", np.matmul(x,y) , x@y, np.dot(x,y), np.dot(A,B))"
   ]
  }
 ],
 "metadata": {
  "kernelspec": {
   "display_name": "Python 3 (ipykernel)",
   "language": "python",
   "name": "python3"
  },
  "language_info": {
   "codemirror_mode": {
    "name": "ipython",
    "version": 3
   },
   "file_extension": ".py",
   "mimetype": "text/x-python",
   "name": "python",
   "nbconvert_exporter": "python",
   "pygments_lexer": "ipython3",
   "version": "3.9.6"
  }
 },
 "nbformat": 4,
 "nbformat_minor": 5
}

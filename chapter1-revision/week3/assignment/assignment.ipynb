{
 "cells": [
  {
   "cell_type": "code",
   "execution_count": 1,
   "id": "4ab9ce98-ff9f-48d5-ae11-68c6949740d4",
   "metadata": {},
   "outputs": [],
   "source": [
    "import numpy as np\n",
    "import matplotlib.pyplot as plt\n",
    "from sklearn.datasets import make_regression\n",
    "import pandas as pd\n",
    "import w3_tools\n",
    "np.random.seed(3)"
   ]
  },
  {
   "cell_type": "code",
   "execution_count": 2,
   "id": "a805bb91-28c6-4bf9-8b70-7b28465c2d5c",
   "metadata": {},
   "outputs": [],
   "source": [
    "import test"
   ]
  },
  {
   "cell_type": "code",
   "execution_count": 6,
   "id": "b8e0d2b0-fe80-4e8c-9857-db5d1c06bedd",
   "metadata": {},
   "outputs": [
    {
     "name": "stdout",
     "output_type": "stream",
     "text": [
      "1 (30,) 2 (30, 1)\n",
      "(30, 1) (30,)\n",
      "(1, 30) (30,)\n",
      "(1, 30) (1, 30)\n",
      "X: 2\n",
      "Y: [[ -3.01854669 -65.65047675  26.96755728   8.70562603  57.94332628\n",
      "   -0.69293498 -78.66594473 -12.73881492 -13.26721663 -24.80488085\n",
      "  -74.24484385 -39.99533724 -22.70174437  73.46766345  55.7257405\n",
      "   23.80417646 -13.45481508  25.57952246  75.91238321  50.91155323\n",
      "  -43.7191551   -1.7025559  -16.44931235 -33.54041234  20.4505961\n",
      "   18.35949302  37.69029586  -1.04801683  -4.47915933 -20.89431647]]\n"
     ]
    }
   ],
   "source": [
    "# Create 30 data points datasets\n",
    "m =30 \n",
    "X,Y = make_regression(n_samples=30,n_features=1, noise=20, random_state=1)\n",
    "# print(X,Y)\n",
    "print(Y.ndim, Y.shape, X.ndim, X.shape)\n",
    "print(X.shape, Y.shape)\n",
    "# Since X is represented as vector 30*1 column so converting into matrix => 1*30\n",
    "X =X.reshape((1,m))\n",
    "print(X.shape, Y.shape)\n",
    "Y = Y.reshape((1,m))\n",
    "print(X.shape, Y.shape)\n",
    "print('X:',X.ndim)\n",
    "print('Y:',Y)"
   ]
  },
  {
   "cell_type": "code",
   "execution_count": 9,
   "id": "a13e2458-574a-41cd-ac96-43062f7090c2",
   "metadata": {},
   "outputs": [
    {
     "data": {
      "text/plain": [
       "Text(0, 0.5, '$y$')"
      ]
     },
     "execution_count": 9,
     "metadata": {},
     "output_type": "execute_result"
    },
    {
     "data": {
      "image/png": "[encoded data removed]",
      "text/plain": [
       "<Figure size 640x480 with 1 Axes>"
      ]
     },
     "metadata": {},
     "output_type": "display_data"
    }
   ],
   "source": [
    "plt.scatter(X,  Y, c=\"blue\")\n",
    "\n",
    "plt.xlabel(\"$x$\")\n",
    "plt.ylabel(\"$y$\")"
   ]
  },
  {
   "cell_type": "code",
   "execution_count": 15,
   "id": "5c9085b5-69d0-40b6-b036-04337675a2ca",
   "metadata": {},
   "outputs": [
    {
     "name": "stdout",
     "output_type": "stream",
     "text": [
      "(1, 30) (1, 30) 30\n",
      "\u001b[92m All tests passed\n"
     ]
    }
   ],
   "source": [
    "X_shape = X.shape\n",
    "Y_shape = Y.shape\n",
    "training_example = X_shape[1]\n",
    "print(X_shape,Y_shape,training_example)\n",
    "test.test_shapes(X_shape, Y_shape, training_example)"
   ]
  },
  {
   "cell_type": "code",
   "execution_count": 21,
   "id": "d133563e-f1ca-4a12-9ee0-0f3f6a790ab1",
   "metadata": {},
   "outputs": [
    {
     "name": "stdout",
     "output_type": "stream",
     "text": [
      "(1, 30) (1, 30)\n",
      "size of nueral network structure 1 1\n",
      "(1, 30) (1, 30)\n",
      "(5, 100) (3, 100)\n",
      "\u001b[92m All tests passed\n"
     ]
    }
   ],
   "source": [
    "def layer_size(X,Y):\n",
    "    print(X.shape,Y.shape)\n",
    "    n_x = X.shape[0]\n",
    "    n_y = Y.shape[0]\n",
    "    # returning as python tuple.\n",
    "    return (n_x,n_y)\n",
    "\n",
    "n_x, n_y =  layer_size(X,Y)\n",
    "print(\"size of nueral network structure\",n_x,n_y)\n",
    "\n",
    "test.test_layer_sizes(layer_size)\n"
   ]
  },
  {
   "cell_type": "code",
   "execution_count": 33,
   "id": "628d5e71-b31c-43ad-891f-b8832405aec1",
   "metadata": {},
   "outputs": [
    {
     "name": "stdout",
     "output_type": "stream",
     "text": [
      "\u001b[92m All tests passed\n"
     ]
    }
   ],
   "source": [
    "def initialize_model_params(n_x,n_y):\n",
    "    w = np.random.randn(n_y,n_x) * 0.01\n",
    "    b = np.zeros((n_y,1))\n",
    "    params = {\"W\":w, \"b\":b}\n",
    "    return params\n",
    "\n",
    "parameters = initialize_model_params(n_x,n_y)\n",
    "test.test_initialize_parameters(initialize_model_params)\n",
    "\n",
    "\n"
   ]
  }
 ],
 "metadata": {
  "kernelspec": {
   "display_name": "Python 3 (ipykernel)",
   "language": "python",
   "name": "python3"
  },
  "language_info": {
   "codemirror_mode": {
    "name": "ipython",
    "version": 3
   },
   "file_extension": ".py",
   "mimetype": "text/x-python",
   "name": "python",
   "nbconvert_exporter": "python",
   "pygments_lexer": "ipython3",
   "version": "3.9.6"
  }
 },
 "nbformat": 4,
 "nbformat_minor": 5
}

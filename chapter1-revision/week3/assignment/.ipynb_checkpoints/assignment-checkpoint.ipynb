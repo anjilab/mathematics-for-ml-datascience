{
 "cells": [
  {
   "cell_type": "code",
   "execution_count": 1,
   "id": "4ab9ce98-ff9f-48d5-ae11-68c6949740d4",
   "metadata": {},
   "outputs": [],
   "source": [
    "import numpy as np\n",
    "import matplotlib.pyplot as plt\n",
    "from sklearn.datasets import make_regression\n",
    "import pandas as pd\n",
    "import w3_tools\n",
    "np.random.seed(3)"
   ]
  },
  {
   "cell_type": "code",
   "execution_count": 2,
   "id": "a805bb91-28c6-4bf9-8b70-7b28465c2d5c",
   "metadata": {},
   "outputs": [],
   "source": [
    "import test"
   ]
  },
  {
   "cell_type": "code",
   "execution_count": 6,
   "id": "b8e0d2b0-fe80-4e8c-9857-db5d1c06bedd",
   "metadata": {},
   "outputs": [
    {
     "name": "stdout",
     "output_type": "stream",
     "text": [
      "1 (30,) 2 (30, 1)\n",
      "(30, 1) (30,)\n",
      "(1, 30) (30,)\n",
      "(1, 30) (1, 30)\n",
      "X: 2\n",
      "Y: [[ -3.01854669 -65.65047675  26.96755728   8.70562603  57.94332628\n",
      "   -0.69293498 -78.66594473 -12.73881492 -13.26721663 -24.80488085\n",
      "  -74.24484385 -39.99533724 -22.70174437  73.46766345  55.7257405\n",
      "   23.80417646 -13.45481508  25.57952246  75.91238321  50.91155323\n",
      "  -43.7191551   -1.7025559  -16.44931235 -33.54041234  20.4505961\n",
      "   18.35949302  37.69029586  -1.04801683  -4.47915933 -20.89431647]]\n"
     ]
    }
   ],
   "source": [
    "# Create 30 data points datasets\n",
    "m =30 \n",
    "X,Y = make_regression(n_samples=30,n_features=1, noise=20, random_state=1)\n",
    "# print(X,Y)\n",
    "print(Y.ndim, Y.shape, X.ndim, X.shape)\n",
    "print(X.shape, Y.shape)\n",
    "# Since X is represented as vector 30*1 column so converting into matrix => 1*30\n",
    "X =X.reshape((1,m))\n",
    "print(X.shape, Y.shape)\n",
    "Y = Y.reshape((1,m))\n",
    "print(X.shape, Y.shape)\n",
    "print('X:',X.ndim)\n",
    "print('Y:',Y)"
   ]
  },
  {
   "cell_type": "code",
   "execution_count": 9,
   "id": "a13e2458-574a-41cd-ac96-43062f7090c2",
   "metadata": {},
   "outputs": [
    {
     "data": {
      "text/plain": [
       "Text(0, 0.5, '$y$')"
      ]
     },
     "execution_count": 9,
     "metadata": {},
     "output_type": "execute_result"
    },
    {
     "data": {
      "image/png": "[encoded data removed]",
      "text/plain": [
       "<Figure size 640x480 with 1 Axes>"
      ]
     },
     "metadata": {},
     "output_type": "display_data"
    }
   ],
   "source": [
    "plt.scatter(X,  Y, c=\"blue\")\n",
    "\n",
    "plt.xlabel(\"$x$\")\n",
    "plt.ylabel(\"$y$\")"
   ]
  },
  {
   "cell_type": "code",
   "execution_count": 15,
   "id": "5c9085b5-69d0-40b6-b036-04337675a2ca",
   "metadata": {},
   "outputs": [
    {
     "name": "stdout",
     "output_type": "stream",
     "text": [
      "(1, 30) (1, 30) 30\n",
      "\u001b[92m All tests passed\n"
     ]
    }
   ],
   "source": [
    "X_shape = X.shape\n",
    "Y_shape = Y.shape\n",
    "training_example = X_shape[1]\n",
    "print(X_shape,Y_shape,training_example)\n",
    "test.test_shapes(X_shape, Y_shape, training_example)"
   ]
  },
  {
   "cell_type": "code",
   "execution_count": 21,
   "id": "d133563e-f1ca-4a12-9ee0-0f3f6a790ab1",
   "metadata": {},
   "outputs": [
    {
     "name": "stdout",
     "output_type": "stream",
     "text": [
      "(1, 30) (1, 30)\n",
      "size of nueral network structure 1 1\n",
      "(1, 30) (1, 30)\n",
      "(5, 100) (3, 100)\n",
      "\u001b[92m All tests passed\n"
     ]
    }
   ],
   "source": [
    "def layer_size(X,Y):\n",
    "    print(X.shape,Y.shape)\n",
    "    n_x = X.shape[0]\n",
    "    n_y = Y.shape[0]\n",
    "    # returning as python tuple.\n",
    "    return (n_x,n_y)\n",
    "\n",
    "n_x, n_y =  layer_size(X,Y)\n",
    "print(\"size of nueral network structure\",n_x,n_y)\n",
    "\n",
    "test.test_layer_sizes(layer_size)\n"
   ]
  },
  {
   "cell_type": "code",
   "execution_count": 44,
   "id": "628d5e71-b31c-43ad-891f-b8832405aec1",
   "metadata": {},
   "outputs": [
    {
     "name": "stdout",
     "output_type": "stream",
     "text": [
      "\u001b[92m All tests passed\n"
     ]
    }
   ],
   "source": [
    "def initialize_model_params(n_x,n_y):\n",
    "    w = np.random.randn(n_y,n_x) * 0.01\n",
    "    b = np.zeros((n_y,1))\n",
    "    assert (w.shape == (n_y, n_x))\n",
    "    assert (b.shape == (n_y, 1))\n",
    "    params = {\"W\":w, \"b\":b}\n",
    "    return params\n",
    "\n",
    "parameters = initialize_model_params(n_x,n_y)\n",
    "test.test_initialize_parameters(initialize_model_params)\n",
    "\n",
    "\n"
   ]
  },
  {
   "cell_type": "code",
   "execution_count": 54,
   "id": "6381f883-149a-427b-825e-76755bae1b8a",
   "metadata": {},
   "outputs": [
    {
     "name": "stdout",
     "output_type": "stream",
     "text": [
      "\u001b[92m All tests passed\n"
     ]
    }
   ],
   "source": [
    "def forward_propagation(X,parameters):\n",
    "    W = parameters[\"W\"]\n",
    "    b = parameters[\"b\"]\n",
    "    predicted_y = np.dot(W,X) + b\n",
    "\n",
    "    assert(predicted_y.shape == (n_x, X.shape[1]))\n",
    "    return predicted_y\n",
    "\n",
    "predicted_y = forward_propagation(X,parameters)\n",
    "test.test_forward_propagation(forward_propagation)"
   ]
  },
  {
   "cell_type": "code",
   "execution_count": 63,
   "id": "f851484e-4503-4c13-a4c6-3285d27720f0",
   "metadata": {},
   "outputs": [
    {
     "name": "stdout",
     "output_type": "stream",
     "text": [
      "30 (1, 30) (1, 30)\n",
      "791.0621676050226\n"
     ]
    }
   ],
   "source": [
    "def cost_compute(Y,predicted_y):\n",
    "    m = Y.shape[1]\n",
    "    print(m, Y.shape, predicted_y.shape)\n",
    "    cost = np.sum((predicted_y - Y) ** 2)/(2*m)\n",
    "    return cost\n",
    "\n",
    "print(cost_compute(Y,predicted_y))\n",
    "    "
   ]
  },
  {
   "cell_type": "code",
   "execution_count": 66,
   "id": "42225fef-0630-4a42-af6a-d10ccab3cb72",
   "metadata": {},
   "outputs": [
    {
     "name": "stdout",
     "output_type": "stream",
     "text": [
      "W = [[87.28313592]]\n",
      "b = [[0.3551927]]\n"
     ]
    }
   ],
   "source": [
    "parameters = w3_tools.train_nn(parameters, predicted_y, X, Y)\n",
    "\n",
    "print(\"W = \" + str(parameters[\"W\"]))\n",
    "print(\"b = \" + str(parameters[\"b\"]))"
   ]
  },
  {
   "cell_type": "code",
   "execution_count": 73,
   "id": "1d08849a-cf7e-451d-9aed-c89c00775444",
   "metadata": {},
   "outputs": [
    {
     "name": "stdout",
     "output_type": "stream",
     "text": [
      "Inside\n",
      "(1, 30) (1, 30)\n",
      "30 (1, 30) (1, 30)\n",
      "Computed cost is: 790.4177761636311\n",
      "30 (1, 30) (1, 30)\n",
      "Computed cost is: 176.47296318285981\n",
      "30 (1, 30) (1, 30)\n",
      "Computed cost is: 143.76809216752073\n",
      "30 (1, 30) (1, 30)\n",
      "Computed cost is: 141.43327479510305\n",
      "30 (1, 30) (1, 30)\n",
      "Computed cost is: 141.2487166735392\n",
      "30 (1, 30) (1, 30)\n",
      "Computed cost is: 141.23372580825995\n",
      "30 (1, 30) (1, 30)\n",
      "Computed cost is: 141.23249998795075\n",
      "30 (1, 30) (1, 30)\n",
      "Computed cost is: 141.2323995894764\n",
      "30 (1, 30) (1, 30)\n",
      "Computed cost is: 141.23239136335297\n",
      "30 (1, 30) (1, 30)\n",
      "Computed cost is: 141.2323906892853\n",
      "30 (1, 30) (1, 30)\n",
      "Computed cost is: 141.23239063404938\n",
      "30 (1, 30) (1, 30)\n",
      "Computed cost is: 141.2323906295231\n",
      "30 (1, 30) (1, 30)\n",
      "Computed cost is: 141.2323906291522\n",
      "30 (1, 30) (1, 30)\n",
      "Computed cost is: 141.2323906291218\n",
      "30 (1, 30) (1, 30)\n",
      "Computed cost is: 141.23239062911932\n",
      "Inside\n",
      "(1, 30) (1, 30)\n",
      "30 (1, 30) (1, 30)\n",
      "30 (1, 30) (1, 30)\n",
      "30 (1, 30) (1, 30)\n",
      "30 (1, 30) (1, 30)\n",
      "30 (1, 30) (1, 30)\n",
      "30 (1, 30) (1, 30)\n",
      "30 (1, 30) (1, 30)\n",
      "30 (1, 30) (1, 30)\n",
      "30 (1, 30) (1, 30)\n",
      "30 (1, 30) (1, 30)\n",
      "Inside\n",
      "(2, 5) (1, 5)\n",
      "5 (1, 5) (1, 5)\n",
      "5 (1, 5) (1, 5)\n",
      "5 (1, 5) (1, 5)\n",
      "5 (1, 5) (1, 5)\n",
      "5 (1, 5) (1, 5)\n",
      "5 (1, 5) (1, 5)\n",
      "5 (1, 5) (1, 5)\n",
      "5 (1, 5) (1, 5)\n",
      "5 (1, 5) (1, 5)\n",
      "5 (1, 5) (1, 5)\n",
      "5 (1, 5) (1, 5)\n",
      "5 (1, 5) (1, 5)\n",
      "5 (1, 5) (1, 5)\n",
      "5 (1, 5) (1, 5)\n",
      "5 (1, 5) (1, 5)\n",
      "5 (1, 5) (1, 5)\n",
      "5 (1, 5) (1, 5)\n",
      "5 (1, 5) (1, 5)\n",
      "5 (1, 5) (1, 5)\n",
      "5 (1, 5) (1, 5)\n",
      "5 (1, 5) (1, 5)\n",
      "5 (1, 5) (1, 5)\n",
      "5 (1, 5) (1, 5)\n",
      "5 (1, 5) (1, 5)\n",
      "5 (1, 5) (1, 5)\n",
      "5 (1, 5) (1, 5)\n",
      "5 (1, 5) (1, 5)\n",
      "5 (1, 5) (1, 5)\n",
      "5 (1, 5) (1, 5)\n",
      "5 (1, 5) (1, 5)\n",
      "5 (1, 5) (1, 5)\n",
      "5 (1, 5) (1, 5)\n",
      "5 (1, 5) (1, 5)\n",
      "5 (1, 5) (1, 5)\n",
      "5 (1, 5) (1, 5)\n",
      "5 (1, 5) (1, 5)\n",
      "5 (1, 5) (1, 5)\n",
      "5 (1, 5) (1, 5)\n",
      "5 (1, 5) (1, 5)\n",
      "5 (1, 5) (1, 5)\n",
      "5 (1, 5) (1, 5)\n",
      "5 (1, 5) (1, 5)\n",
      "5 (1, 5) (1, 5)\n",
      "5 (1, 5) (1, 5)\n",
      "5 (1, 5) (1, 5)\n",
      "5 (1, 5) (1, 5)\n",
      "5 (1, 5) (1, 5)\n",
      "5 (1, 5) (1, 5)\n",
      "5 (1, 5) (1, 5)\n",
      "5 (1, 5) (1, 5)\n",
      "5 (1, 5) (1, 5)\n",
      "5 (1, 5) (1, 5)\n",
      "5 (1, 5) (1, 5)\n",
      "5 (1, 5) (1, 5)\n",
      "5 (1, 5) (1, 5)\n",
      "5 (1, 5) (1, 5)\n",
      "5 (1, 5) (1, 5)\n",
      "5 (1, 5) (1, 5)\n",
      "5 (1, 5) (1, 5)\n",
      "5 (1, 5) (1, 5)\n",
      "5 (1, 5) (1, 5)\n",
      "5 (1, 5) (1, 5)\n",
      "5 (1, 5) (1, 5)\n",
      "5 (1, 5) (1, 5)\n",
      "5 (1, 5) (1, 5)\n",
      "5 (1, 5) (1, 5)\n",
      "5 (1, 5) (1, 5)\n",
      "5 (1, 5) (1, 5)\n",
      "5 (1, 5) (1, 5)\n",
      "5 (1, 5) (1, 5)\n",
      "5 (1, 5) (1, 5)\n",
      "5 (1, 5) (1, 5)\n",
      "5 (1, 5) (1, 5)\n",
      "5 (1, 5) (1, 5)\n",
      "5 (1, 5) (1, 5)\n",
      "5 (1, 5) (1, 5)\n",
      "5 (1, 5) (1, 5)\n",
      "5 (1, 5) (1, 5)\n",
      "5 (1, 5) (1, 5)\n",
      "5 (1, 5) (1, 5)\n",
      "5 (1, 5) (1, 5)\n",
      "5 (1, 5) (1, 5)\n",
      "5 (1, 5) (1, 5)\n",
      "5 (1, 5) (1, 5)\n",
      "5 (1, 5) (1, 5)\n",
      "5 (1, 5) (1, 5)\n",
      "5 (1, 5) (1, 5)\n",
      "5 (1, 5) (1, 5)\n",
      "5 (1, 5) (1, 5)\n",
      "5 (1, 5) (1, 5)\n",
      "5 (1, 5) (1, 5)\n",
      "5 (1, 5) (1, 5)\n",
      "5 (1, 5) (1, 5)\n",
      "5 (1, 5) (1, 5)\n",
      "5 (1, 5) (1, 5)\n",
      "5 (1, 5) (1, 5)\n",
      "5 (1, 5) (1, 5)\n",
      "5 (1, 5) (1, 5)\n",
      "5 (1, 5) (1, 5)\n",
      "5 (1, 5) (1, 5)\n",
      "\u001b[92m All tests passed\n"
     ]
    }
   ],
   "source": [
    "def nn_model(X,Y,num_iterations=10,show_cost=False):\n",
    "    print(\"Inside\")\n",
    "    layer_sizes = layer_size(X,Y)\n",
    "    n_x = layer_sizes[0]\n",
    "    n_y = layer_sizes[1]\n",
    "    \n",
    "    parameters = initialize_model_params(n_x,n_y)\n",
    "    for i in range(num_iterations):\n",
    "        y_hat = forward_propagation(X,parameters)\n",
    "        cost = cost_compute(Y,y_hat)\n",
    "        parameters =  w3_tools.train_nn(parameters, y_hat, X, Y)\n",
    "        if show_cost:\n",
    "            print(\"Computed cost is:\", cost)\n",
    "    return parameters\n",
    "\n",
    "parameters = nn_model(X,Y,15,show_cost=True)\n",
    "\n",
    "W = parameters[\"W\"]\n",
    "b = parameters[\"b\"]\n",
    "\n",
    "test.test_nn_model(nn_model)\n",
    "    \n"
   ]
  },
  {
   "cell_type": "code",
   "execution_count": 90,
   "id": "7a2bbb0c-d33f-408a-818f-2cfdbc697b75",
   "metadata": {},
   "outputs": [
    {
     "data": {
      "image/png": "[encoded data removed]",
      "text/plain": [
       "<Figure size 640x480 with 1 Axes>"
      ]
     },
     "metadata": {},
     "output_type": "display_data"
    }
   ],
   "source": [
    "X_pred = np.array([-0.95, 0.2, 1.5])\n",
    "fig, ax = plt.subplots()\n",
    "plt.scatter(X, Y, color = \"black\")\n",
    "\n",
    "plt.xlabel(\"$x$\")\n",
    "plt.ylabel(\"$y$\")\n",
    "    \n",
    "X_line = np.arange(np.min(X[0,:]),np.max(X[0,:])*1.1, 0.1)\n",
    "plt.plot(X_line, W[0,0] * X_line + b[0,0], \"r\")\n",
    "plt.plot(X_pred, W[0,0] * X_pred + b[0,0], \"bo\")\n",
    "plt.plot()\n",
    "plt.show()"
   ]
  }
 ],
 "metadata": {
  "kernelspec": {
   "display_name": "Python 3 (ipykernel)",
   "language": "python",
   "name": "python3"
  },
  "language_info": {
   "codemirror_mode": {
    "name": "ipython",
    "version": 3
   },
   "file_extension": ".py",
   "mimetype": "text/x-python",
   "name": "python",
   "nbconvert_exporter": "python",
   "pygments_lexer": "ipython3",
   "version": "3.9.6"
  }
 },
 "nbformat": 4,
 "nbformat_minor": 5
}

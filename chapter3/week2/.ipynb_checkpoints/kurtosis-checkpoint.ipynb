{
 "cells": [
  {
   "cell_type": "markdown",
   "id": "97f87825-27b1-4d0d-bf55-0f26055318fd",
   "metadata": {},
   "source": [
    "## KURTOSIS: Below we see all three measure of distribution is same for 2 different distribution, hence we use kurtosis. observe fourth moment, we see different values, this captures the distinction between two distribution. So, if any values that are far away from 0 even if their probabilites are very small like in second case, this can be observed via 4th moment(standardize) called kurtosis. \n",
    "THICK TAILS => KURTOSIS E[(X-μ)^4/ σ^4]  IS LARGER, TINY TAILS (VERY SMALL AMOUNT OF DATA AT THE END FAR AWAY FROM CENTER) -> KURTOSIS E[(X-μ)^4/ σ^4] SMALLER."
   ]
  },
  {
   "cell_type": "code",
   "execution_count": 34,
   "id": "9387fd89-ff84-462a-9cd6-65b755b5677e",
   "metadata": {},
   "outputs": [
    {
     "name": "stdout",
     "output_type": "stream",
     "text": [
      "expected value(first moment) 0.0 0.0\n",
      "spreadness value(second moment) 1.0 1.0\n",
      "skewness value(third moment) 0.0\n",
      "kurtosis value(fourth moment) 1.0\n"
     ]
    },
    {
     "data": {
      "image/png": "[encoded data removed]",
      "text/plain": [
       "<Figure size 200x200 with 1 Axes>"
      ]
     },
     "metadata": {},
     "output_type": "display_data"
    }
   ],
   "source": [
    "import matplotlib.pyplot as plt\n",
    "import numpy as np\n",
    "\n",
    "plt.style.use('_mpl-gallery')\n",
    "\n",
    "# make data:\n",
    "x = [-1,1]\n",
    "y = [0.5,0.5]\n",
    "E1 = np.dot(x,y) # first moment\n",
    "V1 = np.dot(np.power(x,2),y) # second moment\n",
    "S1 = np.dot(np.power(x,3),y) # third moment\n",
    "E4 = np.dot(np.power(x,4),y) # fourth moment (kurtosis)\n",
    "\n",
    "\n",
    "print(\"expected value(first moment)\",E1,np.mean(x))\n",
    "print(\"spreadness value(second moment)\",V1, np.var(x))\n",
    "print(\"skewness value(third moment)\",S1)\n",
    "print(\"kurtosis value(fourth moment)\",E4)\n",
    "\n",
    "\n",
    "\n",
    "\n",
    "# plot\n",
    "fig, ax = plt.subplots()\n",
    "\n",
    "ax.bar(x, y, width=1, edgecolor=\"white\", linewidth=0.7)\n",
    "\n",
    "\n",
    "plt.show()"
   ]
  },
  {
   "cell_type": "code",
   "execution_count": 33,
   "id": "332771e1-c7d7-436d-aee4-b8d0449ad15b",
   "metadata": {},
   "outputs": [
    {
     "name": "stdout",
     "output_type": "stream",
     "text": [
      "expected value(first moment) 0.0 0.0\n",
      "spreadness value(second moment) 0.9901980198019802 50.00005\n",
      "skewness value(third moment) 0.0 99.009901\n",
      "kurtosis value(fourth moment) 99.009901\n"
     ]
    },
    {
     "data": {
      "image/png": "[encoded data removed]",
      "text/plain": [
       "<Figure size 200x200 with 1 Axes>"
      ]
     },
     "metadata": {},
     "output_type": "display_data"
    }
   ],
   "source": [
    "# second case: where tiny probability exist.\n",
    "\n",
    "plt.style.use('_mpl-gallery')\n",
    "\n",
    "# make data:\n",
    "x = [-10, -0.01,0.01,10] # 10 = 10$, -0.01 = 1 cents\n",
    "y = [1/202,100/202,100/202,1/202]\n",
    "\n",
    "E2 = np.dot(x,y) # first moment\n",
    "V2 = np.dot(np.power(x,2),y) # second moment\n",
    "S2 = np.dot(np.power(x,3),y) # third moment\n",
    "E4 = np.dot(np.power(x,4),y) \n",
    "\n",
    "print(\"expected value(first moment)\",E2,np.mean(x))\n",
    "print(\"spreadness value(second moment)\",V2, np.var(x))\n",
    "print(\"skewness value(third moment)\",S2,E4) \n",
    "print(\"kurtosis value(fourth moment)\",E4)\n",
    "\n",
    "# plot\n",
    "fig, ax = plt.subplots()\n",
    "\n",
    "ax.bar(x, y)\n",
    "\n",
    "\n",
    "plt.show()"
   ]
  }
 ],
 "metadata": {
  "kernelspec": {
   "display_name": "Python 3 (ipykernel)",
   "language": "python",
   "name": "python3"
  },
  "language_info": {
   "codemirror_mode": {
    "name": "ipython",
    "version": 3
   },
   "file_extension": ".py",
   "mimetype": "text/x-python",
   "name": "python",
   "nbconvert_exporter": "python",
   "pygments_lexer": "ipython3",
   "version": "3.9.6"
  }
 },
 "nbformat": 4,
 "nbformat_minor": 5
}

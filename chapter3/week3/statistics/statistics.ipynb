{
 "cells": [
  {
   "cell_type": "code",
   "execution_count": 1,
   "id": "487b3cfe-2da6-4d81-8c24-84f83b6de6f3",
   "metadata": {},
   "outputs": [],
   "source": [
    "import numpy as np"
   ]
  },
  {
   "cell_type": "code",
   "execution_count": 11,
   "id": "a7e5a9a2-b220-4413-9cdf-bae1eb3a76df",
   "metadata": {},
   "outputs": [
    {
     "name": "stdout",
     "output_type": "stream",
     "text": [
      "Average mean of population 215.0\n"
     ]
    }
   ],
   "source": [
    "population = np.array([100,125,150,175,200,225,250,275,300,350])\n",
    "mean_of_population = np.sum(population)/len(population)\n",
    "print(\"Average mean of population\", mean_of_population)"
   ]
  },
  {
   "cell_type": "code",
   "execution_count": 36,
   "id": "661456aa-6114-41ed-9b34-ad75358090d1",
   "metadata": {},
   "outputs": [
    {
     "name": "stdout",
     "output_type": "stream",
     "text": [
      "[225 100 175 175 275 350]\n",
      "Estimated mean of sample 1 216.66666666666666\n"
     ]
    }
   ],
   "source": [
    "np.random.seed(0)\n",
    "sample_1 = np.random.choice(population, 6)\n",
    "average_mean_of_sample_1 = np.sum(sample_1)/len(sample_1)\n",
    "print(\"Estimated mean of sample 1\",average_mean_of_sample_1)\n"
   ]
  },
  {
   "cell_type": "code",
   "execution_count": 30,
   "id": "7f84af0c-fcf6-46a6-91ba-92df164658a7",
   "metadata": {},
   "outputs": [
    {
     "name": "stdout",
     "output_type": "stream",
     "text": [
      "Estimated mean of sample 2 150.0\n"
     ]
    }
   ],
   "source": [
    "population_sorted_2= np.sort(population)\n",
    "sample_2 = population_sorted_2[0:5]\n",
    "\n",
    "average_mean_of_sample_2 = np.sum(sample_2)/len(sample_2)\n",
    "print(\"Estimated mean of sample 2\",average_mean_of_sample_2)"
   ]
  },
  {
   "cell_type": "code",
   "execution_count": 33,
   "id": "71a727cc-4f30-47dc-ad01-60c45de23bd8",
   "metadata": {},
   "outputs": [
    {
     "name": "stdout",
     "output_type": "stream",
     "text": [
      "Estimated mean of sample 3 162.5\n"
     ]
    }
   ],
   "source": [
    "np.random.seed(0)\n",
    "sample_3 = np.random.choice(population, 2)\n",
    "average_mean_of_sample_3 = np.sum(sample_3)/len(sample_3)\n",
    "print(\"Estimated mean of sample 3\",average_mean_of_sample_3)\n"
   ]
  },
  {
   "cell_type": "markdown",
   "id": "f849959f-029b-4d6b-99b0-016f45793dd9",
   "metadata": {},
   "source": [
    "## We can see that the average when randomly sampled is nearly equal to average mean of population. Also, as the sample size decrease, the estimated mean of sample is not nearly equal to population "
   ]
  },
  {
   "cell_type": "code",
   "execution_count": 40,
   "id": "e10759f4-0058-4977-9c18-bef9cc1bf599",
   "metadata": {},
   "outputs": [
    {
     "name": "stdout",
     "output_type": "stream",
     "text": [
      "Population proportion is 0.2\n",
      "Sample proportion is 0.1\n"
     ]
    }
   ],
   "source": [
    "# finding number greater than 290\n",
    "population_proportion = 2 / 10 # 20% of population size has number > 290.\n",
    "print(\"Population proportion is\", population_proportion)\n",
    "sample_proportion_1 = 1 /10 # 10% of sample has number > 290\n",
    "print(\"Sample proportion is\", sample_proportion_1)"
   ]
  },
  {
   "cell_type": "code",
   "execution_count": null,
   "id": "ea3510be-cda3-42ac-b978-7d69ce5db4eb",
   "metadata": {},
   "outputs": [],
   "source": []
  }
 ],
 "metadata": {
  "kernelspec": {
   "display_name": "Python 3 (ipykernel)",
   "language": "python",
   "name": "python3"
  },
  "language_info": {
   "codemirror_mode": {
    "name": "ipython",
    "version": 3
   },
   "file_extension": ".py",
   "mimetype": "text/x-python",
   "name": "python",
   "nbconvert_exporter": "python",
   "pygments_lexer": "ipython3",
   "version": "3.9.6"
  }
 },
 "nbformat": 4,
 "nbformat_minor": 5
}

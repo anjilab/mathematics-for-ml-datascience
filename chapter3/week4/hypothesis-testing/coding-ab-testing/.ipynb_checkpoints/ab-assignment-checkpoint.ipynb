{
 "cells": [
  {
   "cell_type": "code",
   "execution_count": 2,
   "id": "c3ce4350-fe5a-4dc9-8c61-f22013a8dd96",
   "metadata": {},
   "outputs": [],
   "source": [
    "import math\n",
    "import numpy as np\n",
    "import pandas as pd\n",
    "import scipy.stats as stats\n",
    "from dataclasses import dataclass\n",
    "import utils"
   ]
  },
  {
   "cell_type": "raw",
   "id": "4cd24efe-1b8b-475d-93a0-575579a0ea35",
   "metadata": {},
   "source": [
    "Here, you have a website. You found different color palette causes user session duration increased.Hence, rather than changing your palette you first conduct A/B testing. Here A variation = Old color palette, and B variation  = New color palette. Run the test for 20 days with users into 2 segments: control = old palette, variation = new color palette.\n"
   ]
  },
  {
   "cell_type": "code",
   "execution_count": 72,
   "id": "69c9128f-f797-4862-af02-ae1960f7da93",
   "metadata": {},
   "outputs": [
    {
     "name": "stdout",
     "output_type": "stream",
     "text": [
      "2061\n"
     ]
    },
    {
     "data": {
      "text/html": [
       "<div>\n",
       "<style scoped>\n",
       "    .dataframe tbody tr th:only-of-type {\n",
       "        vertical-align: middle;\n",
       "    }\n",
       "\n",
       "    .dataframe tbody tr th {\n",
       "        vertical-align: top;\n",
       "    }\n",
       "\n",
       "    .dataframe thead th {\n",
       "        text-align: right;\n",
       "    }\n",
       "</style>\n",
       "<table border=\"1\" class=\"dataframe\">\n",
       "  <thead>\n",
       "    <tr style=\"text-align: right;\">\n",
       "      <th></th>\n",
       "      <th>user_id</th>\n",
       "      <th>user_type</th>\n",
       "      <th>session_duration</th>\n",
       "    </tr>\n",
       "  </thead>\n",
       "  <tbody>\n",
       "    <tr>\n",
       "      <th>0</th>\n",
       "      <td>MA70KX0BSX</td>\n",
       "      <td>variation</td>\n",
       "      <td>15.528769</td>\n",
       "    </tr>\n",
       "    <tr>\n",
       "      <th>1</th>\n",
       "      <td>X4A8UC7N1Q</td>\n",
       "      <td>variation</td>\n",
       "      <td>32.287590</td>\n",
       "    </tr>\n",
       "    <tr>\n",
       "      <th>2</th>\n",
       "      <td>30I3SC8VII</td>\n",
       "      <td>variation</td>\n",
       "      <td>43.718217</td>\n",
       "    </tr>\n",
       "    <tr>\n",
       "      <th>3</th>\n",
       "      <td>WX226C2LWX</td>\n",
       "      <td>variation</td>\n",
       "      <td>49.519702</td>\n",
       "    </tr>\n",
       "    <tr>\n",
       "      <th>4</th>\n",
       "      <td>D8LXC47OG1</td>\n",
       "      <td>control</td>\n",
       "      <td>61.709028</td>\n",
       "    </tr>\n",
       "    <tr>\n",
       "      <th>5</th>\n",
       "      <td>54IFDLYW2X</td>\n",
       "      <td>variation</td>\n",
       "      <td>71.779283</td>\n",
       "    </tr>\n",
       "    <tr>\n",
       "      <th>6</th>\n",
       "      <td>OVKT2N58GM</td>\n",
       "      <td>variation</td>\n",
       "      <td>23.291835</td>\n",
       "    </tr>\n",
       "    <tr>\n",
       "      <th>7</th>\n",
       "      <td>YERW03OHKD</td>\n",
       "      <td>control</td>\n",
       "      <td>25.219461</td>\n",
       "    </tr>\n",
       "    <tr>\n",
       "      <th>8</th>\n",
       "      <td>DRO908AFJT</td>\n",
       "      <td>control</td>\n",
       "      <td>26.240482</td>\n",
       "    </tr>\n",
       "    <tr>\n",
       "      <th>9</th>\n",
       "      <td>W4XGTH9ZVS</td>\n",
       "      <td>variation</td>\n",
       "      <td>20.780244</td>\n",
       "    </tr>\n",
       "  </tbody>\n",
       "</table>\n",
       "</div>"
      ],
      "text/plain": [
       "      user_id  user_type  session_duration\n",
       "0  MA70KX0BSX  variation         15.528769\n",
       "1  X4A8UC7N1Q  variation         32.287590\n",
       "2  30I3SC8VII  variation         43.718217\n",
       "3  WX226C2LWX  variation         49.519702\n",
       "4  D8LXC47OG1    control         61.709028\n",
       "5  54IFDLYW2X  variation         71.779283\n",
       "6  OVKT2N58GM  variation         23.291835\n",
       "7  YERW03OHKD    control         25.219461\n",
       "8  DRO908AFJT    control         26.240482\n",
       "9  W4XGTH9ZVS  variation         20.780244"
      ]
     },
     "execution_count": 72,
     "metadata": {},
     "output_type": "execute_result"
    }
   ],
   "source": [
    "daily_users = 104\n",
    "n_control = int(daily_users*20*np.random.uniform(0.98, 1.02))\n",
    "n_variation = int(daily_users*20*np.random.uniform(0.98, 1.02))\n",
    "data_control = lognorm.rvs(0.5, loc=0, scale=np.exp(1)*10.5, size=n_control)\n",
    "data_variation = lognorm.rvs(0.5, loc=0, scale=np.exp(1)*11.01, size=n_variation)    \n",
    "\n",
    "control_dict = { \"user_type\": \"control\", \"session_duration\": data_control}\n",
    "variation_dict = { \"user_type\": \"variation\", \"session_duration\": data_variation}\n",
    "\n",
    "# Load the data from the test\n",
    "data = utils.run_ab_test_background_color(n_days=20)\n",
    "\n",
    "# Print the first 10 rows\n",
    "data.head(10)"
   ]
  },
  {
   "cell_type": "code",
   "execution_count": 16,
   "id": "264f0ccd-5675-4590-9f8a-91ef11fa705b",
   "metadata": {},
   "outputs": [
    {
     "name": "stdout",
     "output_type": "stream",
     "text": [
      "2069 users saw the original website old color palette with an average duration of 32.92 minutes\n",
      "\n",
      "2117 users saw the new website new color patette with an average duration of 33.83 minutes\n"
     ]
    }
   ],
   "source": [
    "# Separate the data from the two groups (sd stands for session duration)\n",
    "control_sd_data = data[data[\"user_type\"]==\"control\"][\"session_duration\"]\n",
    "variation_sd_data = data[data[\"user_type\"]==\"variation\"][\"session_duration\"]\n",
    "\n",
    "print(f\"{len(control_sd_data)} users saw the original website old color palette with an average duration of {control_sd_data.mean():.2f} minutes\\n\")\n",
    "print(f\"{len(variation_sd_data)} users saw the new website new color patette with an average duration of {variation_sd_data.mean():.2f} minutes\")\n"
   ]
  },
  {
   "cell_type": "code",
   "execution_count": 18,
   "id": "769660b2-cdba-46ab-a565-2e492bb062f2",
   "metadata": {},
   "outputs": [],
   "source": [
    "# Data class is usually simply a class with data only. Instead of data class tuple or dict could be used.\n",
    "@dataclass\n",
    "class estimation_metrics_cont:\n",
    "    n: int\n",
    "    xbar: float\n",
    "    s: float\n",
    "        \n",
    "    def __repr__(self):\n",
    "        return f\"sample_params(n={self.n}, xbar={self.xbar:.3f}, s={self.s:.3f})\""
   ]
  },
  {
   "cell_type": "code",
   "execution_count": 20,
   "id": "01065151-16d3-466d-91f3-40b212ff6981",
   "metadata": {},
   "outputs": [],
   "source": [
    "def compute_continuous_metrics(data):\n",
    "    \"\"\"Computes the relevant metrics out of a sample for continuous data.\n",
    "\n",
    "    Args:\n",
    "        data (pandas.core.series.Series): The sample data. In this case the average session duration for each user.\n",
    "\n",
    "    Returns:\n",
    "        estimation_metrics_cont: The metrics saved in a dataclass instance.\n",
    "    \"\"\"\n",
    "    \n",
    "    ### START CODE HERE ###\n",
    "    metrics = estimation_metrics_cont( \n",
    "        n=len(data),\n",
    "        xbar=np.mean(data),\n",
    "        s=np.std(data, ddof=1)\n",
    "    )\n",
    "    ### END CODE HERE ###\n",
    "    \n",
    "    return metrics"
   ]
  },
  {
   "cell_type": "code",
   "execution_count": 22,
   "id": "b694ca0d-deaa-4d6e-bcc4-018a4289a23c",
   "metadata": {},
   "outputs": [
    {
     "name": "stdout",
     "output_type": "stream",
     "text": [
      "n=5, xbar=3.00 and s=1.58 for example array\n",
      "\n",
      "n=2069, xbar=32.92 and s=17.54 for control data\n",
      "\n",
      "n=2117, xbar=33.83 and s=18.24 for variation data\n"
     ]
    }
   ],
   "source": [
    "# Test your code\n",
    "\n",
    "cm = compute_continuous_metrics(np.array([1,2,3,4,5]))\n",
    "print(f\"n={cm.n}, xbar={cm.xbar:.2f} and s={cm.s:.2f} for example array\\n\")\n",
    "\n",
    "control_metrics = compute_continuous_metrics(control_sd_data)\n",
    "print(f\"n={control_metrics.n}, xbar={control_metrics.xbar:.2f} and s={control_metrics.s:.2f} for control data\\n\")\n",
    "\n",
    "variation_metrics = compute_continuous_metrics(variation_sd_data)\n",
    "print(f\"n={variation_metrics.n}, xbar={variation_metrics.xbar:.2f} and s={variation_metrics.s:.2f} for variation data\")"
   ]
  },
  {
   "cell_type": "code",
   "execution_count": 24,
   "id": "afe6758b-c70e-4fb8-b200-2bc619689af4",
   "metadata": {},
   "outputs": [],
   "source": [
    "def degrees_of_freedom(control_metrics, variation_metrics):\n",
    "    \"\"\"Computes the degrees of freedom for two samples.\n",
    "\n",
    "    Args:\n",
    "        control_metrics (estimation_metrics_cont): The metrics for the control sample.\n",
    "        variation_metrics (estimation_metrics_cont): The metrics for the variation sample.\n",
    "\n",
    "    Returns:\n",
    "        numpy.float: The degrees of freedom.\n",
    "    \"\"\"\n",
    "    \n",
    "    ### START CODE HERE ###\n",
    "    \n",
    "    n1, s1 = control_metrics.n, control_metrics.s\n",
    "    n2, s2 = variation_metrics.n, variation_metrics.s\n",
    "\n",
    "    dof = np.square((s1**2 / n1 + s2**2 / n2)) / ((s1**2 / n1)**2 / (n1 - 1) + (s2**2 / n2)**2 / (n2 - 1))\n",
    "\n",
    "    \n",
    "    ### END CODE HERE ###\n",
    "    \n",
    "    \n",
    "    return dof"
   ]
  },
  {
   "cell_type": "code",
   "execution_count": 26,
   "id": "a0d98bfd-73a8-4a60-972c-e34f443862b7",
   "metadata": {},
   "outputs": [
    {
     "name": "stdout",
     "output_type": "stream",
     "text": [
      "DoF for example arrays: 2.88\n",
      "\n",
      "DoF for AB test samples: 4182.97\n"
     ]
    }
   ],
   "source": [
    "# Test your code\n",
    "test_m1, test_m2 = compute_continuous_metrics(np.array([1,2,3])), compute_continuous_metrics(np.array([4,5]))\n",
    "dof = degrees_of_freedom(test_m1, test_m2)\n",
    "print(f\"DoF for example arrays: {dof:.2f}\\n\")\n",
    "\n",
    "dof = degrees_of_freedom(control_metrics, variation_metrics)\n",
    "print(f\"DoF for AB test samples: {dof:.2f}\")"
   ]
  },
  {
   "cell_type": "code",
   "execution_count": 28,
   "id": "d1b7092f-68d4-422e-9ec8-46ab84cec708",
   "metadata": {},
   "outputs": [],
   "source": [
    "def t_statistic_diff_means(control_metrics, variation_metrics):\n",
    "    \"\"\"Compute the t-statistic for the difference of two means.\n",
    "\n",
    "    Args:\n",
    "        control_metrics (estimation_metrics_cont): The metrics for the control sample.\n",
    "        variation_metrics (estimation_metrics_cont): The metrics for the variation sample.\n",
    "\n",
    "    Returns:\n",
    "        numpy.float: The value of the t-statistic.\n",
    "    \"\"\"\n",
    "    \n",
    "    ### START CODE HERE ###\n",
    "    \n",
    "    n1, xbar1, s1 = control_metrics.n, control_metrics.xbar, control_metrics.s\n",
    "    n2, xbar2, s2 = variation_metrics.n, variation_metrics.xbar, variation_metrics.s\n",
    "\n",
    "    t = (xbar1 - xbar2) / np.sqrt((s1 ** 2) / n1 + (s2 ** 2) / n2)\n",
    "    ### END CODE HERE ###\n",
    "    \n",
    "    return t\n"
   ]
  },
  {
   "cell_type": "code",
   "execution_count": 30,
   "id": "fc694195-020c-47ff-a3bb-899c31a3b774",
   "metadata": {},
   "outputs": [
    {
     "name": "stdout",
     "output_type": "stream",
     "text": [
      "t statistic for example arrays: -3.27\n",
      "\n",
      "t statistic for AB test: -1.64\n"
     ]
    }
   ],
   "source": [
    "# Test your code\n",
    "\n",
    "t = t_statistic_diff_means(test_m1, test_m2)\n",
    "print(f\"t statistic for example arrays: {t:.2f}\\n\")\n",
    "\n",
    "t = t_statistic_diff_means(control_metrics, variation_metrics)\n",
    "print(f\"t statistic for AB test: {t:.2f}\")"
   ]
  },
  {
   "cell_type": "code",
   "execution_count": 32,
   "id": "228f5685-ee2c-47ea-a73e-b5ff0f7591e3",
   "metadata": {},
   "outputs": [],
   "source": [
    "def reject_nh_t_statistic(t_statistic, dof, alpha=0.05):\n",
    "    \"\"\"Decide whether to reject (or not) the null hypothesis of the t-test.\n",
    "\n",
    "    Args:\n",
    "        t_statistic (numpy.float): The computed value of the t-statistic for the two samples.\n",
    "        dof (numpy.float): The computed degrees of freedom for the two samples.\n",
    "        alpha (float, optional): The desired level of significancy. Defaults to 0.05.\n",
    "\n",
    "    Returns:\n",
    "        bool: True if the null hypothesis should be rejected. False otherwise.\n",
    "    \"\"\"\n",
    "    \n",
    "    reject = False\n",
    "    ### START CODE HERE ###\n",
    "    p_value = 2 * (1 - stats.t.cdf(abs(t_statistic), df=dof))\n",
    "\n",
    "    if p_value < alpha:\n",
    "        reject = True\n",
    "    ### END CODE HERE ###\n",
    "        \n",
    "    return reject"
   ]
  },
  {
   "cell_type": "code",
   "execution_count": 34,
   "id": "aa85552a-8532-4c03-a170-c4367d4589df",
   "metadata": {},
   "outputs": [
    {
     "name": "stdout",
     "output_type": "stream",
     "text": [
      "The null hypothesis can be rejected at the 0.05 level of significance: False\n",
      "\n",
      "There is not enough statistical evidence against H0.\n",
      "It can be concluded that there is not a statistically significant difference between the means of the two samples.\n"
     ]
    }
   ],
   "source": [
    "\n",
    "# Test your code\n",
    "\n",
    "alpha = 0.05\n",
    "reject_nh = reject_nh_t_statistic(t, dof, alpha)\n",
    "\n",
    "print(f\"The null hypothesis can be rejected at the {alpha} level of significance: {reject_nh}\\n\")\n",
    "\n",
    "msg = \"\" if reject_nh else \" not\"\n",
    "print(f\"There is{msg} enough statistical evidence against H0.\\nIt can be concluded that there is{msg} a statistically significant difference between the means of the two samples.\")\n"
   ]
  },
  {
   "cell_type": "code",
   "execution_count": 36,
   "id": "3c5e6fd1-4a97-4cfb-b96c-996063194604",
   "metadata": {},
   "outputs": [
    {
     "data": {
      "text/plain": [
       "4438"
      ]
     },
     "execution_count": 36,
     "metadata": {},
     "output_type": "execute_result"
    }
   ],
   "source": [
    "# PROPORTION\n",
    "\n",
    "# Compute the sample size required to compare the actual vs desired CVR\n",
    "required_sample_size = utils.sample_size_diff_proportions(0.12, 0.14)\n",
    "required_sample_size"
   ]
  },
  {
   "cell_type": "code",
   "execution_count": 38,
   "id": "6e1071db-2ea4-4f12-b764-7b31c083db3a",
   "metadata": {},
   "outputs": [
    {
     "name": "stdout",
     "output_type": "stream",
     "text": [
      "AB test should run for 9 days to gather enough data\n"
     ]
    }
   ],
   "source": [
    "daily_active_users = 1038\n",
    "\n",
    "n_days = math.ceil((required_sample_size*2)/daily_active_users)\n",
    "\n",
    "print(f\"AB test should run for {n_days} days to gather enough data\")"
   ]
  },
  {
   "cell_type": "code",
   "execution_count": 41,
   "id": "14cf3bd6-8643-4a87-8437-05854a1118e2",
   "metadata": {},
   "outputs": [
    {
     "data": {
      "text/html": [
       "<div>\n",
       "<style scoped>\n",
       "    .dataframe tbody tr th:only-of-type {\n",
       "        vertical-align: middle;\n",
       "    }\n",
       "\n",
       "    .dataframe tbody tr th {\n",
       "        vertical-align: top;\n",
       "    }\n",
       "\n",
       "    .dataframe thead th {\n",
       "        text-align: right;\n",
       "    }\n",
       "</style>\n",
       "<table border=\"1\" class=\"dataframe\">\n",
       "  <thead>\n",
       "    <tr style=\"text-align: right;\">\n",
       "      <th></th>\n",
       "      <th>user_id</th>\n",
       "      <th>user_type</th>\n",
       "      <th>converted</th>\n",
       "    </tr>\n",
       "  </thead>\n",
       "  <tbody>\n",
       "    <tr>\n",
       "      <th>0</th>\n",
       "      <td>QN4IVF8JUJ</td>\n",
       "      <td>variation</td>\n",
       "      <td>0</td>\n",
       "    </tr>\n",
       "    <tr>\n",
       "      <th>1</th>\n",
       "      <td>P2P67LOTP0</td>\n",
       "      <td>control</td>\n",
       "      <td>1</td>\n",
       "    </tr>\n",
       "    <tr>\n",
       "      <th>2</th>\n",
       "      <td>N04H8IPGZH</td>\n",
       "      <td>variation</td>\n",
       "      <td>0</td>\n",
       "    </tr>\n",
       "    <tr>\n",
       "      <th>3</th>\n",
       "      <td>64P7OMM5FV</td>\n",
       "      <td>control</td>\n",
       "      <td>0</td>\n",
       "    </tr>\n",
       "    <tr>\n",
       "      <th>4</th>\n",
       "      <td>B050TALX0N</td>\n",
       "      <td>control</td>\n",
       "      <td>0</td>\n",
       "    </tr>\n",
       "  </tbody>\n",
       "</table>\n",
       "</div>"
      ],
      "text/plain": [
       "      user_id  user_type  converted\n",
       "0  QN4IVF8JUJ  variation          0\n",
       "1  P2P67LOTP0    control          1\n",
       "2  N04H8IPGZH  variation          0\n",
       "3  64P7OMM5FV    control          0\n",
       "4  B050TALX0N    control          0"
      ]
     },
     "execution_count": 41,
     "metadata": {},
     "output_type": "execute_result"
    }
   ],
   "source": [
    "data = utils.run_ab_test_personalized_feed(n_days)\n",
    "\n",
    "data.head(5)"
   ]
  },
  {
   "cell_type": "code",
   "execution_count": 43,
   "id": "66bab5c0-188e-468d-ad14-c340c6a4b138",
   "metadata": {},
   "outputs": [
    {
     "name": "stdout",
     "output_type": "stream",
     "text": [
      "4632 users saw the original app with an average CVR of 0.1244\n",
      "\n",
      "4728 users saw the app with the new feature with an average CVR of 0.1519\n"
     ]
    }
   ],
   "source": [
    "control_data = data[data[\"user_type\"]==\"control\"][\"converted\"]\n",
    "variation_data = data[data[\"user_type\"]==\"variation\"][\"converted\"]\n",
    "\n",
    "print(f\"{len(control_data)} users saw the original app with an average CVR of {control_data.mean():.4f}\\n\")\n",
    "print(f\"{len(variation_data)} users saw the app with the new feature with an average CVR of {variation_data.mean():.4f}\")\n"
   ]
  },
  {
   "cell_type": "code",
   "execution_count": 45,
   "id": "37f976ba-21df-41be-8d38-06593111badb",
   "metadata": {},
   "outputs": [],
   "source": [
    "@dataclass\n",
    "class estimation_metrics_prop:\n",
    "    n: int\n",
    "    x: int\n",
    "    p: float\n",
    "        \n",
    "    def __repr__(self):\n",
    "        return f\"sample_params(n={self.n}, x={self.x}, p={self.p:.3f})\""
   ]
  },
  {
   "cell_type": "code",
   "execution_count": 47,
   "id": "462cabfd-3d8b-452a-aac4-0b762eaa4ba2",
   "metadata": {},
   "outputs": [],
   "source": [
    "def compute_proportion_metrics(data):\n",
    "    \"\"\"Computes the relevant metrics out of a sample for proportion-like data.\n",
    "\n",
    "    Args:\n",
    "        data (pandas.core.series.Series): The sample data. In this case 1 if the user converted and 0 otherwise.\n",
    "\n",
    "    Returns:\n",
    "        estimation_metrics_prop: The metrics saved in a dataclass instance.\n",
    "    \"\"\"\n",
    "    \n",
    "    ### START CODE HERE ###\n",
    "    metrics = estimation_metrics_prop( \n",
    "        n=len(data),\n",
    "        x=data.sum(),\n",
    "        p=data.mean()\n",
    "    )\n",
    "    ### END CODE HERE ###\n",
    "    \n",
    "    return metrics"
   ]
  },
  {
   "cell_type": "code",
   "execution_count": 49,
   "id": "17ae7e2f-4cfc-4c12-8eea-9c863d5c3257",
   "metadata": {},
   "outputs": [
    {
     "name": "stdout",
     "output_type": "stream",
     "text": [
      "n=4, x=2 and p=0.5000 for sample array\n",
      "\n",
      "n=4632, x=576 and p=0.1244 for control data\n",
      "\n",
      "n=4728, x=718 and p=0.1519 for variation data\n"
     ]
    }
   ],
   "source": [
    "# Test your code\n",
    "cm = compute_proportion_metrics(np.array([1,0,0,1]))\n",
    "print(f\"n={cm.n}, x={cm.x} and p={cm.p:.4f} for sample array\\n\")\n",
    "\n",
    "control_metrics = compute_proportion_metrics(control_data)\n",
    "print(f\"n={control_metrics.n}, x={control_metrics.x} and p={control_metrics.p:.4f} for control data\\n\")\n",
    "\n",
    "variation_metrics = compute_proportion_metrics(variation_data)\n",
    "print(f\"n={variation_metrics.n}, x={variation_metrics.x} and p={variation_metrics.p:.4f} for variation data\")"
   ]
  },
  {
   "cell_type": "code",
   "execution_count": 51,
   "id": "30dc517c-8b8c-4975-999b-fe27d6e16cbb",
   "metadata": {},
   "outputs": [],
   "source": [
    "def pooled_proportion(control_metrics, variation_metrics):\n",
    "    \"\"\"Compute the pooled proportion for the two samples.\n",
    "\n",
    "    Args:\n",
    "        control_metrics (estimation_metrics_prop): The metrics for the control sample.\n",
    "        variation_metrics (estimation_metrics_prop): The metrics for the variation sample.\n",
    "\n",
    "    Returns:\n",
    "        numpy.float: The pooled proportion.\n",
    "    \"\"\"\n",
    "    \n",
    "    ### START CODE HERE ###\n",
    "    \n",
    "    x1, n1 = control_metrics.x, control_metrics.n\n",
    "    x2, n2 = variation_metrics.x, variation_metrics.n\n",
    "\n",
    "    pp = (x1 + x2) / (n1 + n2)\n",
    "\n",
    "    return pp\n",
    "\n",
    "    \n",
    "    ### END CODE HERE ###\n",
    "    \n",
    "    return pp\n"
   ]
  },
  {
   "cell_type": "code",
   "execution_count": 53,
   "id": "b7fb6156-40d4-492a-84d2-3170d9dcd8e0",
   "metadata": {},
   "outputs": [
    {
     "name": "stdout",
     "output_type": "stream",
     "text": [
      "pooled proportion for example arrays: 0.7143\n",
      "\n",
      "pooled proportion for AB test samples: 0.1382\n"
     ]
    }
   ],
   "source": [
    "# Test your code\n",
    "\n",
    "test_m1, test_m2 = compute_proportion_metrics(np.array([1,0,1])), compute_proportion_metrics(np.array([1,1,1,0]))\n",
    "pp = pooled_proportion(test_m1, test_m2)\n",
    "print(f\"pooled proportion for example arrays: {pp:.4f}\\n\")\n",
    "\n",
    "pp = pooled_proportion(control_metrics, variation_metrics)\n",
    "print(f\"pooled proportion for AB test samples: {pp:.4f}\")"
   ]
  },
  {
   "cell_type": "code",
   "execution_count": 55,
   "id": "0e4a4ac3-f33f-45f6-b188-909b7878a9e5",
   "metadata": {},
   "outputs": [],
   "source": [
    "def z_statistic_diff_proportions(control_metrics, variation_metrics):\n",
    "    \"\"\"Compute the z-statistic for the difference of two proportions.\n",
    "\n",
    "    Args:\n",
    "        control_metrics (estimation_metrics_prop): The metrics for the control sample.\n",
    "        variation_metrics (estimation_metrics_prop): The metrics for the variation sample.\n",
    "\n",
    "    Returns:\n",
    "        numpy.float: The z-statistic.\n",
    "    \"\"\"\n",
    "    \n",
    "    ### START CODE HERE ###\n",
    "    \n",
    "    pp = pooled_proportion(control_metrics, variation_metrics)\n",
    "    \n",
    "    n1, p1 = control_metrics.n, control_metrics.p\n",
    "    n2, p2 = variation_metrics.n, variation_metrics.p\n",
    "    \n",
    "    z = (p1 - p2) / np.sqrt(pp * (1 - pp) * ((1 / n1) + (1 / n2)))\n",
    "    \n",
    "    ### END CODE HERE ###\n",
    "    \n",
    "    \n",
    "    return z"
   ]
  },
  {
   "cell_type": "code",
   "execution_count": 57,
   "id": "23226f13-2b9f-409c-a76d-727e55ac8f4b",
   "metadata": {},
   "outputs": [
    {
     "name": "stdout",
     "output_type": "stream",
     "text": [
      "z statistic for example arrays: -0.2415\n",
      "\n",
      "z statistic for AB test: -3.8551\n"
     ]
    }
   ],
   "source": [
    "# Test your code\n",
    "\n",
    "z = z_statistic_diff_proportions(test_m1, test_m2)\n",
    "print(f\"z statistic for example arrays: {z:.4f}\\n\")\n",
    "\n",
    "z = z_statistic_diff_proportions(control_metrics, variation_metrics)\n",
    "print(f\"z statistic for AB test: {z:.4f}\")"
   ]
  },
  {
   "cell_type": "code",
   "execution_count": 59,
   "id": "91e191ff-7b3a-4ede-ba40-f350debc7484",
   "metadata": {},
   "outputs": [],
   "source": [
    "def reject_nh_z_statistic(z_statistic, alpha=0.05):\n",
    "    \"\"\"Decide whether to reject (or not) the null hypothesis of the z-test.\n",
    "\n",
    "    Args:\n",
    "        z_statistic (numpy.float): The computed value of the z-statistic for the two proportions.\n",
    "        alpha (float, optional): The desired level of significancy. Defaults to 0.05.\n",
    "\n",
    "    Returns:\n",
    "        bool: True if the null hypothesis should be rejected. False otherwise.\n",
    "    \"\"\"\n",
    "    reject = False\n",
    "    p_value = 2 * (1 - stats.norm.cdf(np.abs(z_statistic)))\n",
    "    \n",
    "    if p_value < alpha:\n",
    "        reject = True\n",
    "\n",
    "    ### END CODE HERE ###\n",
    "        \n",
    "    return reject"
   ]
  },
  {
   "cell_type": "code",
   "execution_count": 61,
   "id": "bd1f0f45-9e16-442e-8c82-f7b0a46d9e53",
   "metadata": {},
   "outputs": [
    {
     "name": "stdout",
     "output_type": "stream",
     "text": [
      "The null hypothesis can be rejected at the 0.05 level of significance: True\n",
      "\n",
      "There is enough statistical evidence against H0.\n",
      "Thus it can be concluded that there is a statistically significant difference between the two proportions.\n"
     ]
    }
   ],
   "source": [
    "# Test your code\n",
    "\n",
    "alpha = 0.05\n",
    "reject_nh = reject_nh_z_statistic(z, alpha)\n",
    "\n",
    "print(f\"The null hypothesis can be rejected at the {alpha} level of significance: {reject_nh}\\n\")\n",
    "\n",
    "msg = \"\" if reject_nh else \" not\"\n",
    "print(f\"There is{msg} enough statistical evidence against H0.\\nThus it can be concluded that there is{msg} a statistically significant difference between the two proportions.\")"
   ]
  },
  {
   "cell_type": "code",
   "execution_count": 63,
   "id": "8aaa04a4-61ea-4f41-beef-f0585c7fe5fd",
   "metadata": {},
   "outputs": [],
   "source": [
    "def confidence_interval_proportion(metrics, alpha=0.05):\n",
    "    \"\"\"Compute the confidende interval for a proportion-like sample.\n",
    "\n",
    "    Args:\n",
    "        metrics (estimation_metrics_prop): The metrics for the sample.\n",
    "        alpha (float, optional): The desired level of significance. Defaults to 0.05.\n",
    "\n",
    "    Returns:\n",
    "        (numpy.float, numpy.float): The lower and upper bounds of the confidence interval.\n",
    "    \"\"\"\n",
    "    \n",
    "    ### START CODE HERE ###\n",
    "    n, p = metrics.n, metrics.p\n",
    "    \n",
    "    distance = stats.norm.ppf(1 - alpha / 2) * np.sqrt(p * (1 - p) / n)\n",
    "    \n",
    "    lower = p - distance\n",
    "    upper = p + distance\n",
    "    ### END CODE HERE ###\n",
    "    \n",
    "    return lower, upper"
   ]
  },
  {
   "cell_type": "code",
   "execution_count": 65,
   "id": "0fc7474c-308d-4455-a329-2739a04779f7",
   "metadata": {},
   "outputs": [
    {
     "name": "stdout",
     "output_type": "stream",
     "text": [
      "Confidence interval for control group: [0.115, 0.134]\n",
      "\n",
      "Confidence interval for variation group: [0.142, 0.162]\n"
     ]
    }
   ],
   "source": [
    "# Test your code\n",
    "\n",
    "c_lower, c_upper = confidence_interval_proportion(control_metrics)\n",
    "print(f\"Confidence interval for control group: [{c_lower:.3f}, {c_upper:.3f}]\\n\")\n",
    "\n",
    "v_lower, v_upper = confidence_interval_proportion(variation_metrics)\n",
    "print(f\"Confidence interval for variation group: [{v_lower:.3f}, {v_upper:.3f}]\")"
   ]
  },
  {
   "cell_type": "code",
   "execution_count": 67,
   "id": "8e6e9e50-fe6e-4f71-b051-b1015aae89cb",
   "metadata": {},
   "outputs": [
    {
     "data": {
      "application/vnd.jupyter.widget-view+json": {
       "model_id": "dc41977a7cdc45f7b6db40ae1aac9352",
       "version_major": 2,
       "version_minor": 0
      },
      "text/plain": [
       "interactive(children=(IntText(value=4632, description='Users A:'), IntText(value=576, description='Conversions…"
      ]
     },
     "metadata": {},
     "output_type": "display_data"
    }
   ],
   "source": [
    "utils.AB_test_dashboard(z_statistic_diff_proportions, reject_nh_z_statistic)"
   ]
  }
 ],
 "metadata": {
  "kernelspec": {
   "display_name": "Python 3 (ipykernel)",
   "language": "python",
   "name": "python3"
  },
  "language_info": {
   "codemirror_mode": {
    "name": "ipython",
    "version": 3
   },
   "file_extension": ".py",
   "mimetype": "text/x-python",
   "name": "python",
   "nbconvert_exporter": "python",
   "pygments_lexer": "ipython3",
   "version": "3.9.6"
  }
 },
 "nbformat": 4,
 "nbformat_minor": 5
}

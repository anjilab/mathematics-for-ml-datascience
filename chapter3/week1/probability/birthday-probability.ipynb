{
 "cells": [
  {
   "cell_type": "code",
   "execution_count": 1,
   "id": "376c82c6-aeb2-417b-a454-0deb716549c8",
   "metadata": {},
   "outputs": [],
   "source": [
    "import numpy as np\n",
    "import matplotlib.pyplot as plt"
   ]
  },
  {
   "cell_type": "code",
   "execution_count": 46,
   "id": "ff467411-42be-4572-96d9-d104266d6143",
   "metadata": {},
   "outputs": [
    {
     "data": {
      "text/plain": [
       "[<matplotlib.lines.Line2D at 0x168e75a60>]"
      ]
     },
     "execution_count": 46,
     "metadata": {},
     "output_type": "execute_result"
    },
    {
     "data": {
      "image/png": "[encoded data removed]",
      "text/plain": [
       "<Figure size 640x480 with 1 Axes>"
      ]
     },
     "metadata": {},
     "output_type": "display_data"
    }
   ],
   "source": [
    "people_number = np.array([1,2,3,4,5,10,20,23,30,50,100,365])\n",
    "people_number = np.array([1,2,3,4,5,10,20,23,30,50,100])\n",
    "people_number = np.array([1,2,3,4,5,10])\n",
    "\n",
    "\n",
    "# people_number = np.arange(1,366,2)\n",
    "\n",
    "def numberator_outcomes_of_birthday_not_on_same_day(count):\n",
    "    # print(\"main entry\")\n",
    "    numerator = 365\n",
    "    power = 1\n",
    "    for i in range(count):\n",
    "        # print(\"inside\")\n",
    "        if i != 0: \n",
    "            numerator *= numerator - (count + 1)\n",
    "            power += 1\n",
    "        # print(power,'opiwer', numerator,(365*364*363)/(365*365*365))\n",
    "    \n",
    "    return numerator/(365 ** len(range(count)))\n",
    "        \n",
    "\n",
    "probability = []\n",
    "for i in people_number: \n",
    "    # value =  numberator_outcomes_of_birthday_not_on_same_day(i)\n",
    "    numerator_outcomes_arr =  [(365 - i) for i in range(i)]\n",
    "    numerator_outcomes_arr.pop(0)\n",
    "    numerator_outcomes = np.multiply.reduce(numerator_outcomes_arr)\n",
    "    # numerator_outcomes = np.float64(numerator_outcomes)\n",
    "        \n",
    "        \n",
    "    # outcome_each_people_birthday_not_on_same_day =  numberator_outcomes_of_birthday_not_on_same_day(i)\n",
    "   \n",
    "    denominator = np.power(365,i-1) if len(numerator_outcomes_arr)!=0 else 1\n",
    "    # numerator_outcomes.pop(0)\n",
    "    outcome_each_people_birthday_not_on_same_day = numerator_outcomes / denominator\n",
    "    probability.append(outcome_each_people_birthday_not_on_same_day)\n",
    "    \n",
    "\n",
    "plt.plot(people_number,probability, 'bo')"
   ]
  },
  {
   "cell_type": "code",
   "execution_count": null,
   "id": "2f7b7e9f-b7bb-4434-a969-527ea13f15c1",
   "metadata": {},
   "outputs": [],
   "source": []
  }
 ],
 "metadata": {
  "kernelspec": {
   "display_name": "Python 3 (ipykernel)",
   "language": "python",
   "name": "python3"
  },
  "language_info": {
   "codemirror_mode": {
    "name": "ipython",
    "version": 3
   },
   "file_extension": ".py",
   "mimetype": "text/x-python",
   "name": "python",
   "nbconvert_exporter": "python",
   "pygments_lexer": "ipython3",
   "version": "3.9.6"
  }
 },
 "nbformat": 4,
 "nbformat_minor": 5
}

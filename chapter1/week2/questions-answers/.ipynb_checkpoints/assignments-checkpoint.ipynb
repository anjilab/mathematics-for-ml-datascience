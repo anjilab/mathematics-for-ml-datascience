{
 "cells": [
  {
   "cell_type": "code",
   "execution_count": 17,
   "id": "69e8ef6f",
   "metadata": {},
   "outputs": [],
   "source": [
    "import numpy as np"
   ]
  },
  {
   "cell_type": "code",
   "execution_count": 18,
   "id": "e77105a1",
   "metadata": {},
   "outputs": [],
   "source": [
    "import test"
   ]
  },
  {
   "cell_type": "code",
   "execution_count": 7,
   "id": "ca16f5a6",
   "metadata": {},
   "outputs": [],
   "source": [
    "# 2x_1-x_2+x_3+x_4=6, equation 1,  x_1+2x_2-x_3-x_4=3, equation 2, -x_1+2x_2+2x_3+2x_4=14, equation 3, x_1-x_2+2x_3+x_4=8\n",
    "# you will construct matrix \n",
    "# where each row represents one equation in the system and each column represents a variable \n",
    "# The free coefficients from the right sides of the equations you will put into vector "
   ]
  },
  {
   "cell_type": "code",
   "execution_count": 20,
   "id": "5eff4099",
   "metadata": {},
   "outputs": [
    {
     "name": "stdout",
     "output_type": "stream",
     "text": [
      "\u001b[92m All tests passed\n"
     ]
    }
   ],
   "source": [
    "a = np.array([[2,-1,1,1],[1,2,-1,-1], [-1,2,2,2],[1,-1,2,1]], dtype=np.dtype(float))\n",
    "b = np.array([6,3,14,8], dtype=np.dtype(float))\n",
    "test.test_matrix(a,b)"
   ]
  },
  {
   "cell_type": "code",
   "execution_count": 29,
   "id": "bd5294e5",
   "metadata": {},
   "outputs": [
    {
     "name": "stdout",
     "output_type": "stream",
     "text": [
      "-16.999999999999993\n",
      "[2. 3. 4. 1.]\n"
     ]
    }
   ],
   "source": [
    "# find determinant and solution for equation 1 \n",
    "determinant_a = np.linalg.det(a)\n",
    "print(determinant_a)\n",
    "solution_a =np.linalg.solve(a,b)\n",
    "print(solution_a)"
   ]
  },
  {
   "cell_type": "code",
   "execution_count": 36,
   "id": "34b846a8",
   "metadata": {},
   "outputs": [],
   "source": [
    "def MultiplyRow(M, row_num, row_num_multiple):\n",
    "    # .copy() function is required here to keep the original matrix without any changes\n",
    "    M_new = M.copy()     \n",
    "    # exchange row_num of the matrix M_new with its multiple by row_num_multiple\n",
    "    # Note: for simplicity, you can drop check if  row_num_multiple has non-zero value, which makes the operation valid\n",
    "    M_new[row_num] = M_new[row_num] * row_num_multiple\n",
    "    return M_new\n",
    "def AddRows(M, row_num_1, row_num_2, row_num_1_multiple):\n",
    "    M_new = M.copy()     \n",
    "    # multiply row_num_1 by row_num_1_multiple and add it to the row_num_2, \n",
    "    # exchanging row_num_2 of the matrix M_new with the result\n",
    "    M_new[row_num_2] += M_new[row_num_1] * row_num_1_multiple\n",
    "    return M_new\n",
    "\n",
    "def SwapRows(M, row_num_1, row_num_2):\n",
    "    M_new = M.copy()     \n",
    "    # exchange row_num_1 and row_num_2 of the matrix M_new\n",
    "    M_new[row_num_1] = M_new[row_num_1] + M_new[row_num_2]\n",
    "    M_new[row_num_2] = M_new[row_num_1] - M_new[row_num_2]\n",
    "    M_new[row_num_1]\n",
    "    return M_new\n",
    "    "
   ]
  },
  {
   "cell_type": "code",
   "execution_count": 37,
   "id": "09af9d55",
   "metadata": {},
   "outputs": [
    {
     "name": "stdout",
     "output_type": "stream",
     "text": [
      "Original matrix:\n",
      "[[ 1. -2.  3. -4.]\n",
      " [-5.  6. -7.  8.]\n",
      " [-4.  3. -2.  1.]\n",
      " [ 8. -7.  6. -5.]]\n",
      "\n",
      "Original matrix after its third row is multiplied by -2:\n",
      "[[ 1. -2.  3. -4.]\n",
      " [-5.  6. -7.  8.]\n",
      " [ 8. -6.  4. -2.]\n",
      " [ 8. -7.  6. -5.]]\n",
      "\n",
      "Original matrix after exchange of the third row with the sum of itself and first row multiplied by 4:\n",
      "[[  1.  -2.   3.  -4.]\n",
      " [ -5.   6.  -7.   8.]\n",
      " [  0.  -5.  10. -15.]\n",
      " [  8.  -7.   6.  -5.]]\n",
      "\n",
      "Original matrix after exchange of its first and third rows:\n",
      "[[-3.  1.  1. -3.]\n",
      " [-5.  6. -7.  8.]\n",
      " [ 1. -2.  3. -4.]\n",
      " [ 8. -7.  6. -5.]]\n"
     ]
    }
   ],
   "source": [
    "A_test = np.array([\n",
    "        [1, -2, 3, -4],\n",
    "        [-5, 6, -7, 8],\n",
    "        [-4, 3, -2, 1], \n",
    "        [8, -7, 6, -5]\n",
    "    ], dtype=np.dtype(float))\n",
    "print(\"Original matrix:\")\n",
    "print(A_test)\n",
    "\n",
    "print(\"\\nOriginal matrix after its third row is multiplied by -2:\")\n",
    "print(MultiplyRow(A_test,2,-2))\n",
    "\n",
    "print(\"\\nOriginal matrix after exchange of the third row with the sum of itself and first row multiplied by 4:\")\n",
    "print(AddRows(A_test,0,2,4))\n",
    "\n",
    "print(\"\\nOriginal matrix after exchange of its first and third rows:\")\n",
    "print(SwapRows(A_test,0,2))"
   ]
  },
  {
   "cell_type": "code",
   "execution_count": 39,
   "id": "49aba5dc",
   "metadata": {},
   "outputs": [
    {
     "name": "stdout",
     "output_type": "stream",
     "text": [
      "[[ 3.          1.          0.          0.          9.        ]\n",
      " [-4.         -2.          5.          4.         10.        ]\n",
      " [ 6.          7.         -2.          0.         25.        ]\n",
      " [ 3.17647059  3.41176471 -1.41176471 -0.41176471 10.52941176]]\n"
     ]
    }
   ],
   "source": [
    "def augmented_to_ref(A, b):    \n",
    "    ### START CODE HERE ###\n",
    "    # stack horizontally matrix A and vector b, which needs to be reshaped as a vector (4, 1)\n",
    "    A_system = np.hstack((A, b.reshape(4, 1)))\n",
    "    \n",
    "    # swap row 0 and row 1 of matrix A_system (remember that indexing in NumPy array starts from 0)\n",
    "    A_ref = SwapRows(A_system, 0, 1)\n",
    "    \n",
    "    # multiply row 0 of the new matrix A_ref by -2 and add it to the row 1\n",
    "    A_ref = AddRows(A_ref, 0, 1, -2)\n",
    "\n",
    "    # add row 0 of the new matrix A_ref to the row 2, replacing row 2\n",
    "    A_ref[2] += A_ref[0]\n",
    "    \n",
    "    # multiply row 0 of the new matrix A_ref by -1 and add it to the row 3\n",
    "    A_ref = AddRows(A_ref, 0, 3, -1)\n",
    "    \n",
    "    # add row 2 of the new matrix A_ref to the row 3, replacing row 3\n",
    "    A_ref[3] += A_ref[2] \n",
    "    \n",
    "    # swap row 1 and 3 of the new matrix A_ref\n",
    "    A_ref = SwapRows(A_ref, 1, 3)\n",
    "    \n",
    "    # add row 2 of the new matrix A_ref to the row 3, replacing row 3\n",
    "    A_ref[3] += A_ref[2]\n",
    "    \n",
    "    # multiply row 1 of the new matrix A_ref by -4 and add it to the row 2\n",
    "    A_ref = AddRows(A_ref, 1, 2, -4)\n",
    "    \n",
    "    # add row 1 of the new matrix A_ref to the row 3, replacing row 3\n",
    "    A_ref[3] += A_ref[1]\n",
    "    \n",
    "    # multiply row 3 of the new matrix A_ref by 2 and add it to the row 2\n",
    "    A_ref = AddRows(A_ref, 3, 2, 2)\n",
    "    \n",
    "    # multiply row 2 of the new matrix A_ref by -8 and add it to the row 3\n",
    "    A_ref = AddRows(A_ref, 2, 3, -8)\n",
    "    \n",
    "    # multiply row 3 of the new matrix A_ref by -1/17\n",
    "    A_ref[3] = A_ref[3] * -1/17\n",
    "    ### END CODE HERE ###\n",
    "    \n",
    "    return A_ref\n",
    "\n",
    "A_ref = augmented_to_ref(a, b)\n",
    "\n",
    "print(A_ref)"
   ]
  }
 ],
 "metadata": {
  "kernelspec": {
   "display_name": "Python 3 (ipykernel)",
   "language": "python",
   "name": "python3"
  },
  "language_info": {
   "codemirror_mode": {
    "name": "ipython",
    "version": 3
   },
   "file_extension": ".py",
   "mimetype": "text/x-python",
   "name": "python",
   "nbconvert_exporter": "python",
   "pygments_lexer": "ipython3",
   "version": "3.10.6"
  }
 },
 "nbformat": 4,
 "nbformat_minor": 5
}

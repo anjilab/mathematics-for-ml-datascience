{
 "cells": [
  {
   "cell_type": "code",
   "execution_count": 17,
   "id": "69e8ef6f",
   "metadata": {},
   "outputs": [],
   "source": [
    "import numpy as np"
   ]
  },
  {
   "cell_type": "code",
   "execution_count": 18,
   "id": "e77105a1",
   "metadata": {},
   "outputs": [],
   "source": [
    "import test"
   ]
  },
  {
   "cell_type": "code",
   "execution_count": 7,
   "id": "ca16f5a6",
   "metadata": {},
   "outputs": [],
   "source": [
    "# 2x_1-x_2+x_3+x_4=6, equation 1,  x_1+2x_2-x_3-x_4=3, equation 2, -x_1+2x_2+2x_3+2x_4=14, equation 3, x_1-x_2+2x_3+x_4=8\n",
    "# you will construct matrix \n",
    "# where each row represents one equation in the system and each column represents a variable \n",
    "# The free coefficients from the right sides of the equations you will put into vector "
   ]
  },
  {
   "cell_type": "code",
   "execution_count": 20,
   "id": "5eff4099",
   "metadata": {},
   "outputs": [
    {
     "name": "stdout",
     "output_type": "stream",
     "text": [
      "\u001b[92m All tests passed\n"
     ]
    }
   ],
   "source": [
    "a = np.array([[2,-1,1,1],[1,2,-1,-1], [-1,2,2,2],[1,-1,2,1]], dtype=np.dtype(float))\n",
    "b = np.array([6,3,14,8], dtype=np.dtype(float))\n",
    "test.test_matrix(a,b)"
   ]
  },
  {
   "cell_type": "code",
   "execution_count": 29,
   "id": "bd5294e5",
   "metadata": {},
   "outputs": [
    {
     "name": "stdout",
     "output_type": "stream",
     "text": [
      "-16.999999999999993\n",
      "[2. 3. 4. 1.]\n"
     ]
    }
   ],
   "source": [
    "# find determinant and solution for equation 1 \n",
    "determinant_a = np.linalg.det(a)\n",
    "print(determinant_a)\n",
    "solution_a =np.linalg.solve(a,b)\n",
    "print(solution_a)"
   ]
  },
  {
   "cell_type": "code",
   "execution_count": null,
   "id": "34b846a8",
   "metadata": {},
   "outputs": [],
   "source": []
  }
 ],
 "metadata": {
  "kernelspec": {
   "display_name": "Python 3 (ipykernel)",
   "language": "python",
   "name": "python3"
  },
  "language_info": {
   "codemirror_mode": {
    "name": "ipython",
    "version": 3
   },
   "file_extension": ".py",
   "mimetype": "text/x-python",
   "name": "python",
   "nbconvert_exporter": "python",
   "pygments_lexer": "ipython3",
   "version": "3.10.6"
  }
 },
 "nbformat": 4,
 "nbformat_minor": 5
}

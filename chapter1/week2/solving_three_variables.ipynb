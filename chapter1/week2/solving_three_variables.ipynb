{
 "cells": [
  {
   "cell_type": "code",
   "execution_count": 22,
   "id": "e3b866e9",
   "metadata": {},
   "outputs": [],
   "source": [
    "import numpy as np"
   ]
  },
  {
   "cell_type": "code",
   "execution_count": 23,
   "id": "d4f6ce72",
   "metadata": {},
   "outputs": [
    {
     "name": "stdout",
     "output_type": "stream",
     "text": [
      "Matrix a: [[ 4. -3.  1.]\n",
      " [ 2.  1.  3.]\n",
      " [-1.  2. -5.]]\n",
      "\n",
      "Matrix b: [-10.   0.  17.]\n",
      "\n",
      " Shape of a: (3, 3)\n",
      "\n",
      " Shape of b: (3,)\n",
      "Solution:  [ 1.  4. -2.]\n"
     ]
    }
   ],
   "source": [
    "a = np.array([[4,-3,1], [2,1,3], [-1,2,-5]], dtype=np.dtype(float))\n",
    "b= np.array([-10,0,17], dtype=np.dtype(float))\n",
    "print(\"Matrix a:\", a)\n",
    "print(\"\\nMatrix b:\", b)\n",
    "print(\"\\n Shape of a:\", np.shape(a))\n",
    "print(\"\\n Shape of b:\", np.shape(b))\n",
    "solution = np.linalg.solve(a,b)\n",
    "print(\"Solution: \", solution)"
   ]
  },
  {
   "cell_type": "code",
   "execution_count": 24,
   "id": "4c33c706",
   "metadata": {},
   "outputs": [
    {
     "name": "stdout",
     "output_type": "stream",
     "text": [
      "Determinant -60.000000000000036\n"
     ]
    }
   ],
   "source": [
    "determinant = np.linalg.det(a)\n",
    "print('Determinant', determinant)"
   ]
  },
  {
   "cell_type": "code",
   "execution_count": 30,
   "id": "45ce1208",
   "metadata": {},
   "outputs": [],
   "source": [
    "a_system = np.hstack((a, b.reshape((3, 1))))"
   ]
  },
  {
   "cell_type": "code",
   "execution_count": 31,
   "id": "2d667972",
   "metadata": {},
   "outputs": [
    {
     "name": "stdout",
     "output_type": "stream",
     "text": [
      "[[  4.  -3.   1. -10.]\n",
      " [  2.   1.   3.   0.]\n",
      " [ -1.   2.  -5.  17.]]\n"
     ]
    }
   ],
   "source": [
    "print(a_system)"
   ]
  },
  {
   "cell_type": "code",
   "execution_count": 33,
   "id": "43541633",
   "metadata": {},
   "outputs": [
    {
     "name": "stdout",
     "output_type": "stream",
     "text": [
      "Original matrix:\n",
      "[[  4.  -3.   1. -10.]\n",
      " [  2.   1.   3.   0.]\n",
      " [ -1.   2.  -5.  17.]]\n",
      "\n",
      "Matrix after its third row is multiplied by 2:\n",
      "[[  4.  -3.   1. -10.]\n",
      " [  2.   1.   3.   0.]\n",
      " [ -2.   4. -10.  34.]]\n"
     ]
    }
   ],
   "source": [
    "# exchange row_num of the matrix M with its multiple by row_num_multiple\n",
    "# Note: for simplicity, you can drop check if  row_num_multiple has non-zero value, which makes the operation valid\n",
    "def MultiplyRow(M, row_num, row_num_multiple):\n",
    "    # .copy() function is required here to keep the original matrix without any changes\n",
    "    M_new = M.copy()\n",
    "    M_new[row_num] = M_new[row_num] * row_num_multiple\n",
    "    return M_new\n",
    "\n",
    "print(\"Original matrix:\")\n",
    "print(a_system)\n",
    "print(\"\\nMatrix after its third row is multiplied by 2:\")\n",
    "# remember that indexing in Python starts from 0, thus index 2 will correspond to the third row\n",
    "print(MultiplyRow(a_system,2,2))"
   ]
  },
  {
   "cell_type": "code",
   "execution_count": 34,
   "id": "7e18c5a7",
   "metadata": {},
   "outputs": [
    {
     "name": "stdout",
     "output_type": "stream",
     "text": [
      "Original matrix:\n",
      "[[  4.  -3.   1. -10.]\n",
      " [  2.   1.   3.   0.]\n",
      " [ -1.   2.  -5.  17.]]\n",
      "\n",
      "Matrix after exchange of the third row with the sum of itself and second row multiplied by 1/2:\n",
      "[[  4.   -3.    1.  -10. ]\n",
      " [  2.    1.    3.    0. ]\n",
      " [  0.    2.5  -3.5  17. ]]\n"
     ]
    }
   ],
   "source": [
    "# multiply row_num_1 by row_num_1_multiple and add it to the row_num_2, \n",
    "# exchanging row_num_2 of the matrix M in the result\n",
    "def AddRows(M, row_num_1, row_num_2, row_num_1_multiple):\n",
    "    M_new = M.copy()\n",
    "    M_new[row_num_2] = row_num_1_multiple * M_new[row_num_1] + M_new[row_num_2]\n",
    "    return M_new\n",
    "\n",
    "print(\"Original matrix:\")\n",
    "print(a_system)\n",
    "print(\"\\nMatrix after exchange of the third row with the sum of itself and second row multiplied by 1/2:\")\n",
    "print(AddRows(a_system,1,2,1/2))"
   ]
  },
  {
   "cell_type": "code",
   "execution_count": 35,
   "id": "7fee654e",
   "metadata": {},
   "outputs": [
    {
     "name": "stdout",
     "output_type": "stream",
     "text": [
      "Original matrix:\n",
      "[[  4.  -3.   1. -10.]\n",
      " [  2.   1.   3.   0.]\n",
      " [ -1.   2.  -5.  17.]]\n",
      "\n",
      "Matrix after exchange its first and third rows:\n",
      "[[ -1.   2.  -5.  17.]\n",
      " [  2.   1.   3.   0.]\n",
      " [  4.  -3.   1. -10.]]\n"
     ]
    }
   ],
   "source": [
    "# exchange row_num_1 and row_num_2 of the matrix M\n",
    "def SwapRows(M, row_num_1, row_num_2):\n",
    "    M_new = M.copy()\n",
    "    M_new[[row_num_1, row_num_2]] = M_new[[row_num_2, row_num_1]]\n",
    "    return M_new\n",
    "\n",
    "print(\"Original matrix:\")\n",
    "print(a_system)\n",
    "print(\"\\nMatrix after exchange its first and third rows:\")\n",
    "print(SwapRows(a_system,0,2))"
   ]
  },
  {
   "cell_type": "code",
   "execution_count": 44,
   "id": "c6383526",
   "metadata": {},
   "outputs": [
    {
     "name": "stdout",
     "output_type": "stream",
     "text": [
      "[[-1.  2. -5. 17.]\n",
      " [ 0.  5. -7. 34.]\n",
      " [-0. -0.  1. -2.]]\n"
     ]
    }
   ],
   "source": [
    "A_ref = SwapRows(a_system,0,2)\n",
    "A_ref = AddRows(A_ref,0,1,2)\n",
    "A_ref = AddRows(A_ref,0,2,4)\n",
    "A_ref = AddRows(A_ref,1,2,-1)\n",
    "A_ref = MultiplyRow(A_ref,2,-1/12)\n",
    "print(A_ref)\n"
   ]
  },
  {
   "cell_type": "code",
   "execution_count": 45,
   "id": "666d5f2d",
   "metadata": {},
   "outputs": [
    {
     "name": "stdout",
     "output_type": "stream",
     "text": [
      "1.0 4.0 -2\n"
     ]
    }
   ],
   "source": [
    "x_3 = -2\n",
    "x_2 = (A_ref[1,3] - A_ref[1,2] * x_3) / A_ref[1,1]\n",
    "x_1 = (A_ref[0,3] - A_ref[0,2] * x_3 - A_ref[0,1] * x_2) / A_ref[0,0]\n",
    "\n",
    "print(x_1, x_2, x_3)"
   ]
  }
 ],
 "metadata": {
  "kernelspec": {
   "display_name": "Python 3 (ipykernel)",
   "language": "python",
   "name": "python3"
  },
  "language_info": {
   "codemirror_mode": {
    "name": "ipython",
    "version": 3
   },
   "file_extension": ".py",
   "mimetype": "text/x-python",
   "name": "python",
   "nbconvert_exporter": "python",
   "pygments_lexer": "ipython3",
   "version": "3.10.6"
  }
 },
 "nbformat": 4,
 "nbformat_minor": 5
}

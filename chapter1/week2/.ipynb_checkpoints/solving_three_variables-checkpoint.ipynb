{
 "cells": [
  {
   "cell_type": "code",
   "execution_count": 18,
   "id": "e3b866e9",
   "metadata": {},
   "outputs": [],
   "source": [
    "import numpy as np"
   ]
  },
  {
   "cell_type": "code",
   "execution_count": 19,
   "id": "d4f6ce72",
   "metadata": {},
   "outputs": [
    {
     "name": "stdout",
     "output_type": "stream",
     "text": [
      "Matrix a: [[ 4. -3.  1.]\n",
      " [ 2.  1.  3.]\n",
      " [-1.  2. -5.]]\n",
      "\n",
      "Matrix b: [-10.   0.  17.]\n",
      "\n",
      " Shape of a: (3, 3)\n",
      "\n",
      " Shape of b: (3,)\n",
      "Solution:  [ 1.  4. -2.]\n"
     ]
    }
   ],
   "source": [
    "a = np.array([[4,-3,1], [2,1,3], [-1,2,-5]], dtype=np.dtype(float))\n",
    "b= np.array([-10,0,17], dtype=np.dtype(float))\n",
    "print(\"Matrix a:\", a)\n",
    "print(\"\\nMatrix b:\", b)\n",
    "print(\"\\n Shape of a:\", np.shape(a))\n",
    "print(\"\\n Shape of b:\", np.shape(b))\n",
    "solution = np.linalg.solve(a,b)\n",
    "print(\"Solution: \", solution)"
   ]
  },
  {
   "cell_type": "code",
   "execution_count": 20,
   "id": "4c33c706",
   "metadata": {},
   "outputs": [
    {
     "name": "stdout",
     "output_type": "stream",
     "text": [
      "Determinant -60.000000000000036\n"
     ]
    }
   ],
   "source": [
    "determinant = np.linalg.det(a)\n",
    "print('Determinant', determinant)"
   ]
  }
 ],
 "metadata": {
  "kernelspec": {
   "display_name": "Python 3 (ipykernel)",
   "language": "python",
   "name": "python3"
  },
  "language_info": {
   "codemirror_mode": {
    "name": "ipython",
    "version": 3
   },
   "file_extension": ".py",
   "mimetype": "text/x-python",
   "name": "python",
   "nbconvert_exporter": "python",
   "pygments_lexer": "ipython3",
   "version": "3.10.6"
  }
 },
 "nbformat": 4,
 "nbformat_minor": 5
}

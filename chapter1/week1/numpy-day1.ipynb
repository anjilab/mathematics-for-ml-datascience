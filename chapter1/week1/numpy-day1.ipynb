{
 "cells": [
  {
   "cell_type": "code",
   "execution_count": 1,
   "id": "d162a228",
   "metadata": {},
   "outputs": [],
   "source": [
    "# First day for chapter 1 week 1 ml mathematics"
   ]
  },
  {
   "cell_type": "code",
   "execution_count": 3,
   "id": "61241772",
   "metadata": {},
   "outputs": [],
   "source": [
    "hello_world = \"Hello world!\""
   ]
  },
  {
   "cell_type": "code",
   "execution_count": 5,
   "id": "63b72fc2",
   "metadata": {},
   "outputs": [
    {
     "name": "stdout",
     "output_type": "stream",
     "text": [
      "Hello world!\n"
     ]
    }
   ],
   "source": [
    "print(hello_world)"
   ]
  },
  {
   "cell_type": "code",
   "execution_count": 8,
   "id": "a1b5891a",
   "metadata": {},
   "outputs": [],
   "source": [
    "import numpy as np"
   ]
  },
  {
   "cell_type": "code",
   "execution_count": null,
   "id": "437720c2",
   "metadata": {},
   "outputs": [],
   "source": []
  }
 ],
 "metadata": {
  "kernelspec": {
   "display_name": "Python 3 (ipykernel)",
   "language": "python",
   "name": "python3"
  },
  "language_info": {
   "codemirror_mode": {
    "name": "ipython",
    "version": 3
   },
   "file_extension": ".py",
   "mimetype": "text/x-python",
   "name": "python",
   "nbconvert_exporter": "python",
   "pygments_lexer": "ipython3",
   "version": "3.10.6"
  }
 },
 "nbformat": 4,
 "nbformat_minor": 5
}

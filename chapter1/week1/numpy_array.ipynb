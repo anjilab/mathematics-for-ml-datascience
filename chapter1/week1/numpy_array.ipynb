{
 "cells": [
  {
   "cell_type": "code",
   "execution_count": 1,
   "id": "e629fbed",
   "metadata": {},
   "outputs": [],
   "source": [
    "# First day for chapter 1 week 1 ml mathematics"
   ]
  },
  {
   "cell_type": "code",
   "execution_count": 3,
   "id": "26b0b485",
   "metadata": {},
   "outputs": [],
   "source": [
    "hello_world = \"Hello world!\""
   ]
  },
  {
   "cell_type": "code",
   "execution_count": 5,
   "id": "2de77111",
   "metadata": {},
   "outputs": [
    {
     "name": "stdout",
     "output_type": "stream",
     "text": [
      "Hello world!\n"
     ]
    }
   ],
   "source": [
    "print(hello_world)"
   ]
  },
  {
   "cell_type": "code",
   "execution_count": 8,
   "id": "83b84940",
   "metadata": {},
   "outputs": [],
   "source": [
    "import numpy as np"
   ]
  },
  {
   "cell_type": "code",
   "execution_count": 16,
   "id": "81da29c5",
   "metadata": {},
   "outputs": [],
   "source": [
    "one_dimensional_array = [1,2,3,4,5,'anj']"
   ]
  },
  {
   "cell_type": "code",
   "execution_count": 19,
   "id": "d2708729",
   "metadata": {},
   "outputs": [],
   "source": [
    "# Above one_dimensional_array is pythons list data type "
   ]
  },
  {
   "cell_type": "code",
   "execution_count": 21,
   "id": "4ff8350b",
   "metadata": {},
   "outputs": [
    {
     "name": "stdout",
     "output_type": "stream",
     "text": [
      "<class 'list'>\n"
     ]
    }
   ],
   "source": [
    "print(type(one_dimensional_array)) # Prints <class 'list'>"
   ]
  },
  {
   "cell_type": "code",
   "execution_count": 11,
   "id": "1521f8a5",
   "metadata": {},
   "outputs": [
    {
     "ename": "NameError",
     "evalue": "name 'one_dimensiona_array' is not defined",
     "output_type": "error",
     "traceback": [
      "\u001b[0;31m---------------------------------------------------------------------------\u001b[0m",
      "\u001b[0;31mNameError\u001b[0m                                 Traceback (most recent call last)",
      "Cell \u001b[0;32mIn[11], line 1\u001b[0m\n\u001b[0;32m----> 1\u001b[0m \u001b[38;5;28mprint\u001b[39m(\u001b[43mone_dimensiona_array\u001b[49m)\n",
      "\u001b[0;31mNameError\u001b[0m: name 'one_dimensiona_array' is not defined"
     ]
    }
   ],
   "source": [
    "print(one_dimensiona_array)"
   ]
  },
  {
   "cell_type": "code",
   "execution_count": 12,
   "id": "3a28a66c",
   "metadata": {},
   "outputs": [
    {
     "name": "stdout",
     "output_type": "stream",
     "text": [
      "[1, 2, 3, 4, 5, 'anj']\n"
     ]
    }
   ],
   "source": [
    "print(one_dimensional_array)"
   ]
  },
  {
   "cell_type": "code",
   "execution_count": 13,
   "id": "ebf6d9ea",
   "metadata": {},
   "outputs": [],
   "source": [
    "# Usually we keep array of same kind either all number or all string but we can also keep mixed type."
   ]
  },
  {
   "cell_type": "code",
   "execution_count": 22,
   "id": "7c713fa2",
   "metadata": {},
   "outputs": [],
   "source": [
    "one_dimensional_array_np = np.array([1,2,3, 'anj'])"
   ]
  },
  {
   "cell_type": "code",
   "execution_count": 25,
   "id": "85c74b55",
   "metadata": {},
   "outputs": [
    {
     "name": "stdout",
     "output_type": "stream",
     "text": [
      "['1' '2' '3' 'anj']\n"
     ]
    }
   ],
   "source": [
    "print(one_dimensional_array_np)"
   ]
  },
  {
   "cell_type": "code",
   "execution_count": 27,
   "id": "6ccde7d8",
   "metadata": {},
   "outputs": [],
   "source": [
    "one_dimensional_array_np_same_type = np.array([1,2,3,4,5])"
   ]
  },
  {
   "cell_type": "code",
   "execution_count": 28,
   "id": "58010bce",
   "metadata": {},
   "outputs": [
    {
     "name": "stdout",
     "output_type": "stream",
     "text": [
      "[1 2 3 4 5]\n"
     ]
    }
   ],
   "source": [
    "print(one_dimensional_array_np_same_type)"
   ]
  }
 ],
 "metadata": {
  "kernelspec": {
   "display_name": "Python 3 (ipykernel)",
   "language": "python",
   "name": "python3"
  },
  "language_info": {
   "codemirror_mode": {
    "name": "ipython",
    "version": 3
   },
   "file_extension": ".py",
   "mimetype": "text/x-python",
   "name": "python",
   "nbconvert_exporter": "python",
   "pygments_lexer": "ipython3",
   "version": "3.10.6"
  }
 },
 "nbformat": 4,
 "nbformat_minor": 5
}

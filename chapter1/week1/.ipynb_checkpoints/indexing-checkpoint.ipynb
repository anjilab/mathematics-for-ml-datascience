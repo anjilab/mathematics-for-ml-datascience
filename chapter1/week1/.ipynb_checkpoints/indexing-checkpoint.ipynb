{
 "cells": [
  {
   "cell_type": "code",
   "execution_count": 1,
   "id": "1272c3ab",
   "metadata": {},
   "outputs": [],
   "source": [
    "a = [4,5,6,7]"
   ]
  },
  {
   "cell_type": "code",
   "execution_count": 2,
   "id": "6d3d5545",
   "metadata": {},
   "outputs": [
    {
     "name": "stdout",
     "output_type": "stream",
     "text": [
      "6\n"
     ]
    }
   ],
   "source": [
    "print(a[2])"
   ]
  },
  {
   "cell_type": "code",
   "execution_count": 3,
   "id": "c0fd394c",
   "metadata": {},
   "outputs": [],
   "source": [
    "import numpy as np"
   ]
  },
  {
   "cell_type": "code",
   "execution_count": 4,
   "id": "7cf0c3c2",
   "metadata": {},
   "outputs": [],
   "source": [
    "two_dim = np.array([[1,2,3],[4,5,6],[7,8,9]])"
   ]
  },
  {
   "cell_type": "code",
   "execution_count": 5,
   "id": "5c2902d9",
   "metadata": {},
   "outputs": [
    {
     "name": "stdout",
     "output_type": "stream",
     "text": [
      "[1 2 3]\n"
     ]
    }
   ],
   "source": [
    "print(two_dim[0])"
   ]
  },
  {
   "cell_type": "code",
   "execution_count": 6,
   "id": "8a28872e",
   "metadata": {},
   "outputs": [
    {
     "name": "stdout",
     "output_type": "stream",
     "text": [
      "6\n"
     ]
    }
   ],
   "source": [
    "print(two_dim[1][2]) # For multi dimensional, we have to use [][] for each dimension to access the elements."
   ]
  },
  {
   "cell_type": "code",
   "execution_count": 7,
   "id": "bebf24e7",
   "metadata": {},
   "outputs": [],
   "source": [
    "three_dim = np.array(([[[1,2,3],[4,5,6]], [[8,9,10], [11,23,45]]]))"
   ]
  },
  {
   "cell_type": "code",
   "execution_count": 8,
   "id": "590bb236",
   "metadata": {},
   "outputs": [
    {
     "name": "stdout",
     "output_type": "stream",
     "text": [
      "[[[ 1  2  3]\n",
      "  [ 4  5  6]]\n",
      "\n",
      " [[ 8  9 10]\n",
      "  [11 23 45]]]\n"
     ]
    }
   ],
   "source": [
    "print(three_dim)"
   ]
  },
  {
   "cell_type": "code",
   "execution_count": 10,
   "id": "5abaeeb6",
   "metadata": {},
   "outputs": [
    {
     "name": "stdout",
     "output_type": "stream",
     "text": [
      "3\n"
     ]
    }
   ],
   "source": [
    "print(three_dim.ndim)"
   ]
  },
  {
   "cell_type": "code",
   "execution_count": 11,
   "id": "61c5b73f",
   "metadata": {},
   "outputs": [
    {
     "name": "stdout",
     "output_type": "stream",
     "text": [
      "(2, 2, 3)\n"
     ]
    }
   ],
   "source": [
    "print(three_dim.shape)"
   ]
  },
  {
   "cell_type": "code",
   "execution_count": 12,
   "id": "8d85fb09",
   "metadata": {},
   "outputs": [
    {
     "name": "stdout",
     "output_type": "stream",
     "text": [
      "[4 5 6]\n"
     ]
    }
   ],
   "source": [
    "print(three_dim[0][1])"
   ]
  },
  {
   "cell_type": "code",
   "execution_count": null,
   "id": "d57c5738",
   "metadata": {},
   "outputs": [],
   "source": []
  }
 ],
 "metadata": {
  "kernelspec": {
   "display_name": "Python 3 (ipykernel)",
   "language": "python",
   "name": "python3"
  },
  "language_info": {
   "codemirror_mode": {
    "name": "ipython",
    "version": 3
   },
   "file_extension": ".py",
   "mimetype": "text/x-python",
   "name": "python",
   "nbconvert_exporter": "python",
   "pygments_lexer": "ipython3",
   "version": "3.10.6"
  }
 },
 "nbformat": 4,
 "nbformat_minor": 5
}

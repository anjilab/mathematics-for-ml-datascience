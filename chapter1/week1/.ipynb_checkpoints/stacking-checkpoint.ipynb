{
 "cells": [
  {
   "cell_type": "code",
   "execution_count": 3,
   "id": "f0ab8b4e",
   "metadata": {},
   "outputs": [],
   "source": [
    "import numpy as np"
   ]
  },
  {
   "cell_type": "code",
   "execution_count": 15,
   "id": "41eba31d",
   "metadata": {},
   "outputs": [
    {
     "name": "stdout",
     "output_type": "stream",
     "text": [
      "(2, 2)\n"
     ]
    }
   ],
   "source": [
    "a1 = np.array([[1,2],[4,5]])\n",
    "print(a1.shape)"
   ]
  },
  {
   "cell_type": "code",
   "execution_count": 17,
   "id": "ee7347ad",
   "metadata": {},
   "outputs": [
    {
     "name": "stdout",
     "output_type": "stream",
     "text": [
      "(2, 2)\n"
     ]
    }
   ],
   "source": [
    "a2 = np.array([[45,89], [90,56]])\n",
    "print(a2.shape)"
   ]
  },
  {
   "cell_type": "code",
   "execution_count": 8,
   "id": "43d645dd",
   "metadata": {},
   "outputs": [],
   "source": [
    "vert_stack = np.vstack((a1,a2)) # stacks vertically"
   ]
  },
  {
   "cell_type": "code",
   "execution_count": 18,
   "id": "d9fd4f9a",
   "metadata": {},
   "outputs": [
    {
     "name": "stdout",
     "output_type": "stream",
     "text": [
      "[[ 1  2]\n",
      " [ 4  5]\n",
      " [45 89]\n",
      " [90 56]] (4, 2)\n"
     ]
    }
   ],
   "source": [
    "print(vert_stack, vert_stack.shape)"
   ]
  },
  {
   "cell_type": "code",
   "execution_count": 11,
   "id": "b44340d5",
   "metadata": {},
   "outputs": [],
   "source": [
    "horizontal_stack = np.hstack((a1,a2))"
   ]
  },
  {
   "cell_type": "code",
   "execution_count": 13,
   "id": "e5feb481",
   "metadata": {},
   "outputs": [
    {
     "name": "stdout",
     "output_type": "stream",
     "text": [
      "[[ 1  2 45 89]\n",
      " [ 4  5 90 56]] (2, 4)\n"
     ]
    }
   ],
   "source": [
    "print(horizontal_stack, horizontal_stack.shape)"
   ]
  },
  {
   "cell_type": "code",
   "execution_count": 23,
   "id": "c6df106b",
   "metadata": {},
   "outputs": [],
   "source": [
    "hsplit = np.hsplit(a1, 2) # split into smaller arrays, here into 2 array"
   ]
  },
  {
   "cell_type": "code",
   "execution_count": 24,
   "id": "d089046c",
   "metadata": {},
   "outputs": [
    {
     "name": "stdout",
     "output_type": "stream",
     "text": [
      "[array([[1],\n",
      "       [4]]), array([[2],\n",
      "       [5]])]\n"
     ]
    }
   ],
   "source": [
    "print(hsplit) "
   ]
  }
 ],
 "metadata": {
  "kernelspec": {
   "display_name": "Python 3 (ipykernel)",
   "language": "python",
   "name": "python3"
  },
  "language_info": {
   "codemirror_mode": {
    "name": "ipython",
    "version": 3
   },
   "file_extension": ".py",
   "mimetype": "text/x-python",
   "name": "python",
   "nbconvert_exporter": "python",
   "pygments_lexer": "ipython3",
   "version": "3.10.6"
  }
 },
 "nbformat": 4,
 "nbformat_minor": 5
}

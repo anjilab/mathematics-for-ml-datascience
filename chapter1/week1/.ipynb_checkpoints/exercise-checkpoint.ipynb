{
 "cells": [
  {
   "cell_type": "code",
   "execution_count": 4,
   "id": "f9d2858c",
   "metadata": {},
   "outputs": [],
   "source": [
    "# Is there a difference between np.zeros() and np.empty()? Select one of the options given:\n",
    "\n",
    "# A. No difference, they both output arrays of zeros.\n",
    "# B. np.zeros() is not initialized, but gives an output of zeros.\n",
    "# C. np.zeros() is faster to execute than np.empty().\n",
    "# D. np.empty() outputs an uninitialized array, but np.zeros() outputs an initialized array of value zero.\n"
   ]
  },
  {
   "cell_type": "code",
   "execution_count": 6,
   "id": "f14f48d6",
   "metadata": {},
   "outputs": [],
   "source": [
    "import numpy as np"
   ]
  },
  {
   "cell_type": "code",
   "execution_count": 10,
   "id": "11c883e8",
   "metadata": {},
   "outputs": [
    {
     "name": "stdout",
     "output_type": "stream",
     "text": [
      "[0. 0. 0.]\n"
     ]
    }
   ],
   "source": [
    "array_zeros = np.zeros(3)\n",
    "print(array_zeros)"
   ]
  },
  {
   "cell_type": "code",
   "execution_count": 13,
   "id": "1c03f594",
   "metadata": {},
   "outputs": [
    {
     "name": "stdout",
     "output_type": "stream",
     "text": [
      "[0. 0. 0.]\n"
     ]
    }
   ],
   "source": [
    "array_empty = np.empty(3)\n",
    "print(array_empty)"
   ]
  },
  {
   "cell_type": "code",
   "execution_count": 12,
   "id": "f4295b3e",
   "metadata": {},
   "outputs": [],
   "source": [
    "# np.zeros(shape) => returns new initialized array with 0 of given shape\n",
    "# np.empty(shape) => return new unitialized array might not always set values 0 so might be faster but it requires user to manually set the value\n"
   ]
  },
  {
   "cell_type": "code",
   "execution_count": 16,
   "id": "5dd5628b",
   "metadata": {},
   "outputs": [
    {
     "data": {
      "text/plain": [
       "array([[4.66729459e-310, 0.00000000e+000, 6.90220675e-310],\n",
       "       [6.90220480e-310, 9.48212669e+118, 6.90220479e-310]])"
      ]
     },
     "execution_count": 16,
     "metadata": {},
     "output_type": "execute_result"
    }
   ],
   "source": [
    "np.empty([2,3])"
   ]
  },
  {
   "cell_type": "code",
   "execution_count": 17,
   "id": "47f9216f",
   "metadata": {},
   "outputs": [
    {
     "data": {
      "text/plain": [
       "array([[0., 0., 0.],\n",
       "       [0., 0., 0.]])"
      ]
     },
     "execution_count": 17,
     "metadata": {},
     "output_type": "execute_result"
    }
   ],
   "source": [
    "np.zeros([2,3])"
   ]
  }
 ],
 "metadata": {
  "kernelspec": {
   "display_name": "Python 3 (ipykernel)",
   "language": "python",
   "name": "python3"
  },
  "language_info": {
   "codemirror_mode": {
    "name": "ipython",
    "version": 3
   },
   "file_extension": ".py",
   "mimetype": "text/x-python",
   "name": "python",
   "nbconvert_exporter": "python",
   "pygments_lexer": "ipython3",
   "version": "3.10.6"
  }
 },
 "nbformat": 4,
 "nbformat_minor": 5
}

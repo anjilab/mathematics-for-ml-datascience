{
 "cells": [
  {
   "cell_type": "code",
   "execution_count": 1,
   "id": "86ae8aeb",
   "metadata": {},
   "outputs": [],
   "source": [
    "# First day for chapter 1 week 1 ml mathematics"
   ]
  },
  {
   "cell_type": "code",
   "execution_count": 3,
   "id": "dcdd90dd",
   "metadata": {},
   "outputs": [],
   "source": [
    "hello_world = \"Hello world!\""
   ]
  },
  {
   "cell_type": "code",
   "execution_count": 5,
   "id": "210e2365",
   "metadata": {},
   "outputs": [
    {
     "name": "stdout",
     "output_type": "stream",
     "text": [
      "Hello world!\n"
     ]
    }
   ],
   "source": [
    "print(hello_world)"
   ]
  },
  {
   "cell_type": "code",
   "execution_count": 8,
   "id": "a0475c98",
   "metadata": {},
   "outputs": [],
   "source": [
    "import numpy as np"
   ]
  },
  {
   "cell_type": "code",
   "execution_count": 16,
   "id": "46431c4e",
   "metadata": {},
   "outputs": [],
   "source": [
    "one_dimensional_array = [1,2,3,4,5,'anj']"
   ]
  },
  {
   "cell_type": "code",
   "execution_count": 19,
   "id": "caa472e0",
   "metadata": {},
   "outputs": [],
   "source": [
    "# Above one_dimensional_array is pythons list data type "
   ]
  },
  {
   "cell_type": "code",
   "execution_count": 21,
   "id": "604db2fb",
   "metadata": {},
   "outputs": [
    {
     "name": "stdout",
     "output_type": "stream",
     "text": [
      "<class 'list'>\n"
     ]
    }
   ],
   "source": [
    "print(type(one_dimensional_array)) # Prints <class 'list'>"
   ]
  },
  {
   "cell_type": "code",
   "execution_count": 11,
   "id": "5d0886fb",
   "metadata": {},
   "outputs": [
    {
     "ename": "NameError",
     "evalue": "name 'one_dimensiona_array' is not defined",
     "output_type": "error",
     "traceback": [
      "\u001b[0;31m---------------------------------------------------------------------------\u001b[0m",
      "\u001b[0;31mNameError\u001b[0m                                 Traceback (most recent call last)",
      "Cell \u001b[0;32mIn[11], line 1\u001b[0m\n\u001b[0;32m----> 1\u001b[0m \u001b[38;5;28mprint\u001b[39m(\u001b[43mone_dimensiona_array\u001b[49m)\n",
      "\u001b[0;31mNameError\u001b[0m: name 'one_dimensiona_array' is not defined"
     ]
    }
   ],
   "source": [
    "print(one_dimensiona_array)"
   ]
  },
  {
   "cell_type": "code",
   "execution_count": 12,
   "id": "60e74c58",
   "metadata": {},
   "outputs": [
    {
     "name": "stdout",
     "output_type": "stream",
     "text": [
      "[1, 2, 3, 4, 5, 'anj']\n"
     ]
    }
   ],
   "source": [
    "print(one_dimensional_array)"
   ]
  },
  {
   "cell_type": "code",
   "execution_count": 13,
   "id": "bb64d444",
   "metadata": {},
   "outputs": [],
   "source": [
    "# Usually we keep array of same kind either all number or all string but we can also keep mixed type."
   ]
  },
  {
   "cell_type": "code",
   "execution_count": null,
   "id": "73df323d",
   "metadata": {},
   "outputs": [],
   "source": [
    "one_dimensional_array"
   ]
  }
 ],
 "metadata": {
  "kernelspec": {
   "display_name": "Python 3 (ipykernel)",
   "language": "python",
   "name": "python3"
  },
  "language_info": {
   "codemirror_mode": {
    "name": "ipython",
    "version": 3
   },
   "file_extension": ".py",
   "mimetype": "text/x-python",
   "name": "python",
   "nbconvert_exporter": "python",
   "pygments_lexer": "ipython3",
   "version": "3.10.6"
  }
 },
 "nbformat": 4,
 "nbformat_minor": 5
}

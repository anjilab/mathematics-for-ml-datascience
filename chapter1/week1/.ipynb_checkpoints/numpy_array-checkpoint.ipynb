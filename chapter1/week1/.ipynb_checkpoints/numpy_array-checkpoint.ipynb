{
 "cells": [
  {
   "cell_type": "code",
   "execution_count": 1,
   "id": "e629fbed",
   "metadata": {},
   "outputs": [],
   "source": [
    "# First day for chapter 1 week 1 ml mathematics"
   ]
  },
  {
   "cell_type": "code",
   "execution_count": 3,
   "id": "26b0b485",
   "metadata": {},
   "outputs": [],
   "source": [
    "hello_world = \"Hello world!\""
   ]
  },
  {
   "cell_type": "code",
   "execution_count": 5,
   "id": "2de77111",
   "metadata": {},
   "outputs": [
    {
     "name": "stdout",
     "output_type": "stream",
     "text": [
      "Hello world!\n"
     ]
    }
   ],
   "source": [
    "print(hello_world)"
   ]
  },
  {
   "cell_type": "code",
   "execution_count": 2,
   "id": "83b84940",
   "metadata": {},
   "outputs": [],
   "source": [
    "import numpy as np"
   ]
  },
  {
   "cell_type": "code",
   "execution_count": 16,
   "id": "81da29c5",
   "metadata": {},
   "outputs": [],
   "source": [
    "one_dimensional_array = [1,2,3,4,5,'anj']"
   ]
  },
  {
   "cell_type": "code",
   "execution_count": 19,
   "id": "d2708729",
   "metadata": {},
   "outputs": [],
   "source": [
    "# Above one_dimensional_array is pythons list data type "
   ]
  },
  {
   "cell_type": "code",
   "execution_count": 21,
   "id": "4ff8350b",
   "metadata": {},
   "outputs": [
    {
     "name": "stdout",
     "output_type": "stream",
     "text": [
      "<class 'list'>\n"
     ]
    }
   ],
   "source": [
    "print(type(one_dimensional_array)) # Prints <class 'list'>"
   ]
  },
  {
   "cell_type": "code",
   "execution_count": 11,
   "id": "1521f8a5",
   "metadata": {},
   "outputs": [
    {
     "ename": "NameError",
     "evalue": "name 'one_dimensiona_array' is not defined",
     "output_type": "error",
     "traceback": [
      "\u001b[0;31m---------------------------------------------------------------------------\u001b[0m",
      "\u001b[0;31mNameError\u001b[0m                                 Traceback (most recent call last)",
      "Cell \u001b[0;32mIn[11], line 1\u001b[0m\n\u001b[0;32m----> 1\u001b[0m \u001b[38;5;28mprint\u001b[39m(\u001b[43mone_dimensiona_array\u001b[49m)\n",
      "\u001b[0;31mNameError\u001b[0m: name 'one_dimensiona_array' is not defined"
     ]
    }
   ],
   "source": [
    "print(one_dimensiona_array)"
   ]
  },
  {
   "cell_type": "code",
   "execution_count": 12,
   "id": "3a28a66c",
   "metadata": {},
   "outputs": [
    {
     "name": "stdout",
     "output_type": "stream",
     "text": [
      "[1, 2, 3, 4, 5, 'anj']\n"
     ]
    }
   ],
   "source": [
    "print(one_dimensional_array)"
   ]
  },
  {
   "cell_type": "code",
   "execution_count": 13,
   "id": "ebf6d9ea",
   "metadata": {},
   "outputs": [],
   "source": [
    "# Usually we keep array of same kind either all number or all string but we can also keep mixed type."
   ]
  },
  {
   "cell_type": "code",
   "execution_count": 22,
   "id": "7c713fa2",
   "metadata": {},
   "outputs": [],
   "source": [
    "one_dimensional_array_np = np.array([1,2,3, 'anj'])"
   ]
  },
  {
   "cell_type": "code",
   "execution_count": 25,
   "id": "85c74b55",
   "metadata": {},
   "outputs": [
    {
     "name": "stdout",
     "output_type": "stream",
     "text": [
      "['1' '2' '3' 'anj']\n"
     ]
    }
   ],
   "source": [
    "print(one_dimensional_array_np)"
   ]
  },
  {
   "cell_type": "code",
   "execution_count": 27,
   "id": "6ccde7d8",
   "metadata": {},
   "outputs": [],
   "source": [
    "one_dimensional_array_np_same_type = np.array([1,2,3,4,5])"
   ]
  },
  {
   "cell_type": "code",
   "execution_count": 28,
   "id": "58010bce",
   "metadata": {},
   "outputs": [
    {
     "name": "stdout",
     "output_type": "stream",
     "text": [
      "[1 2 3 4 5]\n"
     ]
    }
   ],
   "source": [
    "print(one_dimensional_array_np_same_type)"
   ]
  },
  {
   "cell_type": "code",
   "execution_count": 3,
   "id": "53b2fdec",
   "metadata": {},
   "outputs": [
    {
     "name": "stdout",
     "output_type": "stream",
     "text": [
      "[0 1]\n"
     ]
    }
   ],
   "source": [
    "print(np.arange(2)) # Creates a range of array from 0 to n-1 where n is input to arange"
   ]
  },
  {
   "cell_type": "code",
   "execution_count": 4,
   "id": "d4d6abdc",
   "metadata": {},
   "outputs": [
    {
     "name": "stdout",
     "output_type": "stream",
     "text": [
      "[0 1 2 3 4 5]\n"
     ]
    }
   ],
   "source": [
    "one_dimensional_till_five = np.arange(6)\n",
    "print(one_dimensional_till_five)"
   ]
  },
  {
   "cell_type": "code",
   "execution_count": 5,
   "id": "5718a12e",
   "metadata": {},
   "outputs": [
    {
     "name": "stdout",
     "output_type": "stream",
     "text": [
      "[0, 1, 2, 3, 4, 5]\n"
     ]
    }
   ],
   "source": [
    "print([i for i in one_dimensional_till_five])"
   ]
  },
  {
   "cell_type": "code",
   "execution_count": 7,
   "id": "bc2f17ba",
   "metadata": {},
   "outputs": [],
   "source": [
    "# Create an integer beginning from 2 ending with 18 and incremented by 2\n",
    "even_numbers_from_two_to_eighteen = np.arange(2,18,2)"
   ]
  },
  {
   "cell_type": "code",
   "execution_count": 8,
   "id": "425e7ed9",
   "metadata": {},
   "outputs": [
    {
     "name": "stdout",
     "output_type": "stream",
     "text": [
      "[ 2  4  6  8 10 12 14 16]\n"
     ]
    }
   ],
   "source": [
    "print(even_numbers_from_two_to_eighteen)"
   ]
  },
  {
   "cell_type": "code",
   "execution_count": 11,
   "id": "28cfbf92",
   "metadata": {},
   "outputs": [
    {
     "name": "stdout",
     "output_type": "stream",
     "text": [
      "[ 1  4  7 10 13 16 19]\n"
     ]
    }
   ],
   "source": [
    "c = np.arange(1, 20, 3)\n",
    "print(c)"
   ]
  },
  {
   "cell_type": "code",
   "execution_count": 12,
   "id": "3455a7d9",
   "metadata": {},
   "outputs": [
    {
     "name": "stdout",
     "output_type": "stream",
     "text": [
      "[ 3 10 17]\n"
     ]
    }
   ],
   "source": [
    "print(np.arange(3,21,7))\n"
   ]
  },
  {
   "cell_type": "code",
   "execution_count": 13,
   "id": "410cf8d1",
   "metadata": {},
   "outputs": [],
   "source": [
    "line_spaced_array = np.linspace(0,100,5)"
   ]
  },
  {
   "cell_type": "code",
   "execution_count": 14,
   "id": "0b09c018",
   "metadata": {},
   "outputs": [
    {
     "name": "stdout",
     "output_type": "stream",
     "text": [
      "[  0.  25.  50.  75. 100.]\n"
     ]
    }
   ],
   "source": [
    "print(line_spaced_array)"
   ]
  },
  {
   "cell_type": "code",
   "execution_count": 15,
   "id": "5358bf37",
   "metadata": {},
   "outputs": [
    {
     "name": "stdout",
     "output_type": "stream",
     "text": [
      "float64\n"
     ]
    }
   ],
   "source": [
    "print(line_spaced_array.dtype)"
   ]
  },
  {
   "cell_type": "code",
   "execution_count": 16,
   "id": "8954896e",
   "metadata": {},
   "outputs": [],
   "source": [
    "string_type = np.array(['anjila', 'testing'])"
   ]
  },
  {
   "cell_type": "code",
   "execution_count": 17,
   "id": "7261ac07",
   "metadata": {},
   "outputs": [
    {
     "name": "stdout",
     "output_type": "stream",
     "text": [
      "['anjila' 'testing']\n"
     ]
    }
   ],
   "source": [
    "print(string_type)"
   ]
  },
  {
   "cell_type": "code",
   "execution_count": 18,
   "id": "be10e696",
   "metadata": {},
   "outputs": [
    {
     "name": "stdout",
     "output_type": "stream",
     "text": [
      "<U7\n"
     ]
    }
   ],
   "source": [
    "print(string_type.dtype)"
   ]
  },
  {
   "cell_type": "code",
   "execution_count": 19,
   "id": "3afeb554",
   "metadata": {},
   "outputs": [
    {
     "name": "stdout",
     "output_type": "stream",
     "text": [
      "[1. 1. 1.]\n"
     ]
    }
   ],
   "source": [
    "print(np.ones(3))"
   ]
  },
  {
   "cell_type": "code",
   "execution_count": 20,
   "id": "814cb21f",
   "metadata": {},
   "outputs": [
    {
     "name": "stdout",
     "output_type": "stream",
     "text": [
      "[0. 0. 0. 0. 0. 0.]\n"
     ]
    }
   ],
   "source": [
    "print(np.zeros(6))"
   ]
  },
  {
   "cell_type": "code",
   "execution_count": 21,
   "id": "712f771f",
   "metadata": {},
   "outputs": [
    {
     "name": "stdout",
     "output_type": "stream",
     "text": [
      "[ 25.  50.  75. 100.]\n"
     ]
    }
   ],
   "source": [
    "print(np.empty(4))"
   ]
  },
  {
   "cell_type": "code",
   "execution_count": 22,
   "id": "a35e2565",
   "metadata": {},
   "outputs": [
    {
     "name": "stdout",
     "output_type": "stream",
     "text": [
      "[1. 1. 1.]\n"
     ]
    }
   ],
   "source": [
    "empt_arr = np.empty(3)\n",
    "print(empt_arr)\n"
   ]
  },
  {
   "cell_type": "code",
   "execution_count": null,
   "id": "092d2acc",
   "metadata": {},
   "outputs": [],
   "source": [
    "rand_arr = np.random.rand(3)\n",
    "print(rand_arr)"
   ]
  }
 ],
 "metadata": {
  "kernelspec": {
   "display_name": "Python 3 (ipykernel)",
   "language": "python",
   "name": "python3"
  },
  "language_info": {
   "codemirror_mode": {
    "name": "ipython",
    "version": 3
   },
   "file_extension": ".py",
   "mimetype": "text/x-python",
   "name": "python",
   "nbconvert_exporter": "python",
   "pygments_lexer": "ipython3",
   "version": "3.10.6"
  }
 },
 "nbformat": 4,
 "nbformat_minor": 5
}

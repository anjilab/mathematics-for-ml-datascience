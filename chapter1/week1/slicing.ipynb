{
 "cells": [
  {
   "cell_type": "code",
   "execution_count": 4,
   "id": "e909aaac",
   "metadata": {},
   "outputs": [],
   "source": [
    "#Slicing allows you to get sub elements or specific elements list from the array. It needs start & end values,\n",
    "#begins from start, includes start but do not include end value. array[start:end:step]"
   ]
  },
  {
   "cell_type": "code",
   "execution_count": 5,
   "id": "97057308",
   "metadata": {},
   "outputs": [],
   "source": [
    "array_one= [1,2,3,4,5,6,7,8,9]"
   ]
  },
  {
   "cell_type": "code",
   "execution_count": 7,
   "id": "59ad542a",
   "metadata": {},
   "outputs": [
    {
     "name": "stdout",
     "output_type": "stream",
     "text": [
      "[3, 5]\n"
     ]
    }
   ],
   "source": [
    "print(array_one[2:5:2])"
   ]
  },
  {
   "cell_type": "code",
   "execution_count": 8,
   "id": "d5a9548e",
   "metadata": {},
   "outputs": [
    {
     "name": "stdout",
     "output_type": "stream",
     "text": [
      "[1, 2]\n"
     ]
    }
   ],
   "source": [
    "print(array_one[:2])"
   ]
  },
  {
   "cell_type": "code",
   "execution_count": 27,
   "id": "854e8f2a",
   "metadata": {},
   "outputs": [
    {
     "name": "stdout",
     "output_type": "stream",
     "text": [
      "[5, 6, 7, 8, 9]\n"
     ]
    }
   ],
   "source": [
    "print(array_one[4:])"
   ]
  },
  {
   "cell_type": "code",
   "execution_count": 25,
   "id": "de138cd0",
   "metadata": {},
   "outputs": [
    {
     "name": "stdout",
     "output_type": "stream",
     "text": [
      "[1, 2, 3, 4, 5, 6, 7, 8, 9]\n",
      "[1, 3, 5, 7, 9]\n",
      "[1, 4, 7]\n"
     ]
    }
   ],
   "source": [
    "# array[::number] begin with first element and skip with the number given.\n",
    "print(array_one[::1]) \n",
    "print(array_one[::2])\n",
    "print(array_one[::3])"
   ]
  },
  {
   "cell_type": "code",
   "execution_count": 11,
   "id": "a3ad8b94",
   "metadata": {},
   "outputs": [
    {
     "name": "stdout",
     "output_type": "stream",
     "text": [
      "True\n"
     ]
    }
   ],
   "source": [
    "# Note that a == a[:] == a[::]\n",
    "print(array_one == array_one[:] == array_one[::])"
   ]
  },
  {
   "cell_type": "code",
   "execution_count": 9,
   "id": "e22e18b1",
   "metadata": {},
   "outputs": [
    {
     "name": "stdout",
     "output_type": "stream",
     "text": [
      "[3, 4, 5, 6, 7, 8, 9]\n"
     ]
    }
   ],
   "source": [
    "print(array_one[2:])"
   ]
  },
  {
   "cell_type": "code",
   "execution_count": 12,
   "id": "007f519d",
   "metadata": {},
   "outputs": [
    {
     "name": "stdout",
     "output_type": "stream",
     "text": [
      "[1, 2, 3, 4, 5, 6, 7, 8, 9]\n"
     ]
    }
   ],
   "source": [
    "print(array_one[:])"
   ]
  },
  {
   "cell_type": "code",
   "execution_count": 14,
   "id": "91087c29",
   "metadata": {},
   "outputs": [],
   "source": [
    "two_dimension = [[1,2,3],[6,7,8]]"
   ]
  },
  {
   "cell_type": "code",
   "execution_count": 15,
   "id": "184b04b7",
   "metadata": {},
   "outputs": [
    {
     "name": "stdout",
     "output_type": "stream",
     "text": [
      "[[6, 7, 8]]\n"
     ]
    }
   ],
   "source": [
    "print(two_dimension[1:2])"
   ]
  },
  {
   "cell_type": "markdown",
   "id": "b50eac85",
   "metadata": {},
   "source": []
  }
 ],
 "metadata": {
  "kernelspec": {
   "display_name": "Python 3 (ipykernel)",
   "language": "python",
   "name": "python3"
  },
  "language_info": {
   "codemirror_mode": {
    "name": "ipython",
    "version": 3
   },
   "file_extension": ".py",
   "mimetype": "text/x-python",
   "name": "python",
   "nbconvert_exporter": "python",
   "pygments_lexer": "ipython3",
   "version": "3.10.6"
  }
 },
 "nbformat": 4,
 "nbformat_minor": 5
}

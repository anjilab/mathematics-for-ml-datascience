{
 "cells": [
  {
   "cell_type": "code",
   "execution_count": 3,
   "id": "2d8959bf",
   "metadata": {},
   "outputs": [],
   "source": [
    "import numpy as np"
   ]
  },
  {
   "cell_type": "code",
   "execution_count": 4,
   "id": "4044186c",
   "metadata": {},
   "outputs": [],
   "source": [
    "array_1 = np.array([1,2,3])"
   ]
  },
  {
   "cell_type": "code",
   "execution_count": 5,
   "id": "0139d045",
   "metadata": {},
   "outputs": [],
   "source": [
    "array_2 = np.array([4,5,6])"
   ]
  },
  {
   "cell_type": "code",
   "execution_count": 9,
   "id": "670e6873",
   "metadata": {},
   "outputs": [
    {
     "name": "stdout",
     "output_type": "stream",
     "text": [
      "[5 7 9]\n"
     ]
    }
   ],
   "source": [
    "# Addition\n",
    "print(array_1 + array_2)"
   ]
  },
  {
   "cell_type": "code",
   "execution_count": 13,
   "id": "476ea814",
   "metadata": {},
   "outputs": [
    {
     "name": "stdout",
     "output_type": "stream",
     "text": [
      "[-3 -3 -3]\n"
     ]
    }
   ],
   "source": [
    "# Subtraction\n",
    "print(array_1 - array_2)"
   ]
  },
  {
   "cell_type": "code",
   "execution_count": 16,
   "id": "4c881408",
   "metadata": {},
   "outputs": [
    {
     "name": "stdout",
     "output_type": "stream",
     "text": [
      "[ 4 10 18]\n"
     ]
    }
   ],
   "source": [
    "# Multiplication\n",
    "print(array_1*array_2)"
   ]
  },
  {
   "cell_type": "code",
   "execution_count": 21,
   "id": "5cd72ad9",
   "metadata": {},
   "outputs": [
    {
     "name": "stdout",
     "output_type": "stream",
     "text": [
      "[1.6 3.2 4.8]\n"
     ]
    }
   ],
   "source": [
    "print(array_1 *  1.6) #  Broadcasting: here array of different shapes are multiplied."
   ]
  },
  {
   "cell_type": "code",
   "execution_count": 17,
   "id": "985c4e94",
   "metadata": {},
   "outputs": [],
   "source": [
    "plain_array_1 = [1,2,3]"
   ]
  },
  {
   "cell_type": "code",
   "execution_count": 18,
   "id": "1576c4a0",
   "metadata": {},
   "outputs": [],
   "source": [
    "plain_array_2 = [7,8.9]"
   ]
  },
  {
   "cell_type": "code",
   "execution_count": 20,
   "id": "a5fcb401",
   "metadata": {},
   "outputs": [
    {
     "name": "stdout",
     "output_type": "stream",
     "text": [
      "[1, 2, 3, 7, 8.9]\n"
     ]
    }
   ],
   "source": [
    "print(plain_array_1 + plain_array_2) # simply using python list we can't add like in numpy. concatenation is done in such list"
   ]
  },
  {
   "cell_type": "code",
   "execution_count": null,
   "id": "10c95b21",
   "metadata": {},
   "outputs": [],
   "source": []
  }
 ],
 "metadata": {
  "kernelspec": {
   "display_name": "Python 3 (ipykernel)",
   "language": "python",
   "name": "python3"
  },
  "language_info": {
   "codemirror_mode": {
    "name": "ipython",
    "version": 3
   },
   "file_extension": ".py",
   "mimetype": "text/x-python",
   "name": "python",
   "nbconvert_exporter": "python",
   "pygments_lexer": "ipython3",
   "version": "3.10.6"
  }
 },
 "nbformat": 4,
 "nbformat_minor": 5
}

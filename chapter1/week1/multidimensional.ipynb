{
 "cells": [
  {
   "cell_type": "code",
   "execution_count": 1,
   "id": "480b3451",
   "metadata": {},
   "outputs": [],
   "source": [
    "# Creating 2 Dimensional Array."
   ]
  },
  {
   "cell_type": "code",
   "execution_count": 2,
   "id": "4dc03bd6",
   "metadata": {},
   "outputs": [
    {
     "name": "stdout",
     "output_type": "stream",
     "text": [
      "[[1, 2, 3], [7, 8, 9]]\n"
     ]
    }
   ],
   "source": [
    "two_dimensional_arr = [[1,2,3], [7,8,9]]\n",
    "print(two_dimensional_arr)"
   ]
  },
  {
   "cell_type": "code",
   "execution_count": 3,
   "id": "61fce942",
   "metadata": {},
   "outputs": [],
   "source": [
    "one_dimensional_arr = [1,2,3,4,5,6]"
   ]
  },
  {
   "cell_type": "code",
   "execution_count": 7,
   "id": "a854b7c7",
   "metadata": {},
   "outputs": [],
   "source": [
    "import numpy as np"
   ]
  },
  {
   "cell_type": "code",
   "execution_count": 8,
   "id": "eac65788",
   "metadata": {},
   "outputs": [],
   "source": [
    "multi_dimensional_arr = np.reshape(one_dimensional_arr, (2,3)) "
   ]
  },
  {
   "cell_type": "code",
   "execution_count": 10,
   "id": "8260e330",
   "metadata": {},
   "outputs": [
    {
     "name": "stdout",
     "output_type": "stream",
     "text": [
      "[[1 2 3]\n",
      " [4 5 6]]\n"
     ]
    }
   ],
   "source": [
    "print(multi_dimensional_arr)"
   ]
  },
  {
   "cell_type": "code",
   "execution_count": 12,
   "id": "6ded65c2",
   "metadata": {},
   "outputs": [
    {
     "name": "stdout",
     "output_type": "stream",
     "text": [
      "2\n"
     ]
    }
   ],
   "source": [
    "print(multi_dimensional_arr.ndim) # Dimension of array"
   ]
  },
  {
   "cell_type": "code",
   "execution_count": 13,
   "id": "c99cf111",
   "metadata": {},
   "outputs": [
    {
     "name": "stdout",
     "output_type": "stream",
     "text": [
      "(2, 3)\n"
     ]
    }
   ],
   "source": [
    "print(multi_dimensional_arr.shape) # Shape of array i.e here, (2,3) 2 rows & 3 columns"
   ]
  },
  {
   "cell_type": "code",
   "execution_count": 14,
   "id": "a98dcabb",
   "metadata": {},
   "outputs": [
    {
     "name": "stdout",
     "output_type": "stream",
     "text": [
      "6\n"
     ]
    }
   ],
   "source": [
    "print(multi_dimensional_arr.size) # Size total elements in an array"
   ]
  }
 ],
 "metadata": {
  "kernelspec": {
   "display_name": "Python 3 (ipykernel)",
   "language": "python",
   "name": "python3"
  },
  "language_info": {
   "codemirror_mode": {
    "name": "ipython",
    "version": 3
   },
   "file_extension": ".py",
   "mimetype": "text/x-python",
   "name": "python",
   "nbconvert_exporter": "python",
   "pygments_lexer": "ipython3",
   "version": "3.10.6"
  }
 },
 "nbformat": 4,
 "nbformat_minor": 5
}

{
 "cells": [
  {
   "cell_type": "code",
   "execution_count": 5,
   "id": "9c25a604",
   "metadata": {},
   "outputs": [],
   "source": [
    "import numpy as np"
   ]
  },
  {
   "cell_type": "code",
   "execution_count": 6,
   "id": "f365fead",
   "metadata": {},
   "outputs": [
    {
     "name": "stdout",
     "output_type": "stream",
     "text": [
      "Determinant of matrix A2: 0.00\n"
     ]
    }
   ],
   "source": [
    "A2 = np.array([\n",
    "        [-1, 3],\n",
    "        [3, -9]\n",
    "    ], dtype=np.dtype(float))\n",
    "\n",
    "b2 = np.array([7, 1], dtype=np.dtype(float))\n",
    "\n",
    "d2 = np.linalg.det(A2)\n",
    "\n",
    "print(f\"Determinant of matrix A2: {d2:.2f}\")"
   ]
  },
  {
   "cell_type": "code",
   "execution_count": 7,
   "id": "367897c6",
   "metadata": {},
   "outputs": [
    {
     "name": "stdout",
     "output_type": "stream",
     "text": [
      "Singular matrix\n"
     ]
    }
   ],
   "source": [
    "try:\n",
    "    x_2 = np.linalg.solve(A2, b2)\n",
    "except np.linalg.LinAlgError as err:\n",
    "    print(err)"
   ]
  },
  {
   "cell_type": "code",
   "execution_count": 8,
   "id": "efae7457",
   "metadata": {},
   "outputs": [
    {
     "name": "stdout",
     "output_type": "stream",
     "text": [
      "[[-1.  3.  7.]\n",
      " [ 3. -9.  1.]]\n"
     ]
    }
   ],
   "source": [
    "A2system = np.hstack((A2, b2.reshape((2, 1))))\n",
    "print(A2system)"
   ]
  },
  {
   "cell_type": "code",
   "execution_count": 9,
   "id": "85874390",
   "metadata": {},
   "outputs": [
    {
     "name": "stdout",
     "output_type": "stream",
     "text": [
      "[[-1.  3.  7.]\n",
      " [ 0.  0. 22.]]\n"
     ]
    }
   ],
   "source": [
    "A2system_res = A2system.copy()\n",
    "\n",
    "# Multiply row 0 by 3 and add it to the row 1.\n",
    "A2system_res[1] = 3 * A2system_res[0] + A2system_res[1]\n",
    "print(A2system_res)"
   ]
  }
 ],
 "metadata": {
  "kernelspec": {
   "display_name": "Python 3 (ipykernel)",
   "language": "python",
   "name": "python3"
  },
  "language_info": {
   "codemirror_mode": {
    "name": "ipython",
    "version": 3
   },
   "file_extension": ".py",
   "mimetype": "text/x-python",
   "name": "python",
   "nbconvert_exporter": "python",
   "pygments_lexer": "ipython3",
   "version": "3.10.6"
  }
 },
 "nbformat": 4,
 "nbformat_minor": 5
}

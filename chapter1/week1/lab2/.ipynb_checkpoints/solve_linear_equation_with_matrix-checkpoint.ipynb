{
 "cells": [
  {
   "cell_type": "code",
   "execution_count": 5,
   "id": "8b1141b7",
   "metadata": {},
   "outputs": [],
   "source": [
    "## Solving linear equation using matrices\n",
    "# -x1 + 3x2 = 7 & 3x1 + 2x2 = 1 "
   ]
  },
  {
   "cell_type": "code",
   "execution_count": 3,
   "id": "782cec44",
   "metadata": {},
   "outputs": [],
   "source": [
    "import numpy as np"
   ]
  },
  {
   "cell_type": "code",
   "execution_count": 6,
   "id": "be8abcdf",
   "metadata": {},
   "outputs": [],
   "source": [
    "a = np.array([[-1, 3], [3,2]], dtype=np.dtype(float))"
   ]
  },
  {
   "cell_type": "code",
   "execution_count": 8,
   "id": "7efa3459",
   "metadata": {},
   "outputs": [],
   "source": [
    "b = np.array([7,1], dtype=np.dtype(float))"
   ]
  },
  {
   "cell_type": "code",
   "execution_count": 9,
   "id": "af29570d",
   "metadata": {},
   "outputs": [
    {
     "name": "stdout",
     "output_type": "stream",
     "text": [
      "Matrix a: [[-1.  3.]\n",
      " [ 3.  2.]]\n",
      "Matrix b: [7. 1.]\n"
     ]
    }
   ],
   "source": [
    "print('Matrix a:', a)\n",
    "print('Matrix b:', b)"
   ]
  },
  {
   "cell_type": "code",
   "execution_count": 13,
   "id": "24943740",
   "metadata": {},
   "outputs": [
    {
     "name": "stdout",
     "output_type": "stream",
     "text": [
      "Shape of matrix a is: (2, 2)\n",
      "Shape of matrix b is: (2,)\n"
     ]
    }
   ],
   "source": [
    "print(f\"Shape of matrix a is: {a.shape}\")\n",
    "print(f\"Shape of matrix b is: {b.shape}\")"
   ]
  },
  {
   "cell_type": "code",
   "execution_count": 15,
   "id": "7eae5542",
   "metadata": {},
   "outputs": [
    {
     "name": "stdout",
     "output_type": "stream",
     "text": [
      "Solution is: [-1.  2.]\n"
     ]
    }
   ],
   "source": [
    "# finding solution of given eqution using np\n",
    "x = np.linalg.solve(a,b)\n",
    "print(f\"Solution is: {x}\")"
   ]
  }
 ],
 "metadata": {
  "kernelspec": {
   "display_name": "Python 3 (ipykernel)",
   "language": "python",
   "name": "python3"
  },
  "language_info": {
   "codemirror_mode": {
    "name": "ipython",
    "version": 3
   },
   "file_extension": ".py",
   "mimetype": "text/x-python",
   "name": "python",
   "nbconvert_exporter": "python",
   "pygments_lexer": "ipython3",
   "version": "3.10.6"
  }
 },
 "nbformat": 4,
 "nbformat_minor": 5
}

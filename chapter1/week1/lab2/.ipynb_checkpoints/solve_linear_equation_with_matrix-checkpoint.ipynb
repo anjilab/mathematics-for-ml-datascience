{
 "cells": [
  {
   "cell_type": "code",
   "execution_count": 5,
   "id": "8b1141b7",
   "metadata": {},
   "outputs": [],
   "source": [
    "## Solving linear equation using matrices\n",
    "# -x1 + 3x2 = 7 & 3x1 + 2x2 = 1 "
   ]
  },
  {
   "cell_type": "code",
   "execution_count": 2,
   "id": "782cec44",
   "metadata": {},
   "outputs": [],
   "source": [
    "import numpy as np"
   ]
  },
  {
   "cell_type": "code",
   "execution_count": 5,
   "id": "be8abcdf",
   "metadata": {},
   "outputs": [],
   "source": [
    "a = np.array([[-1, 3], [3,2]], dtype=np.dtype(float))"
   ]
  },
  {
   "cell_type": "code",
   "execution_count": 8,
   "id": "7efa3459",
   "metadata": {},
   "outputs": [],
   "source": [
    "b = np.array([7,1], dtype=np.dtype(float))"
   ]
  },
  {
   "cell_type": "code",
   "execution_count": 9,
   "id": "af29570d",
   "metadata": {},
   "outputs": [
    {
     "name": "stdout",
     "output_type": "stream",
     "text": [
      "Matrix a: [[-1.  3.]\n",
      " [ 3.  2.]]\n",
      "Matrix b: [7. 1.]\n"
     ]
    }
   ],
   "source": [
    "print('Matrix a:', a)\n",
    "print('Matrix b:', b)"
   ]
  },
  {
   "cell_type": "code",
   "execution_count": 13,
   "id": "24943740",
   "metadata": {},
   "outputs": [
    {
     "name": "stdout",
     "output_type": "stream",
     "text": [
      "Shape of matrix a is: (2, 2)\n",
      "Shape of matrix b is: (2,)\n"
     ]
    }
   ],
   "source": [
    "print(f\"Shape of matrix a is: {a.shape}\")\n",
    "print(f\"Shape of matrix b is: {b.shape}\")"
   ]
  },
  {
   "cell_type": "code",
   "execution_count": 1,
   "id": "7eae5542",
   "metadata": {},
   "outputs": [
    {
     "ename": "NameError",
     "evalue": "name 'np' is not defined",
     "output_type": "error",
     "traceback": [
      "\u001b[0;31m---------------------------------------------------------------------------\u001b[0m",
      "\u001b[0;31mNameError\u001b[0m                                 Traceback (most recent call last)",
      "Cell \u001b[0;32mIn[1], line 2\u001b[0m\n\u001b[1;32m      1\u001b[0m \u001b[38;5;66;03m# finding solution of given eqution using np\u001b[39;00m\n\u001b[0;32m----> 2\u001b[0m x \u001b[38;5;241m=\u001b[39m \u001b[43mnp\u001b[49m\u001b[38;5;241m.\u001b[39mlinalg\u001b[38;5;241m.\u001b[39msolve(a,b)\n\u001b[1;32m      3\u001b[0m \u001b[38;5;28mprint\u001b[39m(\u001b[38;5;124mf\u001b[39m\u001b[38;5;124m\"\u001b[39m\u001b[38;5;124mSolution is: \u001b[39m\u001b[38;5;132;01m{\u001b[39;00mx\u001b[38;5;132;01m}\u001b[39;00m\u001b[38;5;124m\"\u001b[39m)\n",
      "\u001b[0;31mNameError\u001b[0m: name 'np' is not defined"
     ]
    }
   ],
   "source": [
    "# finding solution of given eqution using np\n",
    "x = np.linalg.solve(a,b)\n",
    "print(f\"Solution is: {x}\")"
   ]
  },
  {
   "cell_type": "code",
   "execution_count": 6,
   "id": "169d22c0",
   "metadata": {},
   "outputs": [],
   "source": [
    "# Evaluating determinant of matrix\n",
    "determinant = np.linalg.det(a)"
   ]
  },
  {
   "cell_type": "code",
   "execution_count": 7,
   "id": "ea62b38b",
   "metadata": {},
   "outputs": [
    {
     "name": "stdout",
     "output_type": "stream",
     "text": [
      "Determinant is: -11.000000000000002\n"
     ]
    }
   ],
   "source": [
    "print(f\"Determinant is: {determinant}\")"
   ]
  }
 ],
 "metadata": {
  "kernelspec": {
   "display_name": "Python 3 (ipykernel)",
   "language": "python",
   "name": "python3"
  },
  "language_info": {
   "codemirror_mode": {
    "name": "ipython",
    "version": 3
   },
   "file_extension": ".py",
   "mimetype": "text/x-python",
   "name": "python",
   "nbconvert_exporter": "python",
   "pygments_lexer": "ipython3",
   "version": "3.10.6"
  }
 },
 "nbformat": 4,
 "nbformat_minor": 5
}

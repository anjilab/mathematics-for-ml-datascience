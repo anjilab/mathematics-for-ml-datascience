{
 "cells": [
  {
   "cell_type": "code",
   "execution_count": 8,
   "id": "4688e8a8",
   "metadata": {},
   "outputs": [],
   "source": [
    "import numpy as np"
   ]
  },
  {
   "cell_type": "code",
   "execution_count": 1,
   "id": "abdcbcc0",
   "metadata": {},
   "outputs": [],
   "source": [
    "# Elimination method to find values."
   ]
  },
  {
   "cell_type": "code",
   "execution_count": 2,
   "id": "fb054ca6",
   "metadata": {},
   "outputs": [
    {
     "ename": "NameError",
     "evalue": "name 'np' is not defined",
     "output_type": "error",
     "traceback": [
      "\u001b[0;31m---------------------------------------------------------------------------\u001b[0m",
      "\u001b[0;31mNameError\u001b[0m                                 Traceback (most recent call last)",
      "Cell \u001b[0;32mIn[2], line 1\u001b[0m\n\u001b[0;32m----> 1\u001b[0m a \u001b[38;5;241m=\u001b[39m \u001b[43mnp\u001b[49m\u001b[38;5;241m.\u001b[39marray([[\u001b[38;5;241m-\u001b[39m\u001b[38;5;241m1\u001b[39m, \u001b[38;5;241m3\u001b[39m], [\u001b[38;5;241m3\u001b[39m,\u001b[38;5;241m2\u001b[39m]], dtype\u001b[38;5;241m=\u001b[39mnp\u001b[38;5;241m.\u001b[39mdtype(\u001b[38;5;28mfloat\u001b[39m))\n",
      "\u001b[0;31mNameError\u001b[0m: name 'np' is not defined"
     ]
    }
   ],
   "source": [
    "a = np.array([[-1, 3], [3,2]], dtype=np.dtype(float))\n",
    "print(a)"
   ]
  },
  {
   "cell_type": "code",
   "execution_count": 10,
   "id": "9f468588",
   "metadata": {},
   "outputs": [],
   "source": [
    "b = np.array([7,1], dtype=np.dtype(float))\n",
    "print(b)"
   ]
  },
  {
   "cell_type": "code",
   "execution_count": 11,
   "id": "d41fa52f",
   "metadata": {},
   "outputs": [
    {
     "name": "stdout",
     "output_type": "stream",
     "text": [
      "[[-1.  3.  7.]\n",
      " [ 3.  2.  1.]]\n"
     ]
    }
   ],
   "source": [
    "a_system = np.hstack((a, b.reshape((2, 1))))\n",
    "\n",
    "print(a_system)"
   ]
  },
  {
   "cell_type": "code",
   "execution_count": 12,
   "id": "862d49b0",
   "metadata": {},
   "outputs": [
    {
     "name": "stdout",
     "output_type": "stream",
     "text": [
      "[3. 2. 1.]\n"
     ]
    }
   ],
   "source": [
    "print(a_system[1])"
   ]
  },
  {
   "cell_type": "code",
   "execution_count": 13,
   "id": "731d5288",
   "metadata": {},
   "outputs": [
    {
     "name": "stdout",
     "output_type": "stream",
     "text": [
      "[[-1.  3.  7.]\n",
      " [ 0. 11. 22.]]\n",
      "[[-1.  3.  7.]\n",
      " [ 0.  1.  2.]]\n"
     ]
    }
   ],
   "source": [
    "a_system_res = a_system.copy()\n",
    "a_system_res[1] = 3 * a_system_res[0] + a_system_res[1]\n",
    "\n",
    "print(a_system_res)\n",
    "\n",
    "a_system_res[1] = 1/11 * a_system_res[1]\n",
    "\n",
    "print(a_system_res)"
   ]
  },
  {
   "cell_type": "code",
   "execution_count": 14,
   "id": "ee7b3167",
   "metadata": {},
   "outputs": [
    {
     "name": "stdout",
     "output_type": "stream",
     "text": [
      "[[-1.  3.  7.]\n",
      " [ 0. 11. 22.]]\n",
      "[[-1.  3.  7.]\n",
      " [ 0.  1.  2.]]\n"
     ]
    }
   ],
   "source": [
    "a_system_res = a_system.copy()\n",
    "a_system_res[1] = 3 * a_system_res[0] + a_system_res[1]\n",
    "\n",
    "print(a_system_res)\n",
    "\n",
    "\n",
    "a_system_res[1] = 1/11 * a_system_res[1]\n",
    "\n",
    "print(a_system_res)"
   ]
  },
  {
   "cell_type": "code",
   "execution_count": null,
   "id": "85ec159e",
   "metadata": {},
   "outputs": [],
   "source": []
  }
 ],
 "metadata": {
  "kernelspec": {
   "display_name": "Python 3 (ipykernel)",
   "language": "python",
   "name": "python3"
  },
  "language_info": {
   "codemirror_mode": {
    "name": "ipython",
    "version": 3
   },
   "file_extension": ".py",
   "mimetype": "text/x-python",
   "name": "python",
   "nbconvert_exporter": "python",
   "pygments_lexer": "ipython3",
   "version": "3.10.6"
  }
 },
 "nbformat": 4,
 "nbformat_minor": 5
}

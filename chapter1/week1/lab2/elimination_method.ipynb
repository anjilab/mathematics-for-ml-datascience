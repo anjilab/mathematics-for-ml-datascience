{
 "cells": [
  {
   "cell_type": "code",
   "execution_count": 2,
   "id": "abdcbcc0",
   "metadata": {},
   "outputs": [],
   "source": [
    "# Elimination method to find values."
   ]
  },
  {
   "cell_type": "code",
   "execution_count": 4,
   "id": "4688e8a8",
   "metadata": {},
   "outputs": [],
   "source": [
    "import numpy as np"
   ]
  },
  {
   "cell_type": "code",
   "execution_count": 5,
   "id": "fb054ca6",
   "metadata": {},
   "outputs": [],
   "source": [
    "a = np.array([[-1, 3], [3,2]], dtype=np.dtype(float))"
   ]
  },
  {
   "cell_type": "code",
   "execution_count": 6,
   "id": "9f468588",
   "metadata": {},
   "outputs": [],
   "source": [
    "b = np.array([7,1], dtype=np.dtype(float))"
   ]
  },
  {
   "cell_type": "code",
   "execution_count": 9,
   "id": "d41fa52f",
   "metadata": {},
   "outputs": [
    {
     "name": "stdout",
     "output_type": "stream",
     "text": [
      "[[-1.  3.  7.]\n",
      " [ 3.  2.  1.]]\n"
     ]
    }
   ],
   "source": [
    "a_system = np.hstack((a, b.reshape((2, 1))))\n",
    "\n",
    "print(a_system)"
   ]
  },
  {
   "cell_type": "code",
   "execution_count": 1,
   "id": "862d49b0",
   "metadata": {},
   "outputs": [
    {
     "ename": "NameError",
     "evalue": "name 'a_system' is not defined",
     "output_type": "error",
     "traceback": [
      "\u001b[0;31m---------------------------------------------------------------------------\u001b[0m",
      "\u001b[0;31mNameError\u001b[0m                                 Traceback (most recent call last)",
      "Cell \u001b[0;32mIn[1], line 1\u001b[0m\n\u001b[0;32m----> 1\u001b[0m \u001b[38;5;28mprint\u001b[39m(\u001b[43ma_system\u001b[49m[\u001b[38;5;241m1\u001b[39m])\n",
      "\u001b[0;31mNameError\u001b[0m: name 'a_system' is not defined"
     ]
    }
   ],
   "source": [
    "print(a_system[1])"
   ]
  }
 ],
 "metadata": {
  "kernelspec": {
   "display_name": "Python 3 (ipykernel)",
   "language": "python",
   "name": "python3"
  },
  "language_info": {
   "codemirror_mode": {
    "name": "ipython",
    "version": 3
   },
   "file_extension": ".py",
   "mimetype": "text/x-python",
   "name": "python",
   "nbconvert_exporter": "python",
   "pygments_lexer": "ipython3",
   "version": "3.10.6"
  }
 },
 "nbformat": 4,
 "nbformat_minor": 5
}

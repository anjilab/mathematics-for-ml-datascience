{
 "cells": [
  {
   "cell_type": "code",
   "execution_count": 8,
   "id": "4688e8a8",
   "metadata": {},
   "outputs": [],
   "source": [
    "import numpy as np"
   ]
  },
  {
   "cell_type": "code",
   "execution_count": 1,
   "id": "abdcbcc0",
   "metadata": {},
   "outputs": [],
   "source": [
    "# Elimination method to find values."
   ]
  },
  {
   "cell_type": "code",
   "execution_count": 9,
   "id": "fb054ca6",
   "metadata": {},
   "outputs": [],
   "source": [
    "a = np.array([[-1, 3], [3,2]], dtype=np.dtype(float))"
   ]
  },
  {
   "cell_type": "code",
   "execution_count": 10,
   "id": "9f468588",
   "metadata": {},
   "outputs": [],
   "source": [
    "b = np.array([7,1], dtype=np.dtype(float))"
   ]
  },
  {
   "cell_type": "code",
   "execution_count": 11,
   "id": "d41fa52f",
   "metadata": {},
   "outputs": [
    {
     "name": "stdout",
     "output_type": "stream",
     "text": [
      "[[-1.  3.  7.]\n",
      " [ 3.  2.  1.]]\n"
     ]
    }
   ],
   "source": [
    "a_system = np.hstack((a, b.reshape((2, 1))))\n",
    "\n",
    "print(a_system)"
   ]
  },
  {
   "cell_type": "code",
   "execution_count": 12,
   "id": "862d49b0",
   "metadata": {},
   "outputs": [
    {
     "name": "stdout",
     "output_type": "stream",
     "text": [
      "[3. 2. 1.]\n"
     ]
    }
   ],
   "source": [
    "print(a_system[1])"
   ]
  },
  {
   "cell_type": "code",
   "execution_count": 13,
   "id": "731d5288",
   "metadata": {},
   "outputs": [
    {
     "name": "stdout",
     "output_type": "stream",
     "text": [
      "[[-1.  3.  7.]\n",
      " [ 0. 11. 22.]]\n",
      "[[-1.  3.  7.]\n",
      " [ 0.  1.  2.]]\n"
     ]
    }
   ],
   "source": [
    "a_system_res = a_system.copy()\n",
    "a_system_res[1] = 3 * a_system_res[0] + a_system_res[1]\n",
    "\n",
    "print(a_system_res)\n",
    "\n",
    "a_system_res[1] = 1/11 * a_system_res[1]\n",
    "\n",
    "print(a_system_res)"
   ]
  },
  {
   "cell_type": "code",
   "execution_count": 14,
   "id": "ee7b3167",
   "metadata": {},
   "outputs": [
    {
     "name": "stdout",
     "output_type": "stream",
     "text": [
      "[[-1.  3.  7.]\n",
      " [ 0. 11. 22.]]\n",
      "[[-1.  3.  7.]\n",
      " [ 0.  1.  2.]]\n"
     ]
    }
   ],
   "source": [
    "a_system_res = a_system.copy()\n",
    "a_system_res[1] = 3 * a_system_res[0] + a_system_res[1]\n",
    "\n",
    "print(a_system_res)\n",
    "\n",
    "\n",
    "a_system_res[1] = 1/11 * a_system_res[1]\n",
    "\n",
    "print(a_system_res)"
   ]
  },
  {
   "cell_type": "code",
   "execution_count": null,
   "id": "85ec159e",
   "metadata": {},
   "outputs": [],
   "source": []
  }
 ],
 "metadata": {
  "kernelspec": {
   "display_name": "Python 3 (ipykernel)",
   "language": "python",
   "name": "python3"
  },
  "language_info": {
   "codemirror_mode": {
    "name": "ipython",
    "version": 3
   },
   "file_extension": ".py",
   "mimetype": "text/x-python",
   "name": "python",
   "nbconvert_exporter": "python",
   "pygments_lexer": "ipython3",
   "version": "3.10.6"
  }
 },
 "nbformat": 4,
 "nbformat_minor": 5
}

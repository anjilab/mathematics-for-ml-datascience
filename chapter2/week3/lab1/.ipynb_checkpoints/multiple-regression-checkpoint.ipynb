{
 "cells": [
  {
   "cell_type": "code",
   "execution_count": 1,
   "id": "4a88535e-56cd-4e75-b040-c20c1ce0c9dc",
   "metadata": {},
   "outputs": [],
   "source": [
    "import pandas as pd\n",
    "import numpy as np"
   ]
  },
  {
   "cell_type": "code",
   "execution_count": 2,
   "id": "411877e6-0efb-4cdc-b801-c64659d3b250",
   "metadata": {},
   "outputs": [
    {
     "name": "stdout",
     "output_type": "stream",
     "text": [
      "Head gives top 5 information with 5 rows * total cols    Id  MSSubClass MSZoning  LotFrontage  LotArea Street Alley LotShape  \\\n",
      "0   1          60       RL         65.0     8450   Pave   NaN      Reg   \n",
      "1   2          20       RL         80.0     9600   Pave   NaN      Reg   \n",
      "2   3          60       RL         68.0    11250   Pave   NaN      IR1   \n",
      "3   4          70       RL         60.0     9550   Pave   NaN      IR1   \n",
      "4   5          60       RL         84.0    14260   Pave   NaN      IR1   \n",
      "\n",
      "  LandContour Utilities  ... PoolArea PoolQC Fence MiscFeature MiscVal MoSold  \\\n",
      "0         Lvl    AllPub  ...        0    NaN   NaN         NaN       0      2   \n",
      "1         Lvl    AllPub  ...        0    NaN   NaN         NaN       0      5   \n",
      "2         Lvl    AllPub  ...        0    NaN   NaN         NaN       0      9   \n",
      "3         Lvl    AllPub  ...        0    NaN   NaN         NaN       0      2   \n",
      "4         Lvl    AllPub  ...        0    NaN   NaN         NaN       0     12   \n",
      "\n",
      "  YrSold  SaleType  SaleCondition  SalePrice  \n",
      "0   2008        WD         Normal     208500  \n",
      "1   2007        WD         Normal     181500  \n",
      "2   2008        WD         Normal     223500  \n",
      "3   2006        WD        Abnorml     140000  \n",
      "4   2008        WD         Normal     250000  \n",
      "\n",
      "[5 rows x 81 columns]\n",
      "About column information Index(['Id', 'MSSubClass', 'MSZoning', 'LotFrontage', 'LotArea', 'Street',\n",
      "       'Alley', 'LotShape', 'LandContour', 'Utilities', 'LotConfig',\n",
      "       'LandSlope', 'Neighborhood', 'Condition1', 'Condition2', 'BldgType',\n",
      "       'HouseStyle', 'OverallQual', 'OverallCond', 'YearBuilt', 'YearRemodAdd',\n",
      "       'RoofStyle', 'RoofMatl', 'Exterior1st', 'Exterior2nd', 'MasVnrType',\n",
      "       'MasVnrArea', 'ExterQual', 'ExterCond', 'Foundation', 'BsmtQual',\n",
      "       'BsmtCond', 'BsmtExposure', 'BsmtFinType1', 'BsmtFinSF1',\n",
      "       'BsmtFinType2', 'BsmtFinSF2', 'BsmtUnfSF', 'TotalBsmtSF', 'Heating',\n",
      "       'HeatingQC', 'CentralAir', 'Electrical', '1stFlrSF', '2ndFlrSF',\n",
      "       'LowQualFinSF', 'GrLivArea', 'BsmtFullBath', 'BsmtHalfBath', 'FullBath',\n",
      "       'HalfBath', 'BedroomAbvGr', 'KitchenAbvGr', 'KitchenQual',\n",
      "       'TotRmsAbvGrd', 'Functional', 'Fireplaces', 'FireplaceQu', 'GarageType',\n",
      "       'GarageYrBlt', 'GarageFinish', 'GarageCars', 'GarageArea', 'GarageQual',\n",
      "       'GarageCond', 'PavedDrive', 'WoodDeckSF', 'OpenPorchSF',\n",
      "       'EnclosedPorch', '3SsnPorch', 'ScreenPorch', 'PoolArea', 'PoolQC',\n",
      "       'Fence', 'MiscFeature', 'MiscVal', 'MoSold', 'YrSold', 'SaleType',\n",
      "       'SaleCondition', 'SalePrice'],\n",
      "      dtype='object')\n",
      "To count total data <bound method DataFrame.count of         Id  MSSubClass MSZoning  LotFrontage  LotArea Street Alley LotShape  \\\n",
      "0        1          60       RL         65.0     8450   Pave   NaN      Reg   \n",
      "1        2          20       RL         80.0     9600   Pave   NaN      Reg   \n",
      "2        3          60       RL         68.0    11250   Pave   NaN      IR1   \n",
      "3        4          70       RL         60.0     9550   Pave   NaN      IR1   \n",
      "4        5          60       RL         84.0    14260   Pave   NaN      IR1   \n",
      "...    ...         ...      ...          ...      ...    ...   ...      ...   \n",
      "1455  1456          60       RL         62.0     7917   Pave   NaN      Reg   \n",
      "1456  1457          20       RL         85.0    13175   Pave   NaN      Reg   \n",
      "1457  1458          70       RL         66.0     9042   Pave   NaN      Reg   \n",
      "1458  1459          20       RL         68.0     9717   Pave   NaN      Reg   \n",
      "1459  1460          20       RL         75.0     9937   Pave   NaN      Reg   \n",
      "\n",
      "     LandContour Utilities  ... PoolArea PoolQC  Fence MiscFeature MiscVal  \\\n",
      "0            Lvl    AllPub  ...        0    NaN    NaN         NaN       0   \n",
      "1            Lvl    AllPub  ...        0    NaN    NaN         NaN       0   \n",
      "2            Lvl    AllPub  ...        0    NaN    NaN         NaN       0   \n",
      "3            Lvl    AllPub  ...        0    NaN    NaN         NaN       0   \n",
      "4            Lvl    AllPub  ...        0    NaN    NaN         NaN       0   \n",
      "...          ...       ...  ...      ...    ...    ...         ...     ...   \n",
      "1455         Lvl    AllPub  ...        0    NaN    NaN         NaN       0   \n",
      "1456         Lvl    AllPub  ...        0    NaN  MnPrv         NaN       0   \n",
      "1457         Lvl    AllPub  ...        0    NaN  GdPrv        Shed    2500   \n",
      "1458         Lvl    AllPub  ...        0    NaN    NaN         NaN       0   \n",
      "1459         Lvl    AllPub  ...        0    NaN    NaN         NaN       0   \n",
      "\n",
      "     MoSold YrSold  SaleType  SaleCondition  SalePrice  \n",
      "0         2   2008        WD         Normal     208500  \n",
      "1         5   2007        WD         Normal     181500  \n",
      "2         9   2008        WD         Normal     223500  \n",
      "3         2   2006        WD        Abnorml     140000  \n",
      "4        12   2008        WD         Normal     250000  \n",
      "...     ...    ...       ...            ...        ...  \n",
      "1455      8   2007        WD         Normal     175000  \n",
      "1456      2   2010        WD         Normal     210000  \n",
      "1457      5   2010        WD         Normal     266500  \n",
      "1458      4   2010        WD         Normal     142125  \n",
      "1459      6   2008        WD         Normal     147500  \n",
      "\n",
      "[1460 rows x 81 columns]>\n"
     ]
    }
   ],
   "source": [
    "path = \"data/house_prices_train.csv\"\n",
    "data_frames = pd.read_csv(path)\n",
    "print(\"Head gives top 5 information with 5 rows * total cols\",data_frames.head())\n",
    "print(\"About column information\", data_frames.columns)\n",
    "print(\"To count total data\", data_frames.count)"
   ]
  },
  {
   "cell_type": "code",
   "execution_count": 3,
   "id": "df3421e2-e25c-4324-aa99-7617705851ef",
   "metadata": {},
   "outputs": [
    {
     "name": "stdout",
     "output_type": "stream",
     "text": [
      "      GrLivArea  OverallQual\n",
      "0          1710            7\n",
      "1          1262            6\n",
      "2          1786            7\n",
      "3          1717            7\n",
      "4          2198            8\n",
      "...         ...          ...\n",
      "1455       1647            6\n",
      "1456       2073            6\n",
      "1457       2340            7\n",
      "1458       1078            5\n",
      "1459       1256            5\n",
      "\n",
      "[1460 rows x 2 columns] 0       208500\n",
      "1       181500\n",
      "2       223500\n",
      "3       140000\n",
      "4       250000\n",
      "         ...  \n",
      "1455    175000\n",
      "1456    210000\n",
      "1457    266500\n",
      "1458    142125\n",
      "1459    147500\n",
      "Name: SalePrice, Length: 1460, dtype: int64\n"
     ]
    }
   ],
   "source": [
    "X_multi = data_frames[['GrLivArea', 'OverallQual']] # Selected two features from the csv\n",
    "Y_multi = data_frames['SalePrice'] # Output for the given data\n",
    "\n",
    "print(X_multi, Y_multi)"
   ]
  },
  {
   "cell_type": "code",
   "execution_count": 4,
   "id": "c389a0a9-9baa-4f7d-9147-1fe705b22c08",
   "metadata": {},
   "outputs": [
    {
     "data": {
      "text/html": [
       "<div>\n",
       "<style scoped>\n",
       "    .dataframe tbody tr th:only-of-type {\n",
       "        vertical-align: middle;\n",
       "    }\n",
       "\n",
       "    .dataframe tbody tr th {\n",
       "        vertical-align: top;\n",
       "    }\n",
       "\n",
       "    .dataframe thead th {\n",
       "        text-align: right;\n",
       "    }\n",
       "</style>\n",
       "<table border=\"1\" class=\"dataframe\">\n",
       "  <thead>\n",
       "    <tr style=\"text-align: right;\">\n",
       "      <th></th>\n",
       "      <th>GrLivArea</th>\n",
       "      <th>OverallQual</th>\n",
       "    </tr>\n",
       "  </thead>\n",
       "  <tbody>\n",
       "    <tr>\n",
       "      <th>0</th>\n",
       "      <td>1710</td>\n",
       "      <td>7</td>\n",
       "    </tr>\n",
       "    <tr>\n",
       "      <th>1</th>\n",
       "      <td>1262</td>\n",
       "      <td>6</td>\n",
       "    </tr>\n",
       "    <tr>\n",
       "      <th>2</th>\n",
       "      <td>1786</td>\n",
       "      <td>7</td>\n",
       "    </tr>\n",
       "    <tr>\n",
       "      <th>3</th>\n",
       "      <td>1717</td>\n",
       "      <td>7</td>\n",
       "    </tr>\n",
       "    <tr>\n",
       "      <th>4</th>\n",
       "      <td>2198</td>\n",
       "      <td>8</td>\n",
       "    </tr>\n",
       "    <tr>\n",
       "      <th>...</th>\n",
       "      <td>...</td>\n",
       "      <td>...</td>\n",
       "    </tr>\n",
       "    <tr>\n",
       "      <th>1455</th>\n",
       "      <td>1647</td>\n",
       "      <td>6</td>\n",
       "    </tr>\n",
       "    <tr>\n",
       "      <th>1456</th>\n",
       "      <td>2073</td>\n",
       "      <td>6</td>\n",
       "    </tr>\n",
       "    <tr>\n",
       "      <th>1457</th>\n",
       "      <td>2340</td>\n",
       "      <td>7</td>\n",
       "    </tr>\n",
       "    <tr>\n",
       "      <th>1458</th>\n",
       "      <td>1078</td>\n",
       "      <td>5</td>\n",
       "    </tr>\n",
       "    <tr>\n",
       "      <th>1459</th>\n",
       "      <td>1256</td>\n",
       "      <td>5</td>\n",
       "    </tr>\n",
       "  </tbody>\n",
       "</table>\n",
       "<p>1460 rows × 2 columns</p>\n",
       "</div>"
      ],
      "text/plain": [
       "      GrLivArea  OverallQual\n",
       "0          1710            7\n",
       "1          1262            6\n",
       "2          1786            7\n",
       "3          1717            7\n",
       "4          2198            8\n",
       "...         ...          ...\n",
       "1455       1647            6\n",
       "1456       2073            6\n",
       "1457       2340            7\n",
       "1458       1078            5\n",
       "1459       1256            5\n",
       "\n",
       "[1460 rows x 2 columns]"
      ]
     },
     "metadata": {},
     "output_type": "display_data"
    },
    {
     "data": {
      "text/plain": [
       "0       208500\n",
       "1       181500\n",
       "2       223500\n",
       "3       140000\n",
       "4       250000\n",
       "         ...  \n",
       "1455    175000\n",
       "1456    210000\n",
       "1457    266500\n",
       "1458    142125\n",
       "1459    147500\n",
       "Name: SalePrice, Length: 1460, dtype: int64"
      ]
     },
     "metadata": {},
     "output_type": "display_data"
    }
   ],
   "source": [
    "# display function is jupyter notebook function allowing to display in neat way\n",
    "display(X_multi)\n",
    "display(Y_multi)"
   ]
  },
  {
   "cell_type": "code",
   "execution_count": 5,
   "id": "f34ddc82-a284-4a99-af0d-f66f344938ec",
   "metadata": {},
   "outputs": [
    {
     "name": "stdout",
     "output_type": "stream",
     "text": [
      "      GrLivArea  OverallQual\n",
      "0      1.807001  -545.221740\n",
      "1      0.954156  -545.945056\n",
      "2      1.951680  -545.221740\n",
      "3      1.820327  -545.221740\n",
      "4      2.735994  -544.498425\n",
      "...         ...          ...\n",
      "1455   1.687070  -545.945056\n",
      "1456   2.498034  -545.945056\n",
      "1457   3.006315  -545.221740\n",
      "1458   0.603880  -546.668371\n",
      "1459   0.942734  -546.668371\n",
      "\n",
      "[1460 rows x 2 columns]\n",
      "0       0.347273\n",
      "1       0.007288\n",
      "2       0.536154\n",
      "3      -0.515281\n",
      "4       0.869843\n",
      "          ...   \n",
      "1455   -0.074560\n",
      "1456    0.366161\n",
      "1457    1.077611\n",
      "1458   -0.488523\n",
      "1459   -0.420841\n",
      "Name: SalePrice, Length: 1460, dtype: float64\n"
     ]
    }
   ],
   "source": [
    "# Normalizing data using x - mean / std deviation, to make ranges common or similar to each other.\n",
    "X_multi_normalize = (X_multi - np.mean(X_multi))/np.std(X_multi)\n",
    "Y_multi_normalize = (Y_multi - np.mean(Y_multi))/np.std(Y_multi)\n",
    "print(X_multi_normalize)\n",
    "print(Y_multi_normalize)"
   ]
  },
  {
   "cell_type": "code",
   "execution_count": 6,
   "id": "73af0190-8ada-43d5-b5ce-392629087f3c",
   "metadata": {},
   "outputs": [
    {
     "name": "stdout",
     "output_type": "stream",
     "text": [
      "(1460, 2) 0       0.347273\n",
      "1       0.007288\n",
      "2       0.536154\n",
      "3      -0.515281\n",
      "4       0.869843\n",
      "          ...   \n",
      "1455   -0.074560\n",
      "1456    0.366161\n",
      "1457    1.077611\n",
      "1458   -0.488523\n",
      "1459   -0.420841\n",
      "Name: SalePrice, Length: 1460, dtype: float64\n",
      "(2, 1460) (1, 1460)\n"
     ]
    }
   ],
   "source": [
    "# Transposing shape, since at a time in a neuron only two features of first rows is an input hence, reshaping.\n",
    "print(X_multi_normalize.shape, Y_multi_normalize)\n",
    "X_multi_normalize = np.array(X_multi_normalize).T\n",
    "Y_multi_normalize = np.array(Y_multi_normalize).reshape((1,len(Y_multi_normalize)))\n",
    "print(X_multi_normalize.shape,Y_multi_normalize.shape)                                                    "
   ]
  },
  {
   "cell_type": "code",
   "execution_count": 7,
   "id": "2f7aaf11-e21c-4e73-80ae-a4881e3b9ac7",
   "metadata": {},
   "outputs": [
    {
     "name": "stdout",
     "output_type": "stream",
     "text": [
      "The size of input layer 2\n",
      "The size of output layer 1\n"
     ]
    }
   ],
   "source": [
    "def layer_sizes(X,Y):\n",
    "    # Getting number of features = 2, to feed in one network and for output its the price, i.e 1 output\n",
    "    n_x = X.shape[0]\n",
    "    n_y = Y.shape[0]\n",
    "    return (n_x,n_y)\n",
    "\n",
    "(n_x,n_y) = layer_sizes(X_multi_normalize, Y_multi_normalize)\n",
    "print(\"The size of input layer\", n_x)\n",
    "print(\"The size of output layer\", n_y)"
   ]
  },
  {
   "cell_type": "code",
   "execution_count": 8,
   "id": "2e0a87b6-a46b-451f-9666-3b11fb7fca84",
   "metadata": {},
   "outputs": [
    {
     "name": "stdout",
     "output_type": "stream",
     "text": [
      "{'W': array([[ 0.01245473, -0.00514406]]), 'b': array([[0.]])}\n"
     ]
    }
   ],
   "source": [
    "def initialize_parameters(n_x, n_y):\n",
    "    W = np.random.randn(n_y,n_x) * 0.01\n",
    "    b = np.zeros((n_y,1))\n",
    "    parameters= {\"W\":W, \"b\":b}\n",
    "    return parameters\n",
    "\n",
    "parameters = initialize_parameters(n_x, n_y)\n",
    "print(parameters)"
   ]
  },
  {
   "cell_type": "code",
   "execution_count": 9,
   "id": "5904999c-204f-4998-b090-e2d53e0e7233",
   "metadata": {},
   "outputs": [
    {
     "name": "stdout",
     "output_type": "stream",
     "text": [
      "[2.82715789 2.82025671 2.82895983 2.82732386 2.83500746]\n"
     ]
    }
   ],
   "source": [
    "def forward_propagation(X, parameters):\n",
    "    W = parameters[\"W\"]\n",
    "    b = parameters[\"b\"]\n",
    "    # y = wx + b\n",
    "    predicted_y = np.matmul(W, X) + b\n",
    "    return predicted_y\n",
    "\n",
    "y_hat = forward_propagation(X_multi_normalize, parameters)\n",
    "print(y_hat[0, 0:5]) # first five predicted price\n",
    "    "
   ]
  },
  {
   "cell_type": "code",
   "execution_count": 10,
   "id": "2c378635-8492-462e-a95d-580f5664a36a",
   "metadata": {},
   "outputs": [
    {
     "name": "stdout",
     "output_type": "stream",
     "text": [
      "The cost function value is: -1.4129483679455568\n"
     ]
    }
   ],
   "source": [
    "def compute_cost(actual_y, predicted_y):\n",
    "    total_number_outputs_y = predicted_y.shape[1]\n",
    "    try:\n",
    "        # print(actual_y, predicted_y)\n",
    "        # Fix this overflow error issue in finding cost\n",
    "        # squared_error = np.square(actual_y - predicted_y)\n",
    "        squared_error = actual_y - predicted_y\n",
    "        # print(squared_error,\"Square\")\n",
    "        mean_squared_error = np.sum(squared_error)/(2*total_number_outputs_y)\n",
    "        #print(mean_squared_error)\n",
    "        return(mean_squared_error)\n",
    "    except RuntimeWarning as e:\n",
    "        print(e)\n",
    "            \n",
    "    \n",
    "\n",
    "print(\"The cost function value is:\",compute_cost(Y_multi_normalize,y_hat))\n",
    "    "
   ]
  },
  {
   "cell_type": "code",
   "execution_count": 11,
   "id": "8f661320-4855-4613-8edd-a83a460d8908",
   "metadata": {},
   "outputs": [
    {
     "name": "stdout",
     "output_type": "stream",
     "text": [
      "{'dW': array([[    3.3606548 , -1543.37008891]]), 'db': -1540.0094341050785}\n"
     ]
    }
   ],
   "source": [
    "def backward_propagation(predicted_y,actual_y, X):\n",
    "    #print(X.shape[1], X.shape)\n",
    "    input_size_m = X.shape[1]\n",
    "    difference_in_output = predicted_y - actual_y\n",
    "    #print(difference_in_output.shape)\n",
    "    gradient_of_b = 1/input_size_m * (np.sum(difference_in_output*X))\n",
    "    gradient_of_w = 1/input_size_m * np.dot(difference_in_output,X.T)\n",
    "    gradients = {\"dW\": gradient_of_w, \"db\" : gradient_of_b}\n",
    "    return gradients\n",
    "    \n",
    "gradients = backward_propagation(y_hat, Y_multi_normalize, X_multi_normalize)\n",
    "print(gradients)"
   ]
  },
  {
   "cell_type": "code",
   "execution_count": 12,
   "id": "2a742df1-95c1-4eae-bae9-eaee4281a3e8",
   "metadata": {},
   "outputs": [
    {
     "name": "stdout",
     "output_type": "stream",
     "text": [
      "The updated parameters from backward propagation {'W': array([[  -4.02033103, 1852.03896263]]), 'b': array([[1848.01132093]])}\n"
     ]
    }
   ],
   "source": [
    "def each_level_grad_descent_for_parameters_update(gradients_w_b, parameters_w_b, learning_rate= 1.2):\n",
    "    W = parameters_w_b[\"W\"]\n",
    "    b = parameters_w_b[\"b\"]\n",
    "    \n",
    "    dW = gradients_w_b[\"dW\"]\n",
    "    db = gradients_w_b[\"db\"]\n",
    "    \n",
    "    W = W - learning_rate * dW\n",
    "    b = b - learning_rate * db\n",
    "    parameters = {\"W\": W, \"b\":b}\n",
    "    return parameters\n",
    "\n",
    "print(\"The updated parameters from backward propagation\",each_level_grad_descent_for_parameters_update(gradients,parameters))"
   ]
  },
  {
   "cell_type": "code",
   "execution_count": 49,
   "id": "326cedfb-ec38-4651-b1df-69f9bbb0b429",
   "metadata": {},
   "outputs": [
    {
     "name": "stdout",
     "output_type": "stream",
     "text": [
      "{'W': array([[-0.00847518,  0.00131117]]), 'b': array([[0.]])} BEGIN\n",
      "Neural Network {'W': array([[-0.00847518,  0.00131117]]), 'b': array([[0.]])}\n"
     ]
    }
   ],
   "source": [
    "def nn_model(input_X,output_label_Y, iterations = 10, learning_rate = 1.2, print_cost= False):\n",
    "    # Training model by feeding training data and testing for new data\n",
    "    nn_layer_size = layer_sizes(input_X, output_label_Y)\n",
    "    nn_input_feature_layer = nn_layer_size[0]\n",
    "    nn_output_price_layer = nn_layer_size[1]\n",
    "    parameters = initialize_parameters(nn_input_feature_layer, nn_output_price_layer)\n",
    "    print(parameters,\"BEGIN\")\n",
    "    \n",
    "    for i in range(0,iterations):\n",
    "        y_hat = forward_propagation(input_X, parameters)\n",
    "        cost = compute_cost(output_label_Y,y_hat)\n",
    "        gradients = backward_propagation(y_hat, output_label_Y, input_X)\n",
    "        # parameters = each_level_grad_descent_for_parameters_update(gradients, parameters)\n",
    "        #print(\"Update parameters\", parameters)\n",
    "        if(print_cost):\n",
    "            print(\"Cost is %f\", cost)\n",
    "    return parameters\n",
    "\n",
    "print(\"Neural Network\", nn_model(X_multi_normalize, Y_multi_normalize, 100, 1.2))\n",
    "    "
   ]
  },
  {
   "cell_type": "code",
   "execution_count": 51,
   "id": "08fe4244-da5c-408d-ac9d-1e6929b08707",
   "metadata": {},
   "outputs": [],
   "source": [
    "def predict(X_data,Y_data,updated_parameters,X_test):\n",
    "    print(X_data,Y_data, updated_parameters)\n",
    "    W = updated_parameters[\"W\"]\n",
    "    b = updated_parameters[\"b\"]\n",
    "    print(isinstance(X_data,pd.Series), pd.Series, X_data.shape, X_test.shape)\n",
    "    \n",
    "    if isinstance(X_data,pd.Series):\n",
    "        X_mean = np.mean(X_data)\n",
    "        X_deviation = np.std(X_data)\n",
    "        x_normalized = ((X_test - X_mean)/X_std).reshape((1, len(X_test)))\n",
    "    else:\n",
    "        # X_mean = np.array(np.mean(X_data)).reshape((len(X_data.axes[1]),1))\n",
    "        X_mean = np.array(np.mean(X_data))\n",
    "        X_std = np.array(np.std(X_data)).reshape((len(X_data.axes[1]),1))\n",
    "        x_normalized = ((X_test - X_mean)/X_std)\n",
    "    y_pred_normalize = np.matmul(W,x_normalized) + b\n",
    "    y_pred = y_pred_normalize * np.mean(Y_data) + np.std(Y_data)\n",
    "    return y_pred[0]\n",
    "    \n",
    "    \n",
    "    "
   ]
  },
  {
   "cell_type": "code",
   "execution_count": 42,
   "id": "7ab37f4c-8995-49cf-ae86-d13a1afd2ea3",
   "metadata": {},
   "outputs": [
    {
     "name": "stdout",
     "output_type": "stream",
     "text": [
      "{'W': array([[ 0.00103806, -0.00717155]]), 'b': array([[0.]])} BEGIN\n"
     ]
    }
   ],
   "source": [
    "parameters_multi = nn_model(X_multi_normalize, Y_multi_normalize, iterations=100, print_cost=False)"
   ]
  },
  {
   "cell_type": "code",
   "execution_count": 43,
   "id": "c1570dac-9596-4421-bdb4-ff7c1e614328",
   "metadata": {},
   "outputs": [
    {
     "name": "stdout",
     "output_type": "stream",
     "text": [
      "W is [[ 0.00103806 -0.00717155]]\n",
      "b is [[0.]]\n"
     ]
    }
   ],
   "source": [
    "print(\"W is\", parameters_multi[\"W\"])\n",
    "print(\"b is\", parameters_multi[\"b\"])\n",
    "multi_params_w = parameters_multi[\"W\"]\n",
    "multi_params_b = parameters_multi[\"b\"]"
   ]
  },
  {
   "cell_type": "code",
   "execution_count": 53,
   "id": "d8bfff6b-50c8-4966-b830-73422587bda8",
   "metadata": {},
   "outputs": [
    {
     "name": "stdout",
     "output_type": "stream",
     "text": [
      "Before transpose (3, 2)\n",
      "After transpose (2, 3)\n",
      "      GrLivArea  OverallQual\n",
      "0          1710            7\n",
      "1          1262            6\n",
      "2          1786            7\n",
      "3          1717            7\n",
      "4          2198            8\n",
      "...         ...          ...\n",
      "1455       1647            6\n",
      "1456       2073            6\n",
      "1457       2340            7\n",
      "1458       1078            5\n",
      "1459       1256            5\n",
      "\n",
      "[1460 rows x 2 columns] 0       208500\n",
      "1       181500\n",
      "2       223500\n",
      "3       140000\n",
      "4       250000\n",
      "         ...  \n",
      "1455    175000\n",
      "1456    210000\n",
      "1457    266500\n",
      "1458    142125\n",
      "1459    147500\n",
      "Name: SalePrice, Length: 1460, dtype: int64 {'W': array([[ 0.00103806, -0.00717155]]), 'b': array([[0.]])}\n",
      "False <class 'pandas.core.series.Series'> (1460, 2) (2, 3)\n",
      "Ground living area, square feet:\n",
      "[1710 1200 2200]\n",
      "Rates of the overall quality of material and finish, 1-10:\n",
      "[7 6 8]\n",
      "Predictions of sales price, $:\n",
      "[787172. 787928. 786408.]\n"
     ]
    }
   ],
   "source": [
    "X_test_data =  np.array([[1710, 7], [1200, 6], [2200, 8]])\n",
    "X_test_data_formatted =  np.array([[1710, 7], [1200, 6], [2200, 8]]).T\n",
    "print(\"Before transpose\",X_test_data.shape)\n",
    "print(\"After transpose\",X_test_data_formatted.shape)\n",
    "Y_test_data_output = predict(X_multi, Y_multi, parameters_multi, X_test_data_formatted)\n",
    "\n",
    "print(f\"Ground living area, square feet:\\n{X_test_data_formatted[0]}\")\n",
    "print(f\"Rates of the overall quality of material and finish, 1-10:\\n{X_test_data_formatted[1]}\")\n",
    "print(f\"Predictions of sales price, $:\\n{np.round(Y_test_data_output)}\")\n"
   ]
  },
  {
   "cell_type": "code",
   "execution_count": null,
   "id": "e6da0042-9a90-4a8e-ad77-0ce3d77bad5f",
   "metadata": {},
   "outputs": [],
   "source": []
  },
  {
   "cell_type": "code",
   "execution_count": null,
   "id": "3546aa28-7d46-4f1b-bdb8-d485489e03d3",
   "metadata": {},
   "outputs": [],
   "source": []
  },
  {
   "cell_type": "code",
   "execution_count": null,
   "id": "f8880714-5e26-46e4-a763-462998778759",
   "metadata": {},
   "outputs": [],
   "source": []
  },
  {
   "cell_type": "code",
   "execution_count": null,
   "id": "723ae5cc-ada8-4e2f-9364-e4ca808f0e43",
   "metadata": {},
   "outputs": [],
   "source": []
  }
 ],
 "metadata": {
  "kernelspec": {
   "display_name": "Python 3 (ipykernel)",
   "language": "python",
   "name": "python3"
  },
  "language_info": {
   "codemirror_mode": {
    "name": "ipython",
    "version": 3
   },
   "file_extension": ".py",
   "mimetype": "text/x-python",
   "name": "python",
   "nbconvert_exporter": "python",
   "pygments_lexer": "ipython3",
   "version": "3.9.6"
  }
 },
 "nbformat": 4,
 "nbformat_minor": 5
}

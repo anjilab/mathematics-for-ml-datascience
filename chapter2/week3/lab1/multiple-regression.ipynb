{
 "cells": [
  {
   "cell_type": "code",
   "execution_count": 25,
   "id": "4a88535e-56cd-4e75-b040-c20c1ce0c9dc",
   "metadata": {},
   "outputs": [],
   "source": [
    "import pandas as pd\n",
    "import numpy as np"
   ]
  },
  {
   "cell_type": "code",
   "execution_count": 26,
   "id": "411877e6-0efb-4cdc-b801-c64659d3b250",
   "metadata": {},
   "outputs": [
    {
     "name": "stdout",
     "output_type": "stream",
     "text": [
      "   Id  MSSubClass MSZoning  LotFrontage  LotArea Street Alley LotShape  \\\n",
      "0   1          60       RL         65.0     8450   Pave   NaN      Reg   \n",
      "1   2          20       RL         80.0     9600   Pave   NaN      Reg   \n",
      "2   3          60       RL         68.0    11250   Pave   NaN      IR1   \n",
      "3   4          70       RL         60.0     9550   Pave   NaN      IR1   \n",
      "4   5          60       RL         84.0    14260   Pave   NaN      IR1   \n",
      "\n",
      "  LandContour Utilities  ... PoolArea PoolQC Fence MiscFeature MiscVal MoSold  \\\n",
      "0         Lvl    AllPub  ...        0    NaN   NaN         NaN       0      2   \n",
      "1         Lvl    AllPub  ...        0    NaN   NaN         NaN       0      5   \n",
      "2         Lvl    AllPub  ...        0    NaN   NaN         NaN       0      9   \n",
      "3         Lvl    AllPub  ...        0    NaN   NaN         NaN       0      2   \n",
      "4         Lvl    AllPub  ...        0    NaN   NaN         NaN       0     12   \n",
      "\n",
      "  YrSold  SaleType  SaleCondition  SalePrice  \n",
      "0   2008        WD         Normal     208500  \n",
      "1   2007        WD         Normal     181500  \n",
      "2   2008        WD         Normal     223500  \n",
      "3   2006        WD        Abnorml     140000  \n",
      "4   2008        WD         Normal     250000  \n",
      "\n",
      "[5 rows x 81 columns] Index(['Id', 'MSSubClass', 'MSZoning', 'LotFrontage', 'LotArea', 'Street',\n",
      "       'Alley', 'LotShape', 'LandContour', 'Utilities', 'LotConfig',\n",
      "       'LandSlope', 'Neighborhood', 'Condition1', 'Condition2', 'BldgType',\n",
      "       'HouseStyle', 'OverallQual', 'OverallCond', 'YearBuilt', 'YearRemodAdd',\n",
      "       'RoofStyle', 'RoofMatl', 'Exterior1st', 'Exterior2nd', 'MasVnrType',\n",
      "       'MasVnrArea', 'ExterQual', 'ExterCond', 'Foundation', 'BsmtQual',\n",
      "       'BsmtCond', 'BsmtExposure', 'BsmtFinType1', 'BsmtFinSF1',\n",
      "       'BsmtFinType2', 'BsmtFinSF2', 'BsmtUnfSF', 'TotalBsmtSF', 'Heating',\n",
      "       'HeatingQC', 'CentralAir', 'Electrical', '1stFlrSF', '2ndFlrSF',\n",
      "       'LowQualFinSF', 'GrLivArea', 'BsmtFullBath', 'BsmtHalfBath', 'FullBath',\n",
      "       'HalfBath', 'BedroomAbvGr', 'KitchenAbvGr', 'KitchenQual',\n",
      "       'TotRmsAbvGrd', 'Functional', 'Fireplaces', 'FireplaceQu', 'GarageType',\n",
      "       'GarageYrBlt', 'GarageFinish', 'GarageCars', 'GarageArea', 'GarageQual',\n",
      "       'GarageCond', 'PavedDrive', 'WoodDeckSF', 'OpenPorchSF',\n",
      "       'EnclosedPorch', '3SsnPorch', 'ScreenPorch', 'PoolArea', 'PoolQC',\n",
      "       'Fence', 'MiscFeature', 'MiscVal', 'MoSold', 'YrSold', 'SaleType',\n",
      "       'SaleCondition', 'SalePrice'],\n",
      "      dtype='object')\n"
     ]
    }
   ],
   "source": [
    "path = \"data/house_prices_train.csv\"\n",
    "data_frames = pd.read_csv(path)\n",
    "print(data_frames.head(), data_frames.columns)"
   ]
  },
  {
   "cell_type": "code",
   "execution_count": 28,
   "id": "df3421e2-e25c-4324-aa99-7617705851ef",
   "metadata": {},
   "outputs": [
    {
     "name": "stdout",
     "output_type": "stream",
     "text": [
      "      GrLivArea  OverallQual\n",
      "0          1710            7\n",
      "1          1262            6\n",
      "2          1786            7\n",
      "3          1717            7\n",
      "4          2198            8\n",
      "...         ...          ...\n",
      "1455       1647            6\n",
      "1456       2073            6\n",
      "1457       2340            7\n",
      "1458       1078            5\n",
      "1459       1256            5\n",
      "\n",
      "[1460 rows x 2 columns] 0       208500\n",
      "1       181500\n",
      "2       223500\n",
      "3       140000\n",
      "4       250000\n",
      "         ...  \n",
      "1455    175000\n",
      "1456    210000\n",
      "1457    266500\n",
      "1458    142125\n",
      "1459    147500\n",
      "Name: SalePrice, Length: 1460, dtype: int64\n"
     ]
    }
   ],
   "source": [
    "X_multi = data_set[['GrLivArea', 'OverallQual']]\n",
    "Y_multi = data_set['SalePrice']\n",
    "\n",
    "print(X_multi, Y_multi)"
   ]
  },
  {
   "cell_type": "code",
   "execution_count": 30,
   "id": "c389a0a9-9baa-4f7d-9147-1fe705b22c08",
   "metadata": {},
   "outputs": [
    {
     "data": {
      "text/html": [
       "<div>\n",
       "<style scoped>\n",
       "    .dataframe tbody tr th:only-of-type {\n",
       "        vertical-align: middle;\n",
       "    }\n",
       "\n",
       "    .dataframe tbody tr th {\n",
       "        vertical-align: top;\n",
       "    }\n",
       "\n",
       "    .dataframe thead th {\n",
       "        text-align: right;\n",
       "    }\n",
       "</style>\n",
       "<table border=\"1\" class=\"dataframe\">\n",
       "  <thead>\n",
       "    <tr style=\"text-align: right;\">\n",
       "      <th></th>\n",
       "      <th>GrLivArea</th>\n",
       "      <th>OverallQual</th>\n",
       "    </tr>\n",
       "  </thead>\n",
       "  <tbody>\n",
       "    <tr>\n",
       "      <th>0</th>\n",
       "      <td>1710</td>\n",
       "      <td>7</td>\n",
       "    </tr>\n",
       "    <tr>\n",
       "      <th>1</th>\n",
       "      <td>1262</td>\n",
       "      <td>6</td>\n",
       "    </tr>\n",
       "    <tr>\n",
       "      <th>2</th>\n",
       "      <td>1786</td>\n",
       "      <td>7</td>\n",
       "    </tr>\n",
       "    <tr>\n",
       "      <th>3</th>\n",
       "      <td>1717</td>\n",
       "      <td>7</td>\n",
       "    </tr>\n",
       "    <tr>\n",
       "      <th>4</th>\n",
       "      <td>2198</td>\n",
       "      <td>8</td>\n",
       "    </tr>\n",
       "    <tr>\n",
       "      <th>...</th>\n",
       "      <td>...</td>\n",
       "      <td>...</td>\n",
       "    </tr>\n",
       "    <tr>\n",
       "      <th>1455</th>\n",
       "      <td>1647</td>\n",
       "      <td>6</td>\n",
       "    </tr>\n",
       "    <tr>\n",
       "      <th>1456</th>\n",
       "      <td>2073</td>\n",
       "      <td>6</td>\n",
       "    </tr>\n",
       "    <tr>\n",
       "      <th>1457</th>\n",
       "      <td>2340</td>\n",
       "      <td>7</td>\n",
       "    </tr>\n",
       "    <tr>\n",
       "      <th>1458</th>\n",
       "      <td>1078</td>\n",
       "      <td>5</td>\n",
       "    </tr>\n",
       "    <tr>\n",
       "      <th>1459</th>\n",
       "      <td>1256</td>\n",
       "      <td>5</td>\n",
       "    </tr>\n",
       "  </tbody>\n",
       "</table>\n",
       "<p>1460 rows × 2 columns</p>\n",
       "</div>"
      ],
      "text/plain": [
       "      GrLivArea  OverallQual\n",
       "0          1710            7\n",
       "1          1262            6\n",
       "2          1786            7\n",
       "3          1717            7\n",
       "4          2198            8\n",
       "...         ...          ...\n",
       "1455       1647            6\n",
       "1456       2073            6\n",
       "1457       2340            7\n",
       "1458       1078            5\n",
       "1459       1256            5\n",
       "\n",
       "[1460 rows x 2 columns]"
      ]
     },
     "metadata": {},
     "output_type": "display_data"
    },
    {
     "data": {
      "text/plain": [
       "0       208500\n",
       "1       181500\n",
       "2       223500\n",
       "3       140000\n",
       "4       250000\n",
       "         ...  \n",
       "1455    175000\n",
       "1456    210000\n",
       "1457    266500\n",
       "1458    142125\n",
       "1459    147500\n",
       "Name: SalePrice, Length: 1460, dtype: int64"
      ]
     },
     "metadata": {},
     "output_type": "display_data"
    }
   ],
   "source": [
    "display(X_multi)\n",
    "display(Y_multi)"
   ]
  },
  {
   "cell_type": "code",
   "execution_count": 49,
   "id": "f34ddc82-a284-4a99-af0d-f66f344938ec",
   "metadata": {},
   "outputs": [
    {
     "name": "stdout",
     "output_type": "stream",
     "text": [
      "      GrLivArea  OverallQual\n",
      "0      1.807001  -545.221740\n",
      "1      0.954156  -545.945056\n",
      "2      1.951680  -545.221740\n",
      "3      1.820327  -545.221740\n",
      "4      2.735994  -544.498425\n",
      "...         ...          ...\n",
      "1455   1.687070  -545.945056\n",
      "1456   2.498034  -545.945056\n",
      "1457   3.006315  -545.221740\n",
      "1458   0.603880  -546.668371\n",
      "1459   0.942734  -546.668371\n",
      "\n",
      "[1460 rows x 2 columns]\n",
      "0       208497.721834\n",
      "1       181497.721834\n",
      "2       223497.721834\n",
      "3       139997.721834\n",
      "4       249997.721834\n",
      "            ...      \n",
      "1455    174997.721834\n",
      "1456    209997.721834\n",
      "1457    266497.721834\n",
      "1458    142122.721834\n",
      "1459    147497.721834\n",
      "Name: SalePrice, Length: 1460, dtype: float64\n"
     ]
    }
   ],
   "source": [
    "# Normalizing datqa\n",
    "X_multi_normalize = (X_multi - np.mean(X_multi))/np.std(X_multi)\n",
    "Y_multi_normalize = Y_multi - np.mean(Y_multi)/np.std(Y_multi)\n",
    "print(X_multi_normalize)\n",
    "print(Y_multi_normalize)"
   ]
  },
  {
   "cell_type": "code",
   "execution_count": 50,
   "id": "73af0190-8ada-43d5-b5ce-392629087f3c",
   "metadata": {},
   "outputs": [
    {
     "name": "stdout",
     "output_type": "stream",
     "text": [
      "(1460, 2) 0       208497.721834\n",
      "1       181497.721834\n",
      "2       223497.721834\n",
      "3       139997.721834\n",
      "4       249997.721834\n",
      "            ...      \n",
      "1455    174997.721834\n",
      "1456    209997.721834\n",
      "1457    266497.721834\n",
      "1458    142122.721834\n",
      "1459    147497.721834\n",
      "Name: SalePrice, Length: 1460, dtype: float64\n",
      "(2, 1460) (1, 1460)\n"
     ]
    }
   ],
   "source": [
    "# Transposing shape\n",
    "print(X_multi_normalize.shape, Y_multi_normalize)\n",
    "X_multi_normalize = np.array(X_multi_normalize).T\n",
    "Y_multi_normalize = np.array(Y_multi_normalize).reshape((1,len(Y_multi_normalize)))\n",
    "print(X_multi_normalize.shape,Y_multi_normalize.shape)                                                    "
   ]
  },
  {
   "cell_type": "code",
   "execution_count": null,
   "id": "9f8cf194-e27d-4994-90ac-d86180bc9cc1",
   "metadata": {},
   "outputs": [],
   "source": []
  },
  {
   "cell_type": "code",
   "execution_count": null,
   "id": "2f7aaf11-e21c-4e73-80ae-a4881e3b9ac7",
   "metadata": {},
   "outputs": [],
   "source": []
  }
 ],
 "metadata": {
  "kernelspec": {
   "display_name": "Python 3 (ipykernel)",
   "language": "python",
   "name": "python3"
  },
  "language_info": {
   "codemirror_mode": {
    "name": "ipython",
    "version": 3
   },
   "file_extension": ".py",
   "mimetype": "text/x-python",
   "name": "python",
   "nbconvert_exporter": "python",
   "pygments_lexer": "ipython3",
   "version": "3.9.6"
  }
 },
 "nbformat": 4,
 "nbformat_minor": 5
}

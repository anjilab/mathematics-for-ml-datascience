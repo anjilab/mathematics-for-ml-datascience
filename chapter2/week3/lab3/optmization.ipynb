{
 "cells": [
  {
   "cell_type": "code",
   "execution_count": 3,
   "id": "08fa9758-0896-4a15-999f-e338931a20c0",
   "metadata": {},
   "outputs": [],
   "source": [
    "import numpy as np\n",
    "import matplotlib.pyplot as plt\n",
    "from matplotlib.gridspec import GridSpec"
   ]
  },
  {
   "cell_type": "code",
   "execution_count": 9,
   "id": "37578091-39b0-4bff-9746-36bf5222475c",
   "metadata": {},
   "outputs": [
    {
     "name": "stdout",
     "output_type": "stream",
     "text": [
      "4.483028795149379 4.328032424395115 5.343657424395115\n"
     ]
    }
   ],
   "source": [
    "# FUNCTION IN ONE VARIABLE, to optmize f(x) we first take initial point, find 1st & 2nd derivative\n",
    "def function_1(x):\n",
    "    return np.exp(x) - np.log(x)\n",
    "def function_1_first_derivative(x):\n",
    "    return np.exp(x) - 1/x\n",
    "def function_1_second_derivative(x):\n",
    "    return np.exp(x) +1/(x**2)\n",
    "\n",
    "initial_point_x_0 = 1.6\n",
    "function_val = function_1(initial_point_x_0)\n",
    "first_derivative = function_1_first_derivative(initial_point_x_0)\n",
    "second_derivative = function_1_second_derivative(initial_point_x_0)\n",
    "print(function_val, first_derivative, second_derivative)"
   ]
  },
  {
   "cell_type": "code",
   "execution_count": 11,
   "id": "09e8d290-52f5-4f28-8acd-abdbeaf1339c",
   "metadata": {},
   "outputs": [
    {
     "data": {
      "text/plain": [
       "(<Figure size 800x400 with 1 Axes>, <Axes: xlabel='$x$', ylabel='$f\\\\,(x)$'>)"
      ]
     },
     "execution_count": 11,
     "metadata": {},
     "output_type": "execute_result"
    },
    {
     "data": {
      "image/png": "[encoded data removed]",
      "text/plain": [
       "<Figure size 800x400 with 1 Axes>"
      ]
     },
     "metadata": {},
     "output_type": "display_data"
    }
   ],
   "source": [
    "def plot_f(x_range, y_range, f, ox_position):\n",
    "    x = np.linspace(*x_range, 100)\n",
    "    fig, ax = plt.subplots(1,1,figsize=(8,4))\n",
    "\n",
    "    ax.set_ylim(*y_range)\n",
    "    ax.set_xlim(*x_range)\n",
    "    ax.set_ylabel('$f\\,(x)$')\n",
    "    ax.set_xlabel('$x$')\n",
    "    ax.spines['left'].set_position('zero')\n",
    "    ax.spines['bottom'].set_position(('data', ox_position))\n",
    "    ax.spines['right'].set_color('none')\n",
    "    ax.spines['top'].set_color('none')\n",
    "    ax.xaxis.set_ticks_position('bottom')\n",
    "    ax.yaxis.set_ticks_position('left')\n",
    "    ax.autoscale(enable=False)\n",
    "    \n",
    "    pf = ax.plot(x, f(x), 'k')\n",
    "    \n",
    "    return fig, ax\n",
    "\n",
    "plot_f([0.001, 2.5], [-0.3, 13], function_1, 0.0)"
   ]
  },
  {
   "cell_type": "code",
   "execution_count": 13,
   "id": "b4ee4930-6eda-4469-902c-ee88a4a52dea",
   "metadata": {},
   "outputs": [
    {
     "name": "stdout",
     "output_type": "stream",
     "text": [
      "0.7900617721793732\n",
      "0.5436324685389214\n",
      "0.5665913613835818\n",
      "0.567143002403454\n",
      "0.5671432904097056\n",
      "0.5671432904097838\n",
      "0.5671432904097838\n",
      "0.5671432904097838\n",
      "0.5671432904097838\n",
      "0.5671432904097838\n",
      "0.5671432904097838\n",
      "0.5671432904097838\n",
      "0.5671432904097838\n",
      "0.5671432904097838\n",
      "0.5671432904097838\n",
      "0.5671432904097838\n",
      "0.5671432904097838\n",
      "0.5671432904097838\n",
      "0.5671432904097838\n",
      "0.5671432904097838\n",
      "0.5671432904097838\n",
      "0.5671432904097838\n",
      "0.5671432904097838\n",
      "0.5671432904097838\n",
      "0.5671432904097838\n",
      "Newton's method result: x_min = 0.5671432904097838\n"
     ]
    }
   ],
   "source": [
    "#Newtons method is used to optimize the function in one or two variables, iteratively for n times, initialpoint - (first_derivative/second_derivative)\n",
    "def newtons_method(function_1_first_derivative, function_1_second_derivative, initial_x, num_iterations): \n",
    "    for iteration in range(0,num_iterations):\n",
    "        initial_x = initial_x - (function_1_first_derivative(initial_x)/function_1_second_derivative(initial_x))\n",
    "        print(initial_x)\n",
    "    return initial_x\n",
    "\n",
    "num_iterations = 25;\n",
    "initial_x = 1.6\n",
    "newtons_example_1 = newtons_method(function_1_first_derivative, function_1_second_derivative, initial_x, num_iterations)\n",
    "print(\"Newton's method result: x_min =\", newtons_example_1)\n",
    "        \n",
    "    "
   ]
  },
  {
   "cell_type": "code",
   "execution_count": 22,
   "id": "22000d7e-9e73-456a-bc56-99e2920d73ad",
   "metadata": {},
   "outputs": [
    {
     "name": "stdout",
     "output_type": "stream",
     "text": [
      "1.6  Before \n",
      "0.7343935151209771\n",
      "-0.13121296975804597\n",
      "-0.996819454637069\n",
      "-1.862425939516092\n",
      "-2.7280324243951153\n",
      "-3.593638909274138\n",
      "-4.459245394153161\n",
      "-5.324851879032184\n",
      "-6.1904583639112065\n",
      "-7.056064848790229\n",
      "-7.921671333669252\n",
      "-8.787277818548276\n",
      "-9.6528843034273\n",
      "-10.518490788306323\n",
      "-11.384097273185347\n",
      "-12.24970375806437\n",
      "-13.115310242943394\n",
      "-13.980916727822418\n",
      "-14.846523212701442\n",
      "-15.712129697580465\n",
      "-16.57773618245949\n",
      "-17.443342667338513\n",
      "-18.308949152217536\n",
      "-19.17455563709656\n",
      "-20.040162121975584\n",
      "Gradient descent result: x_min = -20.040162121975584\n",
      "After 1.6\n"
     ]
    }
   ],
   "source": [
    "def gradient_descent(first_derivative, x_initial, learning_rate=0.1, iterations=100):\n",
    "    for i in range(iterations):\n",
    "        x_initial = x_initial - learning_rate * first_derivative\n",
    "        print(x_initial)\n",
    "    return x_initialN\n",
    "iterations = 25\n",
    "x_initial = 1.6\n",
    "learning_rate = 0.1\n",
    "print(x_initial,\" Before \")\n",
    "gd_example_1 = gradient_descent(first_derivative, x_initial, learning_rate, iterations)\n",
    "print(\"Gradient descent result: x_min =\", gd_example_1) \n",
    "print(\"After\", x_initial)\n",
    "    "
   ]
  },
  {
   "cell_type": "code",
   "execution_count": 23,
   "id": "b99843b2-575e-4e79-b16e-fdf6241b9488",
   "metadata": {},
   "outputs": [
    {
     "ename": "NameError",
     "evalue": "name 'f_example_2' is not defined",
     "output_type": "error",
     "traceback": [
      "\u001b[0;31m---------------------------------------------------------------------------\u001b[0m",
      "\u001b[0;31mNameError\u001b[0m                                 Traceback (most recent call last)",
      "Cell \u001b[0;32mIn[23], line 14\u001b[0m\n\u001b[1;32m     11\u001b[0m     \u001b[38;5;28;01mreturn\u001b[39;00m hessian_f\n\u001b[1;32m     13\u001b[0m initial_x, initial_y \u001b[38;5;241m=\u001b[39m \u001b[38;5;241m4\u001b[39m, \u001b[38;5;241m4\u001b[39m\n\u001b[0;32m---> 14\u001b[0m \u001b[38;5;28mprint\u001b[39m(\u001b[38;5;124mf\u001b[39m\u001b[38;5;124m\"\u001b[39m\u001b[38;5;124mf\u001b[39m\u001b[38;5;132;01m{\u001b[39;00minitial_x,\u001b[38;5;250m \u001b[39minitial_y\u001b[38;5;132;01m}\u001b[39;00m\u001b[38;5;124m = \u001b[39m\u001b[38;5;132;01m{\u001b[39;00mf_example_2(initial_x,\u001b[38;5;250m \u001b[39minitial_y)\u001b[38;5;132;01m}\u001b[39;00m\u001b[38;5;124m\"\u001b[39m)\n\u001b[1;32m     15\u001b[0m \u001b[38;5;28mprint\u001b[39m(\u001b[38;5;124mf\u001b[39m\u001b[38;5;124m\"\u001b[39m\u001b[38;5;124mgrad f\u001b[39m\u001b[38;5;132;01m{\u001b[39;00minitial_x,\u001b[38;5;250m \u001b[39minitial_y\u001b[38;5;132;01m}\u001b[39;00m\u001b[38;5;124m = \u001b[39m\u001b[38;5;130;01m\\n\u001b[39;00m\u001b[38;5;132;01m{\u001b[39;00mgrad_f_example_2(initial_x,\u001b[38;5;250m \u001b[39minitial_y)\u001b[38;5;132;01m}\u001b[39;00m\u001b[38;5;124m\"\u001b[39m)\n\u001b[1;32m     16\u001b[0m \u001b[38;5;28mprint\u001b[39m(\u001b[38;5;124mf\u001b[39m\u001b[38;5;124m\"\u001b[39m\u001b[38;5;124mH\u001b[39m\u001b[38;5;132;01m{\u001b[39;00minitial_x,\u001b[38;5;250m \u001b[39minitial_y\u001b[38;5;132;01m}\u001b[39;00m\u001b[38;5;124m = \u001b[39m\u001b[38;5;130;01m\\n\u001b[39;00m\u001b[38;5;132;01m{\u001b[39;00mhessian_f_example_2(initial_x,\u001b[38;5;250m \u001b[39minitial_y)\u001b[38;5;132;01m}\u001b[39;00m\u001b[38;5;124m\"\u001b[39m)\n",
      "\u001b[0;31mNameError\u001b[0m: name 'f_example_2' is not defined"
     ]
    }
   ],
   "source": [
    "def function_2(x,y):\n",
    "    return x**4 + 0.8*y**4 + 4*x**2 + 2*y**2 - x*y -0.2*x**2*y\n",
    "def grad_f_example_2(x, y):\n",
    "    return np.array([[4*x**3 + 8*x - y - 0.4*x*y],\n",
    "                     [3.2*y**3 +4*y - x - 0.2*x**2]])\n",
    "#Hessian matrix for 2 variable, it is matrix, where a11 = df^2/dx^2, a12 = d^2f/dx.dy , a21 = d^2f/dy.dx = a22 = df^2/dy^2 \n",
    "# symmetric matrix calculates 2nd order derivative, significance is to calculate the maxima/minima for multivariable function\n",
    "def hessian_f_example_2(x, y):\n",
    "    hessian_f = np.array([[12*x**2 + 8 - 0.4*y, -1 - 0.4*x],\n",
    "                         [-1 - 0.4*x, 9.6*y**2 + 4]])\n",
    "    return hessian_f\n",
    "\n",
    "initial_x, initial_y = 4, 4\n",
    "print(f\"f{initial_x, initial_y} = {function_2(initial_x, initial_y)}\")\n",
    "print(f\"grad f{initial_x, initial_y} = \\n{grad_f_example_2(initial_x, initial_y)}\")\n",
    "print(f\"H{initial_x, initial_y} = \\n{hessian_f_example_2(initial_x, initial_y)}\")\n"
   ]
  },
  {
   "cell_type": "code",
   "execution_count": null,
   "id": "d3d0e7bd-08e7-46ea-94ae-936f94d82bd5",
   "metadata": {},
   "outputs": [],
   "source": []
  }
 ],
 "metadata": {
  "kernelspec": {
   "display_name": "Python 3 (ipykernel)",
   "language": "python",
   "name": "python3"
  },
  "language_info": {
   "codemirror_mode": {
    "name": "ipython",
    "version": 3
   },
   "file_extension": ".py",
   "mimetype": "text/x-python",
   "name": "python",
   "nbconvert_exporter": "python",
   "pygments_lexer": "ipython3",
   "version": "3.9.6"
  }
 },
 "nbformat": 4,
 "nbformat_minor": 5
}

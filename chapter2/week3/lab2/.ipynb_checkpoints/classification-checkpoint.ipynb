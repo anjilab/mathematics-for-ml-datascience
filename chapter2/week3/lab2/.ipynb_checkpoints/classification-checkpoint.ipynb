{
 "cells": [
  {
   "cell_type": "code",
   "execution_count": 7,
   "id": "04456d85-f14e-48e1-82bc-57fdd91e4fa4",
   "metadata": {},
   "outputs": [],
   "source": [
    "import numpy as np\n",
    "import matplotlib.pyplot as plt\n",
    "from matplotlib import colors\n",
    "# to create datasets from sklearn \n",
    "from sklearn.datasets import make_blobs "
   ]
  },
  {
   "cell_type": "code",
   "execution_count": 10,
   "id": "965b88c0-61dd-441c-aa53-abe3cdc5888a",
   "metadata": {},
   "outputs": [],
   "source": [
    "np.random.seed(3) # making sure same instance of random number generation takes place."
   ]
  },
  {
   "cell_type": "code",
   "execution_count": 18,
   "id": "25ccaa25-358a-496b-8ba5-8b59741784f3",
   "metadata": {},
   "outputs": [
    {
     "data": {
      "text/plain": [
       "[]"
      ]
     },
     "execution_count": 18,
     "metadata": {},
     "output_type": "execute_result"
    },
    {
     "data": {
      "image/png": "[encoded data removed]",
      "text/plain": [
       "<Figure size 640x480 with 1 Axes>"
      ]
     },
     "metadata": {},
     "output_type": "display_data"
    }
   ],
   "source": [
    "fig, ax = plt.subplots()\n",
    "xmin, xmax = -0.2, 1.4\n",
    "x_line = np.arange(xmin, xmax, 0.1)\n",
    "# see graph below, making points and coloring them\n",
    "ax.scatter(0, 0, color=\"b\")\n",
    "ax.scatter(0, 1, color=\"r\")\n",
    "ax.scatter(1, 0, color=\"b\")\n",
    "ax.scatter(1, 1, color=\"b\")\n",
    "ax.set_xlim([xmin, xmax])\n",
    "ax.set_ylim([-0.1, 1.1])\n",
    "ax.set_xlabel('$x_1$')\n",
    "ax.set_ylabel('$x_2$')\n",
    "# One of the lines which can be used as a decision boundary to separate two classes.\n",
    "ax.plot(x_line, x_line + 0.5, color=\"black\")\n",
    "plt.plot()"
   ]
  },
  {
   "cell_type": "code",
   "execution_count": 45,
   "id": "4ab0b02b-59f6-4e4b-b2fb-71824bbe8728",
   "metadata": {},
   "outputs": [
    {
     "name": "stdout",
     "output_type": "stream",
     "text": [
      "[[0 1 1 0 0 1 0 1 0 1 0 1 0 1 0 0 1 0 1 1 1 0 1 0 1 0 0 1 0 0]\n",
      " [0 0 1 1 1 0 1 0 1 0 1 1 1 0 0 0 0 1 1 1 0 0 0 1 1 0 0 1 1 0]]\n",
      "The X feature has: x1 and x2 in rows respectively [[0 1 1 0 0 1 0 1 0 1 0 1 0 1 0 0 1 0 1 1 1 0 1 0 1 0 0 1 0 0]\n",
      " [0 0 1 1 1 0 1 0 1 0 1 1 1 0 0 0 0 1 1 1 0 0 0 1 1 0 0 1 1 0]]\n",
      "The Y output/target has class 0 for blue and red for 1: [[0 0 0 1 1 0 1 0 1 0 1 0 1 0 0 0 0 1 0 0 0 0 0 1 0 0 0 0 1 0]]\n",
      "First x1,x2 for 1st data point will be 0 0 Their corresponding target is: 0\n",
      "First x1,x2 for 2nt data point will be 1 0 Their corresponding target is: 0\n",
      "First x1,x2 for last data point will be 0 0 Their corresponding target is: 0\n",
      "Shape is (2, 30)\n",
      "Shape is (1, 30)\n",
      "Training examples 30\n"
     ]
    }
   ],
   "source": [
    "# Preparing data sets: where rows contains features x1, x2 and number of columns = number of datapoints.\n",
    "# so here 2 rows meaning 2 features, x1(1) = X[0][0] and x2(1) = X[1][0] and corresponding target will be y = Y[0][0]\n",
    "# similary for last feature will be x1(30) = X[0][29] and x2(30) = X[1][29] and corresponding target will be y = Y[0][29]\n",
    "\n",
    "number_of_data_points = 30\n",
    "\n",
    "X= np.random.randint(0,2,(2,number_of_data_points))\n",
    "print(X)\n",
    "Y = np.logical_and(X[0] == 0, X[1] == 1).astype(int).reshape((1, number_of_data_points))\n",
    "print(\"The X feature has: x1 and x2 in rows respectively\",X)\n",
    "print(\"The Y output/target has class 0 for blue and red for 1:\", Y)\n",
    "\n",
    "print(\"First x1,x2 for 1st data point will be\",X[0][0], X[1][0], \"Their corresponding target is:\", Y[0][0])\n",
    "print(\"First x1,x2 for 2nt data point will be\",X[0][1], X[1][1], \"Their corresponding target is:\", Y[0][1])\n",
    "print(\"First x1,x2 for last data point (30) will be\",X[0][29], X[1][29], \"Their corresponding target is:\", Y[0][29])\n",
    "\n",
    " \n",
    "print(\"Shape is\",X.shape)\n",
    "print(\"Shape is\", Y.shape)\n",
    "print(\"Training examples\", X.shape[1])"
   ]
  },
  {
   "cell_type": "raw",
   "id": "02a84e3d-837d-4f80-a402-99ec49dc1df3",
   "metadata": {},
   "source": []
  },
  {
   "cell_type": "code",
   "execution_count": null,
   "id": "4ca090bc-1ed9-4cfe-baff-f52d67012f74",
   "metadata": {},
   "outputs": [],
   "source": []
  }
 ],
 "metadata": {
  "kernelspec": {
   "display_name": "Python 3 (ipykernel)",
   "language": "python",
   "name": "python3"
  },
  "language_info": {
   "codemirror_mode": {
    "name": "ipython",
    "version": 3
   },
   "file_extension": ".py",
   "mimetype": "text/x-python",
   "name": "python",
   "nbconvert_exporter": "python",
   "pygments_lexer": "ipython3",
   "version": "3.9.6"
  }
 },
 "nbformat": 4,
 "nbformat_minor": 5
}

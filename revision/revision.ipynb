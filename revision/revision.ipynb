{
 "cells": [
  {
   "cell_type": "code",
   "execution_count": 4,
   "id": "db53faa5-f9f1-4c1c-a09d-9f97e0cc2c64",
   "metadata": {},
   "outputs": [],
   "source": [
    "#Chapter 1 week 1\n",
    "# to make an 1d array\n",
    "import numpy as np\n",
    "age = np.array([20,23,45])\n",
    "age_np_arange = np.arange(1,20,3) # begins with 1, ends with 20, incremented by 3"
   ]
  },
  {
   "cell_type": "code",
   "execution_count": 5,
   "id": "aa7c1025-62e6-437d-8b0e-0b1b49df76c9",
   "metadata": {},
   "outputs": [
    {
     "name": "stdout",
     "output_type": "stream",
     "text": [
      "int64\n"
     ]
    }
   ],
   "source": [
    "print(age.dtype)"
   ]
  },
  {
   "cell_type": "code",
   "execution_count": 8,
   "id": "141626e3-0d5a-471d-b5e2-0ddaf9eb8407",
   "metadata": {},
   "outputs": [
    {
     "name": "stdout",
     "output_type": "stream",
     "text": [
      "[[5]\n",
      " [7]]\n",
      "int64\n",
      "(2, 1)\n"
     ]
    }
   ],
   "source": [
    "vector_a = np.array([[5],[7]])\n",
    "print(vector_a)\n",
    "print(vector_a.dtype)\n",
    "print(vector_a.shape)"
   ]
  },
  {
   "cell_type": "code",
   "execution_count": 14,
   "id": "4cf744b4-8d3d-4272-9f83-ccc823061043",
   "metadata": {},
   "outputs": [
    {
     "name": "stdout",
     "output_type": "stream",
     "text": [
      "(3,)\n",
      "3\n",
      "1\n"
     ]
    }
   ],
   "source": [
    "one_d_array = np.array([20,25,40])\n",
    "print(one_d_array.shape)\n",
    "print(one_d_array.size)\n",
    "print(one_d_array.ndim)"
   ]
  },
  {
   "cell_type": "code",
   "execution_count": 17,
   "id": "8864ef4e-2b5f-4e19-b119-355793ea0387",
   "metadata": {},
   "outputs": [
    {
     "name": "stdout",
     "output_type": "stream",
     "text": [
      "[[20]\n",
      " [25]\n",
      " [40]]\n",
      "(3, 1)\n",
      "3\n",
      "2\n"
     ]
    }
   ],
   "source": [
    "reshape_one_d_to_two_d_array = np.reshape(one_d_array, (3,1))\n",
    "print(reshape_one_d_to_two_d_array)\n",
    "print(reshape_one_d_to_two_d_array.shape)\n",
    "print(reshape_one_d_to_two_d_array.size)\n",
    "print(reshape_one_d_to_two_d_array.ndim)"
   ]
  },
  {
   "cell_type": "code",
   "execution_count": 16,
   "id": "a4d35427-6c2c-408f-a0c9-567c35193833",
   "metadata": {},
   "outputs": [
    {
     "name": "stdout",
     "output_type": "stream",
     "text": [
      "(4,)\n",
      "4\n",
      "1\n"
     ]
    }
   ],
   "source": [
    "height = np.array([280,450,360,450])\n",
    "print(height.shape)\n",
    "print(height.size)\n",
    "print(height.ndim)"
   ]
  },
  {
   "cell_type": "code",
   "execution_count": 20,
   "id": "7ab9e3e0-9722-4059-a3ac-f3191be103f6",
   "metadata": {},
   "outputs": [
    {
     "name": "stdout",
     "output_type": "stream",
     "text": [
      "[[12 24 36]\n",
      " [13 26 39]]\n",
      "(2, 3)\n",
      "6\n",
      "2\n"
     ]
    }
   ],
   "source": [
    "two_d_array = np.array([[12,24,36],[13,26,39]])\n",
    "print(two_d_array)\n",
    "print(two_d_array.shape)\n",
    "print(two_d_array.size)\n",
    "print(two_d_array.ndim)"
   ]
  },
  {
   "cell_type": "code",
   "execution_count": 24,
   "id": "07d412e6-0c76-412c-9b22-fc798e8b94e9",
   "metadata": {},
   "outputs": [
    {
     "name": "stdout",
     "output_type": "stream",
     "text": [
      "(2, 2) (2,)\n",
      "Matrix A: [[3. 1.]\n",
      " [1. 2.]]\n",
      "Matrix B: [15. 10.]\n",
      "The solutions are:  [4. 3.]\n"
     ]
    }
   ],
   "source": [
    "# to find solution of linear equation  for eq 1: 3u+z = 15 & u+2z =10 \n",
    "coeff_a = np.array([[3,1],[1,2]], dtype=np.dtype(float))\n",
    "b = np.array([15,10], dtype=np.dtype(float))\n",
    "print(coeff_a.shape, b.shape)\n",
    "print(\"Matrix A:\", coeff_a)\n",
    "print(\"Matrix B:\", b)\n",
    "# to find x\n",
    "X = np.linalg.solve(coeff_a,b)\n",
    "print(\"The solutions are: \", X)"
   ]
  },
  {
   "cell_type": "code",
   "execution_count": null,
   "id": "3157f036-bb4e-4694-8188-3c814d6a677c",
   "metadata": {},
   "outputs": [],
   "source": [
    "matrix_b = np.array([[1,2,3],[2,4,6],[3,4,5]])\n"
   ]
  },
  {
   "cell_type": "code",
   "execution_count": null,
   "id": "22217c2d-c36b-4b35-9fd5-9d5118072084",
   "metadata": {},
   "outputs": [],
   "source": []
  },
  {
   "cell_type": "code",
   "execution_count": null,
   "id": "a61976ca-6fa7-47e5-96c4-c9440fad4227",
   "metadata": {},
   "outputs": [],
   "source": []
  },
  {
   "cell_type": "code",
   "execution_count": null,
   "id": "e45fdad5-3e52-40ea-851a-e94f50d2ca3d",
   "metadata": {},
   "outputs": [],
   "source": []
  },
  {
   "cell_type": "code",
   "execution_count": null,
   "id": "fc5578f4-3ba2-426a-84b3-06b14f8af50c",
   "metadata": {},
   "outputs": [],
   "source": []
  },
  {
   "cell_type": "code",
   "execution_count": null,
   "id": "9947bc59-dd0a-4690-a6ed-0c12bd0a4927",
   "metadata": {},
   "outputs": [],
   "source": []
  },
  {
   "cell_type": "code",
   "execution_count": null,
   "id": "0358890c-da4d-409c-8a4e-fe1230f386bd",
   "metadata": {},
   "outputs": [],
   "source": []
  },
  {
   "cell_type": "code",
   "execution_count": null,
   "id": "e6e7cde3-059d-4984-8ba7-35e7b3a196e4",
   "metadata": {},
   "outputs": [],
   "source": []
  },
  {
   "cell_type": "code",
   "execution_count": null,
   "id": "719ab53c-e55a-45fc-b37b-ff60e0228166",
   "metadata": {},
   "outputs": [],
   "source": []
  },
  {
   "cell_type": "code",
   "execution_count": null,
   "id": "deaf3dfb-e902-4c5b-813b-ea1f75f2d980",
   "metadata": {},
   "outputs": [],
   "source": []
  },
  {
   "cell_type": "code",
   "execution_count": null,
   "id": "d0fa2b8b-21b9-4d97-8fde-4c552ba1f6ad",
   "metadata": {},
   "outputs": [],
   "source": []
  },
  {
   "cell_type": "code",
   "execution_count": null,
   "id": "2682a6a8-d030-4a36-9e42-d7ce5dccdfdb",
   "metadata": {},
   "outputs": [],
   "source": []
  },
  {
   "cell_type": "code",
   "execution_count": null,
   "id": "f9b256f8-a575-47c5-b72b-4d15182e975a",
   "metadata": {},
   "outputs": [],
   "source": []
  }
 ],
 "metadata": {
  "kernelspec": {
   "display_name": "Python 3 (ipykernel)",
   "language": "python",
   "name": "python3"
  },
  "language_info": {
   "codemirror_mode": {
    "name": "ipython",
    "version": 3
   },
   "file_extension": ".py",
   "mimetype": "text/x-python",
   "name": "python",
   "nbconvert_exporter": "python",
   "pygments_lexer": "ipython3",
   "version": "3.9.6"
  }
 },
 "nbformat": 4,
 "nbformat_minor": 5
}
